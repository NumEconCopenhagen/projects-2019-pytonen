{
 "cells": [
  {
   "cell_type": "markdown",
   "metadata": {},
   "source": [
    "# Data Project: Employment Shares in Denmark "
   ]
  },
  {
   "cell_type": "markdown",
   "metadata": {},
   "source": [
    "## Introduction "
   ]
  },
  {
   "cell_type": "markdown",
   "metadata": {},
   "source": [
    "Our data project seeks to investigate the development in the employment in Denmark across regions and gender.\n",
    "To do so, we import the table RAS201 from Statistics Denmark. The tabel shows data from 2008-2017. It specifically gives an overview of the amount of people in different socio economical groups (Employed, unemployed or outside labour force) within different age groups, ancestry groups and areas (City, municipality or region). For this analysis, we are interested in region, gender and employment status."
   ]
  },
  {
   "cell_type": "markdown",
   "metadata": {},
   "source": [
    "## Import data "
   ]
  },
  {
   "cell_type": "code",
   "execution_count": 1,
   "metadata": {},
   "outputs": [],
   "source": [
    "# Importing relevant packages\n",
    "import pandas as pd\n",
    "import pydst\n",
    "dst = pydst.Dst(lang='en')\n",
    "import matplotlib.pyplot as plt"
   ]
  },
  {
   "cell_type": "markdown",
   "metadata": {},
   "source": [
    "We import the table RAS201 from Statistics Denmark by using the pydst package (See Read me-file for instructions on how to download pydst). All variables are imported, which is specified by the '*'"
   ]
  },
  {
   "cell_type": "markdown",
   "metadata": {},
   "source": [
    "Since we import more than 300.000 rows it might take some time to import the data from Statictics Denmark. "
   ]
  },
  {
   "cell_type": "code",
   "execution_count": 2,
   "metadata": {},
   "outputs": [],
   "source": [
    "# Import data \n",
    "Emp = dst.get_data(table_id = 'RAS201', variables = {'OMRÅDE':['*'], 'TID':['*'], 'ALDER':['*'], 'HERKOMST':['*'], 'KØN':['*'], 'SOCIO': ['*']})"
   ]
  },
  {
   "cell_type": "code",
   "execution_count": 3,
   "metadata": {},
   "outputs": [
    {
     "data": {
      "text/html": [
       "<div>\n",
       "<style scoped>\n",
       "    .dataframe tbody tr th:only-of-type {\n",
       "        vertical-align: middle;\n",
       "    }\n",
       "\n",
       "    .dataframe tbody tr th {\n",
       "        vertical-align: top;\n",
       "    }\n",
       "\n",
       "    .dataframe thead th {\n",
       "        text-align: right;\n",
       "    }\n",
       "</style>\n",
       "<table border=\"1\" class=\"dataframe\">\n",
       "  <thead>\n",
       "    <tr style=\"text-align: right;\">\n",
       "      <th></th>\n",
       "      <th>OMRÅDE</th>\n",
       "      <th>TID</th>\n",
       "      <th>ALDER</th>\n",
       "      <th>HERKOMST</th>\n",
       "      <th>KØN</th>\n",
       "      <th>SOCIO</th>\n",
       "      <th>INDHOLD</th>\n",
       "    </tr>\n",
       "  </thead>\n",
       "  <tbody>\n",
       "    <tr>\n",
       "      <th>0</th>\n",
       "      <td>Horsens</td>\n",
       "      <td>2014</td>\n",
       "      <td>Under 16 years</td>\n",
       "      <td>Descendants from non-western countries</td>\n",
       "      <td>Women</td>\n",
       "      <td>Outside the labour force</td>\n",
       "      <td>509</td>\n",
       "    </tr>\n",
       "    <tr>\n",
       "      <th>1</th>\n",
       "      <td>Horsens</td>\n",
       "      <td>2011</td>\n",
       "      <td>Under 16 years</td>\n",
       "      <td>Descendants from non-western countries</td>\n",
       "      <td>Men</td>\n",
       "      <td>Outside the labour force</td>\n",
       "      <td>489</td>\n",
       "    </tr>\n",
       "    <tr>\n",
       "      <th>2</th>\n",
       "      <td>Horsens</td>\n",
       "      <td>2012</td>\n",
       "      <td>Under 16 years</td>\n",
       "      <td>Descendants from non-western countries</td>\n",
       "      <td>Men</td>\n",
       "      <td>Outside the labour force</td>\n",
       "      <td>501</td>\n",
       "    </tr>\n",
       "    <tr>\n",
       "      <th>3</th>\n",
       "      <td>Horsens</td>\n",
       "      <td>2013</td>\n",
       "      <td>Under 16 years</td>\n",
       "      <td>Descendants from non-western countries</td>\n",
       "      <td>Men</td>\n",
       "      <td>Outside the labour force</td>\n",
       "      <td>490</td>\n",
       "    </tr>\n",
       "    <tr>\n",
       "      <th>4</th>\n",
       "      <td>Aarhus</td>\n",
       "      <td>2012</td>\n",
       "      <td>35-39 years</td>\n",
       "      <td>Descendants from non-western countries</td>\n",
       "      <td>Women</td>\n",
       "      <td>Employed</td>\n",
       "      <td>36</td>\n",
       "    </tr>\n",
       "  </tbody>\n",
       "</table>\n",
       "</div>"
      ],
      "text/plain": [
       "    OMRÅDE   TID           ALDER                                HERKOMST  \\\n",
       "0  Horsens  2014  Under 16 years  Descendants from non-western countries   \n",
       "1  Horsens  2011  Under 16 years  Descendants from non-western countries   \n",
       "2  Horsens  2012  Under 16 years  Descendants from non-western countries   \n",
       "3  Horsens  2013  Under 16 years  Descendants from non-western countries   \n",
       "4   Aarhus  2012     35-39 years  Descendants from non-western countries   \n",
       "\n",
       "     KØN                     SOCIO  INDHOLD  \n",
       "0  Women  Outside the labour force      509  \n",
       "1    Men  Outside the labour force      489  \n",
       "2    Men  Outside the labour force      501  \n",
       "3    Men  Outside the labour force      490  \n",
       "4  Women                  Employed       36  "
      ]
     },
     "execution_count": 3,
     "metadata": {},
     "output_type": "execute_result"
    }
   ],
   "source": [
    "# Show the first 5 rows of data in the dataset Emp\n",
    "Emp.head()"
   ]
  },
  {
   "cell_type": "markdown",
   "metadata": {},
   "source": [
    "The first line of data in the tabel above thus shows us that in 2014 there were 509 women under 16 in Horsens who descends from non-western countries that was outside the labour force. "
   ]
  },
  {
   "cell_type": "markdown",
   "metadata": {},
   "source": [
    "## Delete and rename columns "
   ]
  },
  {
   "cell_type": "markdown",
   "metadata": {},
   "source": [
    "We delete the columns indicating age, gender and ancestry since we are only interested in the development in the overall employment shares across the different regions of Denmark and employment shares dependent on gender."
   ]
  },
  {
   "cell_type": "code",
   "execution_count": 4,
   "metadata": {},
   "outputs": [],
   "source": [
    "# Delete columns that are not needed \n",
    "for v in ['ALDER','HERKOMST']: \n",
    "    del Emp[v]"
   ]
  },
  {
   "cell_type": "markdown",
   "metadata": {},
   "source": [
    "Furthermore we rename the remaining variables (columns). "
   ]
  },
  {
   "cell_type": "code",
   "execution_count": 5,
   "metadata": {},
   "outputs": [
    {
     "data": {
      "text/html": [
       "<div>\n",
       "<style scoped>\n",
       "    .dataframe tbody tr th:only-of-type {\n",
       "        vertical-align: middle;\n",
       "    }\n",
       "\n",
       "    .dataframe tbody tr th {\n",
       "        vertical-align: top;\n",
       "    }\n",
       "\n",
       "    .dataframe thead th {\n",
       "        text-align: right;\n",
       "    }\n",
       "</style>\n",
       "<table border=\"1\" class=\"dataframe\">\n",
       "  <thead>\n",
       "    <tr style=\"text-align: right;\">\n",
       "      <th></th>\n",
       "      <th>Region</th>\n",
       "      <th>Year</th>\n",
       "      <th>Sex</th>\n",
       "      <th>Status</th>\n",
       "      <th>Num_pers</th>\n",
       "    </tr>\n",
       "  </thead>\n",
       "  <tbody>\n",
       "    <tr>\n",
       "      <th>0</th>\n",
       "      <td>Horsens</td>\n",
       "      <td>2014</td>\n",
       "      <td>Women</td>\n",
       "      <td>Outside the labour force</td>\n",
       "      <td>509</td>\n",
       "    </tr>\n",
       "    <tr>\n",
       "      <th>1</th>\n",
       "      <td>Horsens</td>\n",
       "      <td>2011</td>\n",
       "      <td>Men</td>\n",
       "      <td>Outside the labour force</td>\n",
       "      <td>489</td>\n",
       "    </tr>\n",
       "    <tr>\n",
       "      <th>2</th>\n",
       "      <td>Horsens</td>\n",
       "      <td>2012</td>\n",
       "      <td>Men</td>\n",
       "      <td>Outside the labour force</td>\n",
       "      <td>501</td>\n",
       "    </tr>\n",
       "    <tr>\n",
       "      <th>3</th>\n",
       "      <td>Horsens</td>\n",
       "      <td>2013</td>\n",
       "      <td>Men</td>\n",
       "      <td>Outside the labour force</td>\n",
       "      <td>490</td>\n",
       "    </tr>\n",
       "    <tr>\n",
       "      <th>4</th>\n",
       "      <td>Aarhus</td>\n",
       "      <td>2012</td>\n",
       "      <td>Women</td>\n",
       "      <td>Employed</td>\n",
       "      <td>36</td>\n",
       "    </tr>\n",
       "  </tbody>\n",
       "</table>\n",
       "</div>"
      ],
      "text/plain": [
       "    Region  Year    Sex                    Status  Num_pers\n",
       "0  Horsens  2014  Women  Outside the labour force       509\n",
       "1  Horsens  2011    Men  Outside the labour force       489\n",
       "2  Horsens  2012    Men  Outside the labour force       501\n",
       "3  Horsens  2013    Men  Outside the labour force       490\n",
       "4   Aarhus  2012  Women                  Employed        36"
      ]
     },
     "execution_count": 5,
     "metadata": {},
     "output_type": "execute_result"
    }
   ],
   "source": [
    "# Rename remaining columns\n",
    "Emp = Emp.rename(columns = {'TID':'Year', 'OMRÅDE': 'Region', 'SOCIO': 'Status', 'INDHOLD': 'Num_pers','KØN':'Sex'})\n",
    "\n",
    "# Show 5 first rows of data to get an overview of out manipulated data\n",
    "Emp.head()"
   ]
  },
  {
   "cell_type": "markdown",
   "metadata": {},
   "source": [
    "## Aggregate data "
   ]
  },
  {
   "cell_type": "markdown",
   "metadata": {},
   "source": [
    "We would like to aggregate the data such that we have the employment share in each region (and in all Denmark) per year, per social economical status and per gender.\n",
    "This is done by firstly using a Regex code to create a new variable (I). It will return False, if the row contains a region or All Denmark and True if not (hence true if the area refers to a city or municipality)."
   ]
  },
  {
   "cell_type": "code",
   "execution_count": 6,
   "metadata": {},
   "outputs": [
    {
     "data": {
      "text/plain": [
       "0    True\n",
       "1    True\n",
       "2    True\n",
       "3    True\n",
       "4    True\n",
       "Name: Region, dtype: bool"
      ]
     },
     "execution_count": 6,
     "metadata": {},
     "output_type": "execute_result"
    }
   ],
   "source": [
    "# Creating dummy with Regex to seperate regions and total from the remaining data\n",
    "I = Emp['Region'].str.contains(r'^(?:(?!Region|All Denmark).)*$') \n",
    "I.head()"
   ]
  },
  {
   "cell_type": "code",
   "execution_count": 7,
   "metadata": {},
   "outputs": [
    {
     "data": {
      "text/html": [
       "<div>\n",
       "<style scoped>\n",
       "    .dataframe tbody tr th:only-of-type {\n",
       "        vertical-align: middle;\n",
       "    }\n",
       "\n",
       "    .dataframe tbody tr th {\n",
       "        vertical-align: top;\n",
       "    }\n",
       "\n",
       "    .dataframe thead th {\n",
       "        text-align: right;\n",
       "    }\n",
       "</style>\n",
       "<table border=\"1\" class=\"dataframe\">\n",
       "  <thead>\n",
       "    <tr style=\"text-align: right;\">\n",
       "      <th></th>\n",
       "      <th>Region</th>\n",
       "      <th>Year</th>\n",
       "      <th>Sex</th>\n",
       "      <th>Status</th>\n",
       "      <th>Num_pers</th>\n",
       "    </tr>\n",
       "  </thead>\n",
       "  <tbody>\n",
       "    <tr>\n",
       "      <th>3048</th>\n",
       "      <td>Region Nordjylland</td>\n",
       "      <td>2008</td>\n",
       "      <td>Women</td>\n",
       "      <td>Outside the labour force</td>\n",
       "      <td>5</td>\n",
       "    </tr>\n",
       "    <tr>\n",
       "      <th>3049</th>\n",
       "      <td>Region Nordjylland</td>\n",
       "      <td>2009</td>\n",
       "      <td>Women</td>\n",
       "      <td>Outside the labour force</td>\n",
       "      <td>3</td>\n",
       "    </tr>\n",
       "    <tr>\n",
       "      <th>3050</th>\n",
       "      <td>Region Nordjylland</td>\n",
       "      <td>2010</td>\n",
       "      <td>Women</td>\n",
       "      <td>Outside the labour force</td>\n",
       "      <td>4</td>\n",
       "    </tr>\n",
       "    <tr>\n",
       "      <th>3051</th>\n",
       "      <td>Region Nordjylland</td>\n",
       "      <td>2008</td>\n",
       "      <td>Men</td>\n",
       "      <td>Outside the labour force</td>\n",
       "      <td>5</td>\n",
       "    </tr>\n",
       "    <tr>\n",
       "      <th>3052</th>\n",
       "      <td>Region Nordjylland</td>\n",
       "      <td>2009</td>\n",
       "      <td>Men</td>\n",
       "      <td>Outside the labour force</td>\n",
       "      <td>3</td>\n",
       "    </tr>\n",
       "  </tbody>\n",
       "</table>\n",
       "</div>"
      ],
      "text/plain": [
       "                  Region  Year    Sex                    Status  Num_pers\n",
       "3048  Region Nordjylland  2008  Women  Outside the labour force         5\n",
       "3049  Region Nordjylland  2009  Women  Outside the labour force         3\n",
       "3050  Region Nordjylland  2010  Women  Outside the labour force         4\n",
       "3051  Region Nordjylland  2008    Men  Outside the labour force         5\n",
       "3052  Region Nordjylland  2009    Men  Outside the labour force         3"
      ]
     },
     "execution_count": 7,
     "metadata": {},
     "output_type": "execute_result"
    }
   ],
   "source": [
    "# We drop all the rows that are not a region in our dataset Emp, thus the rows containing True in I\n",
    "Emp.drop(Emp[I].index, inplace=True)    \n",
    "Emp.head()"
   ]
  },
  {
   "cell_type": "markdown",
   "metadata": {},
   "source": [
    "We choose to remove all persons outside the labour force, as we seek to calculate only the employment share of the labor force. \n",
    "To delete people outside the labour force we create a new table only containing rows where people are employed or unemployed"
   ]
  },
  {
   "cell_type": "code",
   "execution_count": 8,
   "metadata": {},
   "outputs": [
    {
     "data": {
      "text/plain": [
       "3048    False\n",
       "3049    False\n",
       "3050    False\n",
       "3051    False\n",
       "3052    False\n",
       "Name: Status, dtype: bool"
      ]
     },
     "execution_count": 8,
     "metadata": {},
     "output_type": "execute_result"
    }
   ],
   "source": [
    "# Creating a dummy for everyone inside labour force \"Inside LF (Labor Force)\"\n",
    "Inside_LF = Emp['Status']!='Outside the labour force' \n",
    "Inside_LF.head()"
   ]
  },
  {
   "cell_type": "code",
   "execution_count": 9,
   "metadata": {},
   "outputs": [
    {
     "data": {
      "text/html": [
       "<div>\n",
       "<style scoped>\n",
       "    .dataframe tbody tr th:only-of-type {\n",
       "        vertical-align: middle;\n",
       "    }\n",
       "\n",
       "    .dataframe tbody tr th {\n",
       "        vertical-align: top;\n",
       "    }\n",
       "\n",
       "    .dataframe thead th {\n",
       "        text-align: right;\n",
       "    }\n",
       "</style>\n",
       "<table border=\"1\" class=\"dataframe\">\n",
       "  <thead>\n",
       "    <tr style=\"text-align: right;\">\n",
       "      <th></th>\n",
       "      <th>Region</th>\n",
       "      <th>Year</th>\n",
       "      <th>Sex</th>\n",
       "      <th>Status</th>\n",
       "      <th>Num_pers</th>\n",
       "    </tr>\n",
       "  </thead>\n",
       "  <tbody>\n",
       "    <tr>\n",
       "      <th>12704</th>\n",
       "      <td>Region Midtjylland</td>\n",
       "      <td>2013</td>\n",
       "      <td>Men</td>\n",
       "      <td>Employed</td>\n",
       "      <td>31</td>\n",
       "    </tr>\n",
       "    <tr>\n",
       "      <th>12705</th>\n",
       "      <td>Region Midtjylland</td>\n",
       "      <td>2014</td>\n",
       "      <td>Men</td>\n",
       "      <td>Employed</td>\n",
       "      <td>33</td>\n",
       "    </tr>\n",
       "    <tr>\n",
       "      <th>12706</th>\n",
       "      <td>Region Midtjylland</td>\n",
       "      <td>2011</td>\n",
       "      <td>Women</td>\n",
       "      <td>Employed</td>\n",
       "      <td>11</td>\n",
       "    </tr>\n",
       "    <tr>\n",
       "      <th>12707</th>\n",
       "      <td>Region Midtjylland</td>\n",
       "      <td>2012</td>\n",
       "      <td>Women</td>\n",
       "      <td>Employed</td>\n",
       "      <td>12</td>\n",
       "    </tr>\n",
       "    <tr>\n",
       "      <th>12708</th>\n",
       "      <td>Region Midtjylland</td>\n",
       "      <td>2013</td>\n",
       "      <td>Women</td>\n",
       "      <td>Employed</td>\n",
       "      <td>12</td>\n",
       "    </tr>\n",
       "  </tbody>\n",
       "</table>\n",
       "</div>"
      ],
      "text/plain": [
       "                   Region  Year    Sex    Status  Num_pers\n",
       "12704  Region Midtjylland  2013    Men  Employed        31\n",
       "12705  Region Midtjylland  2014    Men  Employed        33\n",
       "12706  Region Midtjylland  2011  Women  Employed        11\n",
       "12707  Region Midtjylland  2012  Women  Employed        12\n",
       "12708  Region Midtjylland  2013  Women  Employed        12"
      ]
     },
     "execution_count": 9,
     "metadata": {},
     "output_type": "execute_result"
    }
   ],
   "source": [
    "# Create a table only containing people inside labor force\n",
    "LF = Emp[Inside_LF]\n",
    "LF.head()"
   ]
  },
  {
   "cell_type": "markdown",
   "metadata": {},
   "source": [
    "We can now aggregate our data to region per year for different socioeconomical status (employed or unemployed) and for gender. This is done by aggregating over our new variable LF that only contains people in the labour force. "
   ]
  },
  {
   "cell_type": "code",
   "execution_count": 10,
   "metadata": {},
   "outputs": [
    {
     "data": {
      "text/html": [
       "<div>\n",
       "<style scoped>\n",
       "    .dataframe tbody tr th:only-of-type {\n",
       "        vertical-align: middle;\n",
       "    }\n",
       "\n",
       "    .dataframe tbody tr th {\n",
       "        vertical-align: top;\n",
       "    }\n",
       "\n",
       "    .dataframe thead th {\n",
       "        text-align: right;\n",
       "    }\n",
       "</style>\n",
       "<table border=\"1\" class=\"dataframe\">\n",
       "  <thead>\n",
       "    <tr style=\"text-align: right;\">\n",
       "      <th></th>\n",
       "      <th>Region</th>\n",
       "      <th>Year</th>\n",
       "      <th>Status</th>\n",
       "      <th>Sex</th>\n",
       "      <th>Num_pers</th>\n",
       "    </tr>\n",
       "  </thead>\n",
       "  <tbody>\n",
       "    <tr>\n",
       "      <th>0</th>\n",
       "      <td>All Denmark</td>\n",
       "      <td>2008</td>\n",
       "      <td>Employed</td>\n",
       "      <td>Men</td>\n",
       "      <td>1493769</td>\n",
       "    </tr>\n",
       "    <tr>\n",
       "      <th>1</th>\n",
       "      <td>All Denmark</td>\n",
       "      <td>2008</td>\n",
       "      <td>Employed</td>\n",
       "      <td>Women</td>\n",
       "      <td>1351045</td>\n",
       "    </tr>\n",
       "    <tr>\n",
       "      <th>2</th>\n",
       "      <td>All Denmark</td>\n",
       "      <td>2008</td>\n",
       "      <td>Unemployed</td>\n",
       "      <td>Men</td>\n",
       "      <td>35602</td>\n",
       "    </tr>\n",
       "    <tr>\n",
       "      <th>3</th>\n",
       "      <td>All Denmark</td>\n",
       "      <td>2008</td>\n",
       "      <td>Unemployed</td>\n",
       "      <td>Women</td>\n",
       "      <td>28607</td>\n",
       "    </tr>\n",
       "    <tr>\n",
       "      <th>4</th>\n",
       "      <td>All Denmark</td>\n",
       "      <td>2009</td>\n",
       "      <td>Employed</td>\n",
       "      <td>Men</td>\n",
       "      <td>1410785</td>\n",
       "    </tr>\n",
       "  </tbody>\n",
       "</table>\n",
       "</div>"
      ],
      "text/plain": [
       "        Region  Year      Status    Sex  Num_pers\n",
       "0  All Denmark  2008    Employed    Men   1493769\n",
       "1  All Denmark  2008    Employed  Women   1351045\n",
       "2  All Denmark  2008  Unemployed    Men     35602\n",
       "3  All Denmark  2008  Unemployed  Women     28607\n",
       "4  All Denmark  2009    Employed    Men   1410785"
      ]
     },
     "execution_count": 10,
     "metadata": {},
     "output_type": "execute_result"
    }
   ],
   "source": [
    "# Aggregating data by region, year, status and sex\n",
    "Agg_Emp = LF.groupby(['Region', 'Year', 'Status','Sex'])['Num_pers'].sum().reset_index()\n",
    "Agg_Emp.head()"
   ]
  },
  {
   "cell_type": "code",
   "execution_count": 14,
   "metadata": {},
   "outputs": [
    {
     "data": {
      "text/html": [
       "<div>\n",
       "<style scoped>\n",
       "    .dataframe tbody tr th:only-of-type {\n",
       "        vertical-align: middle;\n",
       "    }\n",
       "\n",
       "    .dataframe tbody tr th {\n",
       "        vertical-align: top;\n",
       "    }\n",
       "\n",
       "    .dataframe thead th {\n",
       "        text-align: right;\n",
       "    }\n",
       "</style>\n",
       "<table border=\"1\" class=\"dataframe\">\n",
       "  <thead>\n",
       "    <tr style=\"text-align: right;\">\n",
       "      <th></th>\n",
       "      <th>Region</th>\n",
       "      <th>Year</th>\n",
       "      <th>Sex</th>\n",
       "      <th>Num_pers</th>\n",
       "    </tr>\n",
       "  </thead>\n",
       "  <tbody>\n",
       "    <tr>\n",
       "      <th>0</th>\n",
       "      <td>All Denmark</td>\n",
       "      <td>2008</td>\n",
       "      <td>Men</td>\n",
       "      <td>1529371</td>\n",
       "    </tr>\n",
       "    <tr>\n",
       "      <th>1</th>\n",
       "      <td>All Denmark</td>\n",
       "      <td>2008</td>\n",
       "      <td>Women</td>\n",
       "      <td>1379652</td>\n",
       "    </tr>\n",
       "    <tr>\n",
       "      <th>2</th>\n",
       "      <td>All Denmark</td>\n",
       "      <td>2009</td>\n",
       "      <td>Men</td>\n",
       "      <td>1491299</td>\n",
       "    </tr>\n",
       "    <tr>\n",
       "      <th>3</th>\n",
       "      <td>All Denmark</td>\n",
       "      <td>2009</td>\n",
       "      <td>Women</td>\n",
       "      <td>1364483</td>\n",
       "    </tr>\n",
       "    <tr>\n",
       "      <th>4</th>\n",
       "      <td>All Denmark</td>\n",
       "      <td>2010</td>\n",
       "      <td>Men</td>\n",
       "      <td>1481206</td>\n",
       "    </tr>\n",
       "  </tbody>\n",
       "</table>\n",
       "</div>"
      ],
      "text/plain": [
       "        Region  Year    Sex  Num_pers\n",
       "0  All Denmark  2008    Men   1529371\n",
       "1  All Denmark  2008  Women   1379652\n",
       "2  All Denmark  2009    Men   1491299\n",
       "3  All Denmark  2009  Women   1364483\n",
       "4  All Denmark  2010    Men   1481206"
      ]
     },
     "execution_count": 14,
     "metadata": {},
     "output_type": "execute_result"
    }
   ],
   "source": [
    "# Aggregating data to calculate \"total number of persons inside labor force\"\n",
    "TOT = Agg_Emp.groupby(['Region', 'Year','Sex'])['Num_pers'].sum().reset_index()\n",
    "TOT.head()"
   ]
  },
  {
   "cell_type": "markdown",
   "metadata": {},
   "source": [
    "Secondly we create a table with the sum of employees in each region and in all Denmark. "
   ]
  },
  {
   "cell_type": "code",
   "execution_count": 22,
   "metadata": {},
   "outputs": [
    {
     "data": {
      "text/html": [
       "<div>\n",
       "<style scoped>\n",
       "    .dataframe tbody tr th:only-of-type {\n",
       "        vertical-align: middle;\n",
       "    }\n",
       "\n",
       "    .dataframe tbody tr th {\n",
       "        vertical-align: top;\n",
       "    }\n",
       "\n",
       "    .dataframe thead th {\n",
       "        text-align: right;\n",
       "    }\n",
       "</style>\n",
       "<table border=\"1\" class=\"dataframe\">\n",
       "  <thead>\n",
       "    <tr style=\"text-align: right;\">\n",
       "      <th></th>\n",
       "      <th>Region</th>\n",
       "      <th>Year</th>\n",
       "      <th>Sex</th>\n",
       "      <th>Num_pers</th>\n",
       "    </tr>\n",
       "  </thead>\n",
       "  <tbody>\n",
       "    <tr>\n",
       "      <th>0</th>\n",
       "      <td>All Denmark</td>\n",
       "      <td>2008</td>\n",
       "      <td>Men</td>\n",
       "      <td>1493769</td>\n",
       "    </tr>\n",
       "    <tr>\n",
       "      <th>1</th>\n",
       "      <td>All Denmark</td>\n",
       "      <td>2008</td>\n",
       "      <td>Women</td>\n",
       "      <td>1351045</td>\n",
       "    </tr>\n",
       "    <tr>\n",
       "      <th>2</th>\n",
       "      <td>All Denmark</td>\n",
       "      <td>2009</td>\n",
       "      <td>Men</td>\n",
       "      <td>1410785</td>\n",
       "    </tr>\n",
       "    <tr>\n",
       "      <th>3</th>\n",
       "      <td>All Denmark</td>\n",
       "      <td>2009</td>\n",
       "      <td>Women</td>\n",
       "      <td>1314939</td>\n",
       "    </tr>\n",
       "    <tr>\n",
       "      <th>4</th>\n",
       "      <td>All Denmark</td>\n",
       "      <td>2010</td>\n",
       "      <td>Men</td>\n",
       "      <td>1404274</td>\n",
       "    </tr>\n",
       "  </tbody>\n",
       "</table>\n",
       "</div>"
      ],
      "text/plain": [
       "        Region  Year    Sex  Num_pers\n",
       "0  All Denmark  2008    Men   1493769\n",
       "1  All Denmark  2008  Women   1351045\n",
       "2  All Denmark  2009    Men   1410785\n",
       "3  All Denmark  2009  Women   1314939\n",
       "4  All Denmark  2010    Men   1404274"
      ]
     },
     "execution_count": 22,
     "metadata": {},
     "output_type": "execute_result"
    }
   ],
   "source": [
    "# Creating a dummy of all people with status \"employed\"\n",
    "Status_Emp = Agg_Emp['Status'] == 'Employed'\n",
    "\n",
    "# Creating a subset of data only containing person with status \"employed\"\n",
    "Agg_Emp_New = Agg_Emp[Status_Emp]\n",
    "\n",
    "# Aggregating the subset of data created above on region, year and sex\n",
    "TOT_Emp = Agg_Emp_New.groupby(['Region', 'Year','Sex'])['Num_pers'].sum().reset_index()\n",
    "TOT_Emp.head()"
   ]
  },
  {
   "cell_type": "markdown",
   "metadata": {},
   "source": [
    "## Merging tables\n",
    "\n",
    "Next, we join the two newly created tables together by merging on the variables \"Region\", \"Sex\" and \"Year\". "
   ]
  },
  {
   "cell_type": "code",
   "execution_count": 23,
   "metadata": {},
   "outputs": [
    {
     "data": {
      "text/html": [
       "<div>\n",
       "<style scoped>\n",
       "    .dataframe tbody tr th:only-of-type {\n",
       "        vertical-align: middle;\n",
       "    }\n",
       "\n",
       "    .dataframe tbody tr th {\n",
       "        vertical-align: top;\n",
       "    }\n",
       "\n",
       "    .dataframe thead th {\n",
       "        text-align: right;\n",
       "    }\n",
       "</style>\n",
       "<table border=\"1\" class=\"dataframe\">\n",
       "  <thead>\n",
       "    <tr style=\"text-align: right;\">\n",
       "      <th></th>\n",
       "      <th>index_x</th>\n",
       "      <th>Region</th>\n",
       "      <th>Year</th>\n",
       "      <th>Sex</th>\n",
       "      <th>Num_pers_x</th>\n",
       "      <th>index_y</th>\n",
       "      <th>Num_pers_y</th>\n",
       "    </tr>\n",
       "  </thead>\n",
       "  <tbody>\n",
       "    <tr>\n",
       "      <th>0</th>\n",
       "      <td>0</td>\n",
       "      <td>All Denmark</td>\n",
       "      <td>2008</td>\n",
       "      <td>Men</td>\n",
       "      <td>1493769</td>\n",
       "      <td>0</td>\n",
       "      <td>1529371</td>\n",
       "    </tr>\n",
       "    <tr>\n",
       "      <th>1</th>\n",
       "      <td>1</td>\n",
       "      <td>All Denmark</td>\n",
       "      <td>2008</td>\n",
       "      <td>Women</td>\n",
       "      <td>1351045</td>\n",
       "      <td>1</td>\n",
       "      <td>1379652</td>\n",
       "    </tr>\n",
       "    <tr>\n",
       "      <th>2</th>\n",
       "      <td>2</td>\n",
       "      <td>All Denmark</td>\n",
       "      <td>2009</td>\n",
       "      <td>Men</td>\n",
       "      <td>1410785</td>\n",
       "      <td>2</td>\n",
       "      <td>1491299</td>\n",
       "    </tr>\n",
       "    <tr>\n",
       "      <th>3</th>\n",
       "      <td>3</td>\n",
       "      <td>All Denmark</td>\n",
       "      <td>2009</td>\n",
       "      <td>Women</td>\n",
       "      <td>1314939</td>\n",
       "      <td>3</td>\n",
       "      <td>1364483</td>\n",
       "    </tr>\n",
       "    <tr>\n",
       "      <th>4</th>\n",
       "      <td>4</td>\n",
       "      <td>All Denmark</td>\n",
       "      <td>2010</td>\n",
       "      <td>Men</td>\n",
       "      <td>1404274</td>\n",
       "      <td>4</td>\n",
       "      <td>1481206</td>\n",
       "    </tr>\n",
       "  </tbody>\n",
       "</table>\n",
       "</div>"
      ],
      "text/plain": [
       "   index_x       Region  Year    Sex  Num_pers_x  index_y  Num_pers_y\n",
       "0        0  All Denmark  2008    Men     1493769        0     1529371\n",
       "1        1  All Denmark  2008  Women     1351045        1     1379652\n",
       "2        2  All Denmark  2009    Men     1410785        2     1491299\n",
       "3        3  All Denmark  2009  Women     1314939        3     1364483\n",
       "4        4  All Denmark  2010    Men     1404274        4     1481206"
      ]
     },
     "execution_count": 23,
     "metadata": {},
     "output_type": "execute_result"
    }
   ],
   "source": [
    "# Using an inner join to join the data together we merge all the common rows there are in our two tables\n",
    "JoinTotal = pd.merge(TOT_Emp.reset_index(),TOT.reset_index(),how='inner',on=['Region','Year','Sex'])\n",
    "JoinTotal.head()"
   ]
  },
  {
   "cell_type": "code",
   "execution_count": 24,
   "metadata": {},
   "outputs": [
    {
     "data": {
      "text/html": [
       "<div>\n",
       "<style scoped>\n",
       "    .dataframe tbody tr th:only-of-type {\n",
       "        vertical-align: middle;\n",
       "    }\n",
       "\n",
       "    .dataframe tbody tr th {\n",
       "        vertical-align: top;\n",
       "    }\n",
       "\n",
       "    .dataframe thead th {\n",
       "        text-align: right;\n",
       "    }\n",
       "</style>\n",
       "<table border=\"1\" class=\"dataframe\">\n",
       "  <thead>\n",
       "    <tr style=\"text-align: right;\">\n",
       "      <th></th>\n",
       "      <th>Region</th>\n",
       "      <th>Year</th>\n",
       "      <th>Sex</th>\n",
       "      <th>Employed</th>\n",
       "      <th>Population</th>\n",
       "    </tr>\n",
       "  </thead>\n",
       "  <tbody>\n",
       "    <tr>\n",
       "      <th>0</th>\n",
       "      <td>All Denmark</td>\n",
       "      <td>2008</td>\n",
       "      <td>Men</td>\n",
       "      <td>1493769</td>\n",
       "      <td>1529371</td>\n",
       "    </tr>\n",
       "    <tr>\n",
       "      <th>1</th>\n",
       "      <td>All Denmark</td>\n",
       "      <td>2008</td>\n",
       "      <td>Women</td>\n",
       "      <td>1351045</td>\n",
       "      <td>1379652</td>\n",
       "    </tr>\n",
       "    <tr>\n",
       "      <th>2</th>\n",
       "      <td>All Denmark</td>\n",
       "      <td>2009</td>\n",
       "      <td>Men</td>\n",
       "      <td>1410785</td>\n",
       "      <td>1491299</td>\n",
       "    </tr>\n",
       "    <tr>\n",
       "      <th>3</th>\n",
       "      <td>All Denmark</td>\n",
       "      <td>2009</td>\n",
       "      <td>Women</td>\n",
       "      <td>1314939</td>\n",
       "      <td>1364483</td>\n",
       "    </tr>\n",
       "    <tr>\n",
       "      <th>4</th>\n",
       "      <td>All Denmark</td>\n",
       "      <td>2010</td>\n",
       "      <td>Men</td>\n",
       "      <td>1404274</td>\n",
       "      <td>1481206</td>\n",
       "    </tr>\n",
       "  </tbody>\n",
       "</table>\n",
       "</div>"
      ],
      "text/plain": [
       "        Region  Year    Sex  Employed  Population\n",
       "0  All Denmark  2008    Men   1493769     1529371\n",
       "1  All Denmark  2008  Women   1351045     1379652\n",
       "2  All Denmark  2009    Men   1410785     1491299\n",
       "3  All Denmark  2009  Women   1314939     1364483\n",
       "4  All Denmark  2010    Men   1404274     1481206"
      ]
     },
     "execution_count": 24,
     "metadata": {},
     "output_type": "execute_result"
    }
   ],
   "source": [
    "# Renaming columns\n",
    "JoinTotal = JoinTotal.rename(columns = {'Num_pers_x':'Employed', 'Num_pers_y':'Population'})\n",
    "\n",
    "# dropping the \"extra\" index columns\n",
    "JoinTotal = JoinTotal.drop(columns = ['index_x','index_y'])\n",
    "JoinTotal.head()"
   ]
  },
  {
   "cell_type": "markdown",
   "metadata": {},
   "source": [
    "## Analysis of employment dependent on region\n",
    "\n",
    "Next we create a subset of data to create charts that display the evolution of the employment in Denmark the past 10 year disregarding gender, but only focusing on regions."
   ]
  },
  {
   "cell_type": "code",
   "execution_count": 27,
   "metadata": {},
   "outputs": [
    {
     "data": {
      "text/html": [
       "<div>\n",
       "<style scoped>\n",
       "    .dataframe tbody tr th:only-of-type {\n",
       "        vertical-align: middle;\n",
       "    }\n",
       "\n",
       "    .dataframe tbody tr th {\n",
       "        vertical-align: top;\n",
       "    }\n",
       "\n",
       "    .dataframe thead th {\n",
       "        text-align: right;\n",
       "    }\n",
       "</style>\n",
       "<table border=\"1\" class=\"dataframe\">\n",
       "  <thead>\n",
       "    <tr style=\"text-align: right;\">\n",
       "      <th></th>\n",
       "      <th>Region</th>\n",
       "      <th>Year</th>\n",
       "      <th>Employed</th>\n",
       "      <th>Population</th>\n",
       "    </tr>\n",
       "  </thead>\n",
       "  <tbody>\n",
       "    <tr>\n",
       "      <th>0</th>\n",
       "      <td>All Denmark</td>\n",
       "      <td>2008</td>\n",
       "      <td>2844814</td>\n",
       "      <td>2909023</td>\n",
       "    </tr>\n",
       "    <tr>\n",
       "      <th>1</th>\n",
       "      <td>All Denmark</td>\n",
       "      <td>2009</td>\n",
       "      <td>2725724</td>\n",
       "      <td>2855782</td>\n",
       "    </tr>\n",
       "    <tr>\n",
       "      <th>2</th>\n",
       "      <td>All Denmark</td>\n",
       "      <td>2010</td>\n",
       "      <td>2704542</td>\n",
       "      <td>2836600</td>\n",
       "    </tr>\n",
       "    <tr>\n",
       "      <th>3</th>\n",
       "      <td>All Denmark</td>\n",
       "      <td>2011</td>\n",
       "      <td>2698418</td>\n",
       "      <td>2824217</td>\n",
       "    </tr>\n",
       "    <tr>\n",
       "      <th>4</th>\n",
       "      <td>All Denmark</td>\n",
       "      <td>2012</td>\n",
       "      <td>2684840</td>\n",
       "      <td>2820038</td>\n",
       "    </tr>\n",
       "  </tbody>\n",
       "</table>\n",
       "</div>"
      ],
      "text/plain": [
       "        Region  Year  Employed  Population\n",
       "0  All Denmark  2008   2844814     2909023\n",
       "1  All Denmark  2009   2725724     2855782\n",
       "2  All Denmark  2010   2704542     2836600\n",
       "3  All Denmark  2011   2698418     2824217\n",
       "4  All Denmark  2012   2684840     2820038"
      ]
     },
     "execution_count": 27,
     "metadata": {},
     "output_type": "execute_result"
    }
   ],
   "source": [
    "# First subset disregards sex, hence, we drop the column \"Sex\"\n",
    "Subset_nosex = JoinTotal.drop(columns = 'Sex')\n",
    "\n",
    "# Next aggregation data such that it is grouped by region and year\n",
    "Subset1 = Subset_nosex.groupby(['Region','Year']).sum().reset_index()\n",
    "Subset1.head()"
   ]
  },
  {
   "cell_type": "markdown",
   "metadata": {},
   "source": [
    "### Calculating employment shares in regions"
   ]
  },
  {
   "cell_type": "markdown",
   "metadata": {},
   "source": [
    "We calculate the employment share in each region and in All Denmark by dividing the total number of employed people with the total number of people in the labour force. "
   ]
  },
  {
   "cell_type": "code",
   "execution_count": 28,
   "metadata": {},
   "outputs": [
    {
     "data": {
      "text/html": [
       "<div>\n",
       "<style scoped>\n",
       "    .dataframe tbody tr th:only-of-type {\n",
       "        vertical-align: middle;\n",
       "    }\n",
       "\n",
       "    .dataframe tbody tr th {\n",
       "        vertical-align: top;\n",
       "    }\n",
       "\n",
       "    .dataframe thead th {\n",
       "        text-align: right;\n",
       "    }\n",
       "</style>\n",
       "<table border=\"1\" class=\"dataframe\">\n",
       "  <thead>\n",
       "    <tr style=\"text-align: right;\">\n",
       "      <th></th>\n",
       "      <th>Region</th>\n",
       "      <th>Year</th>\n",
       "      <th>Employed</th>\n",
       "      <th>Population</th>\n",
       "      <th>Employ_share</th>\n",
       "    </tr>\n",
       "  </thead>\n",
       "  <tbody>\n",
       "    <tr>\n",
       "      <th>0</th>\n",
       "      <td>All Denmark</td>\n",
       "      <td>2008</td>\n",
       "      <td>2844814</td>\n",
       "      <td>2909023</td>\n",
       "      <td>97.792764</td>\n",
       "    </tr>\n",
       "    <tr>\n",
       "      <th>1</th>\n",
       "      <td>All Denmark</td>\n",
       "      <td>2009</td>\n",
       "      <td>2725724</td>\n",
       "      <td>2855782</td>\n",
       "      <td>95.445801</td>\n",
       "    </tr>\n",
       "    <tr>\n",
       "      <th>2</th>\n",
       "      <td>All Denmark</td>\n",
       "      <td>2010</td>\n",
       "      <td>2704542</td>\n",
       "      <td>2836600</td>\n",
       "      <td>95.344497</td>\n",
       "    </tr>\n",
       "    <tr>\n",
       "      <th>3</th>\n",
       "      <td>All Denmark</td>\n",
       "      <td>2011</td>\n",
       "      <td>2698418</td>\n",
       "      <td>2824217</td>\n",
       "      <td>95.545703</td>\n",
       "    </tr>\n",
       "    <tr>\n",
       "      <th>4</th>\n",
       "      <td>All Denmark</td>\n",
       "      <td>2012</td>\n",
       "      <td>2684840</td>\n",
       "      <td>2820038</td>\n",
       "      <td>95.205809</td>\n",
       "    </tr>\n",
       "  </tbody>\n",
       "</table>\n",
       "</div>"
      ],
      "text/plain": [
       "        Region  Year  Employed  Population  Employ_share\n",
       "0  All Denmark  2008   2844814     2909023     97.792764\n",
       "1  All Denmark  2009   2725724     2855782     95.445801\n",
       "2  All Denmark  2010   2704542     2836600     95.344497\n",
       "3  All Denmark  2011   2698418     2824217     95.545703\n",
       "4  All Denmark  2012   2684840     2820038     95.205809"
      ]
     },
     "execution_count": 28,
     "metadata": {},
     "output_type": "execute_result"
    }
   ],
   "source": [
    "# Creating a new column with the calculation of employment shares in pct.\n",
    "Subset1['Employ_share'] = Subset1.Employed/Subset1.Population*100\n",
    "Subset1.head()"
   ]
  },
  {
   "cell_type": "code",
   "execution_count": 29,
   "metadata": {},
   "outputs": [
    {
     "data": {
      "image/png": "[encoded data removed]",
      "text/plain": [
       "<Figure size 432x288 with 1 Axes>"
      ]
     },
     "metadata": {
      "needs_background": "light"
     },
     "output_type": "display_data"
    }
   ],
   "source": [
    "# We plot the evolution of employment shares in the different regions and in all of Denmark\n",
    "Subset1.set_index('Year').groupby('Region')['Employ_share'].plot(legend=True, grid=True, title='Development in employment shares (pct.)');"
   ]
  },
  {
   "cell_type": "markdown",
   "metadata": {},
   "source": [
    "## Creating an interactive line chart"
   ]
  },
  {
   "cell_type": "markdown",
   "metadata": {},
   "source": [
    "We also create a line chart with a dropdown menu where it is possible to only look at one region at the time. This allows for the opportunity to consider the development in each region or in all Denmark individually. "
   ]
  },
  {
   "cell_type": "code",
   "execution_count": 32,
   "metadata": {},
   "outputs": [
    {
     "data": {
      "application/vnd.jupyter.widget-view+json": {
       "model_id": "7b23916ca15e4ea88653e440c6c2c59b",
       "version_major": 2,
       "version_minor": 0
      },
      "text/plain": [
       "interactive(children=(Dropdown(description='region', options=('All Denmark', 'Region Syddanmark', 'Region Sjæl…"
      ]
     },
     "metadata": {},
     "output_type": "display_data"
    }
   ],
   "source": [
    "# Importen widget to create an interactive figure\n",
    "from ipywidgets import interact\n",
    "\n",
    "# Defining a function to plot\n",
    "def draw_graph(region):\n",
    "    Graph_Data = Subset1.loc[Subset1['Region'] == region,:]\n",
    "    Graph_Data.set_index('Year').groupby('Region')['Employ_share'].plot(legend=True, grid=True, title='Development in Employment Shares (pct.)');\n",
    "\n",
    "# Next we create an interactive line chart which displays the development of employment shares grouped by the regions of Denmark\n",
    "interact(draw_graph, region=['All Denmark', 'Region Syddanmark','Region Sjælland','Region Nordjylland','Region Midtjylland','Region Hovedstaden']);\n"
   ]
  },
  {
   "cell_type": "markdown",
   "metadata": {},
   "source": [
    "From the line chart above it can be concluded that the delevopment of the employment shares follows the same pattern throughout all regions of Denmark. The employment share in Denmark was noticeably influenced by the Financial Crisis in 2008-2009. \n",
    "Region Midtjylland has an overall higher level of employment compared with the other regions. \n",
    "In 2012 it is very clear that the employment rose in all regions, the employment share has been rising in all regions until 2016 where it fell a little. "
   ]
  },
  {
   "cell_type": "markdown",
   "metadata": {},
   "source": [
    "## Comparing employment shares for women and men"
   ]
  },
  {
   "cell_type": "markdown",
   "metadata": {},
   "source": [
    "To compare men and women, we need to create two subsets of data for respectivle men and women and then merge these, such that the number of employed men and women is defined by its own column."
   ]
  },
  {
   "cell_type": "code",
   "execution_count": 33,
   "metadata": {},
   "outputs": [
    {
     "data": {
      "text/html": [
       "<div>\n",
       "<style scoped>\n",
       "    .dataframe tbody tr th:only-of-type {\n",
       "        vertical-align: middle;\n",
       "    }\n",
       "\n",
       "    .dataframe tbody tr th {\n",
       "        vertical-align: top;\n",
       "    }\n",
       "\n",
       "    .dataframe thead th {\n",
       "        text-align: right;\n",
       "    }\n",
       "</style>\n",
       "<table border=\"1\" class=\"dataframe\">\n",
       "  <thead>\n",
       "    <tr style=\"text-align: right;\">\n",
       "      <th></th>\n",
       "      <th>Region</th>\n",
       "      <th>Year</th>\n",
       "      <th>Sex</th>\n",
       "      <th>Employed</th>\n",
       "      <th>Population</th>\n",
       "    </tr>\n",
       "  </thead>\n",
       "  <tbody>\n",
       "    <tr>\n",
       "      <th>1</th>\n",
       "      <td>All Denmark</td>\n",
       "      <td>2008</td>\n",
       "      <td>Women</td>\n",
       "      <td>1351045</td>\n",
       "      <td>1379652</td>\n",
       "    </tr>\n",
       "    <tr>\n",
       "      <th>3</th>\n",
       "      <td>All Denmark</td>\n",
       "      <td>2009</td>\n",
       "      <td>Women</td>\n",
       "      <td>1314939</td>\n",
       "      <td>1364483</td>\n",
       "    </tr>\n",
       "    <tr>\n",
       "      <th>5</th>\n",
       "      <td>All Denmark</td>\n",
       "      <td>2010</td>\n",
       "      <td>Women</td>\n",
       "      <td>1300268</td>\n",
       "      <td>1355394</td>\n",
       "    </tr>\n",
       "    <tr>\n",
       "      <th>7</th>\n",
       "      <td>All Denmark</td>\n",
       "      <td>2011</td>\n",
       "      <td>Women</td>\n",
       "      <td>1287836</td>\n",
       "      <td>1346594</td>\n",
       "    </tr>\n",
       "    <tr>\n",
       "      <th>9</th>\n",
       "      <td>All Denmark</td>\n",
       "      <td>2012</td>\n",
       "      <td>Women</td>\n",
       "      <td>1280697</td>\n",
       "      <td>1344703</td>\n",
       "    </tr>\n",
       "  </tbody>\n",
       "</table>\n",
       "</div>"
      ],
      "text/plain": [
       "        Region  Year    Sex  Employed  Population\n",
       "1  All Denmark  2008  Women   1351045     1379652\n",
       "3  All Denmark  2009  Women   1314939     1364483\n",
       "5  All Denmark  2010  Women   1300268     1355394\n",
       "7  All Denmark  2011  Women   1287836     1346594\n",
       "9  All Denmark  2012  Women   1280697     1344703"
      ]
     },
     "execution_count": 33,
     "metadata": {},
     "output_type": "execute_result"
    }
   ],
   "source": [
    "# Creating a subset of data only regarding women\n",
    "Women = JoinTotal['Sex']=='Women'\n",
    "JoinWomen = JoinTotal[Women]\n",
    "JoinWomen.head()"
   ]
  },
  {
   "cell_type": "code",
   "execution_count": 34,
   "metadata": {},
   "outputs": [
    {
     "data": {
      "text/html": [
       "<div>\n",
       "<style scoped>\n",
       "    .dataframe tbody tr th:only-of-type {\n",
       "        vertical-align: middle;\n",
       "    }\n",
       "\n",
       "    .dataframe tbody tr th {\n",
       "        vertical-align: top;\n",
       "    }\n",
       "\n",
       "    .dataframe thead th {\n",
       "        text-align: right;\n",
       "    }\n",
       "</style>\n",
       "<table border=\"1\" class=\"dataframe\">\n",
       "  <thead>\n",
       "    <tr style=\"text-align: right;\">\n",
       "      <th></th>\n",
       "      <th>Region</th>\n",
       "      <th>Year</th>\n",
       "      <th>Sex</th>\n",
       "      <th>Employed</th>\n",
       "      <th>Population</th>\n",
       "    </tr>\n",
       "  </thead>\n",
       "  <tbody>\n",
       "    <tr>\n",
       "      <th>0</th>\n",
       "      <td>All Denmark</td>\n",
       "      <td>2008</td>\n",
       "      <td>Men</td>\n",
       "      <td>1493769</td>\n",
       "      <td>1529371</td>\n",
       "    </tr>\n",
       "    <tr>\n",
       "      <th>2</th>\n",
       "      <td>All Denmark</td>\n",
       "      <td>2009</td>\n",
       "      <td>Men</td>\n",
       "      <td>1410785</td>\n",
       "      <td>1491299</td>\n",
       "    </tr>\n",
       "    <tr>\n",
       "      <th>4</th>\n",
       "      <td>All Denmark</td>\n",
       "      <td>2010</td>\n",
       "      <td>Men</td>\n",
       "      <td>1404274</td>\n",
       "      <td>1481206</td>\n",
       "    </tr>\n",
       "    <tr>\n",
       "      <th>6</th>\n",
       "      <td>All Denmark</td>\n",
       "      <td>2011</td>\n",
       "      <td>Men</td>\n",
       "      <td>1410582</td>\n",
       "      <td>1477623</td>\n",
       "    </tr>\n",
       "    <tr>\n",
       "      <th>8</th>\n",
       "      <td>All Denmark</td>\n",
       "      <td>2012</td>\n",
       "      <td>Men</td>\n",
       "      <td>1404143</td>\n",
       "      <td>1475335</td>\n",
       "    </tr>\n",
       "  </tbody>\n",
       "</table>\n",
       "</div>"
      ],
      "text/plain": [
       "        Region  Year  Sex  Employed  Population\n",
       "0  All Denmark  2008  Men   1493769     1529371\n",
       "2  All Denmark  2009  Men   1410785     1491299\n",
       "4  All Denmark  2010  Men   1404274     1481206\n",
       "6  All Denmark  2011  Men   1410582     1477623\n",
       "8  All Denmark  2012  Men   1404143     1475335"
      ]
     },
     "execution_count": 34,
     "metadata": {},
     "output_type": "execute_result"
    }
   ],
   "source": [
    "# Creating a subset of data only regarding men\n",
    "Men = JoinTotal['Sex']=='Men'\n",
    "JoinMen = JoinTotal[Men]\n",
    "JoinMen.head()"
   ]
  },
  {
   "cell_type": "code",
   "execution_count": 35,
   "metadata": {},
   "outputs": [
    {
     "data": {
      "text/html": [
       "<div>\n",
       "<style scoped>\n",
       "    .dataframe tbody tr th:only-of-type {\n",
       "        vertical-align: middle;\n",
       "    }\n",
       "\n",
       "    .dataframe tbody tr th {\n",
       "        vertical-align: top;\n",
       "    }\n",
       "\n",
       "    .dataframe thead th {\n",
       "        text-align: right;\n",
       "    }\n",
       "</style>\n",
       "<table border=\"1\" class=\"dataframe\">\n",
       "  <thead>\n",
       "    <tr style=\"text-align: right;\">\n",
       "      <th></th>\n",
       "      <th>Region</th>\n",
       "      <th>Year</th>\n",
       "      <th>Sex_x</th>\n",
       "      <th>Employed_x</th>\n",
       "      <th>Population_x</th>\n",
       "      <th>Sex_y</th>\n",
       "      <th>Employed_y</th>\n",
       "      <th>Population_y</th>\n",
       "    </tr>\n",
       "  </thead>\n",
       "  <tbody>\n",
       "    <tr>\n",
       "      <th>0</th>\n",
       "      <td>All Denmark</td>\n",
       "      <td>2008</td>\n",
       "      <td>Women</td>\n",
       "      <td>1351045</td>\n",
       "      <td>1379652</td>\n",
       "      <td>Men</td>\n",
       "      <td>1493769</td>\n",
       "      <td>1529371</td>\n",
       "    </tr>\n",
       "    <tr>\n",
       "      <th>1</th>\n",
       "      <td>All Denmark</td>\n",
       "      <td>2009</td>\n",
       "      <td>Women</td>\n",
       "      <td>1314939</td>\n",
       "      <td>1364483</td>\n",
       "      <td>Men</td>\n",
       "      <td>1410785</td>\n",
       "      <td>1491299</td>\n",
       "    </tr>\n",
       "    <tr>\n",
       "      <th>2</th>\n",
       "      <td>All Denmark</td>\n",
       "      <td>2010</td>\n",
       "      <td>Women</td>\n",
       "      <td>1300268</td>\n",
       "      <td>1355394</td>\n",
       "      <td>Men</td>\n",
       "      <td>1404274</td>\n",
       "      <td>1481206</td>\n",
       "    </tr>\n",
       "    <tr>\n",
       "      <th>3</th>\n",
       "      <td>All Denmark</td>\n",
       "      <td>2011</td>\n",
       "      <td>Women</td>\n",
       "      <td>1287836</td>\n",
       "      <td>1346594</td>\n",
       "      <td>Men</td>\n",
       "      <td>1410582</td>\n",
       "      <td>1477623</td>\n",
       "    </tr>\n",
       "    <tr>\n",
       "      <th>4</th>\n",
       "      <td>All Denmark</td>\n",
       "      <td>2012</td>\n",
       "      <td>Women</td>\n",
       "      <td>1280697</td>\n",
       "      <td>1344703</td>\n",
       "      <td>Men</td>\n",
       "      <td>1404143</td>\n",
       "      <td>1475335</td>\n",
       "    </tr>\n",
       "  </tbody>\n",
       "</table>\n",
       "</div>"
      ],
      "text/plain": [
       "        Region  Year  Sex_x  Employed_x  Population_x Sex_y  Employed_y  \\\n",
       "0  All Denmark  2008  Women     1351045       1379652   Men     1493769   \n",
       "1  All Denmark  2009  Women     1314939       1364483   Men     1410785   \n",
       "2  All Denmark  2010  Women     1300268       1355394   Men     1404274   \n",
       "3  All Denmark  2011  Women     1287836       1346594   Men     1410582   \n",
       "4  All Denmark  2012  Women     1280697       1344703   Men     1404143   \n",
       "\n",
       "   Population_y  \n",
       "0       1529371  \n",
       "1       1491299  \n",
       "2       1481206  \n",
       "3       1477623  \n",
       "4       1475335  "
      ]
     },
     "execution_count": 35,
     "metadata": {},
     "output_type": "execute_result"
    }
   ],
   "source": [
    "# Join data by using an inner join \n",
    "JoinSex = pd.merge(JoinWomen,JoinMen,how='inner',on=['Region','Year'])\n",
    "JoinSex.head()"
   ]
  },
  {
   "cell_type": "code",
   "execution_count": 36,
   "metadata": {},
   "outputs": [
    {
     "data": {
      "text/html": [
       "<div>\n",
       "<style scoped>\n",
       "    .dataframe tbody tr th:only-of-type {\n",
       "        vertical-align: middle;\n",
       "    }\n",
       "\n",
       "    .dataframe tbody tr th {\n",
       "        vertical-align: top;\n",
       "    }\n",
       "\n",
       "    .dataframe thead th {\n",
       "        text-align: right;\n",
       "    }\n",
       "</style>\n",
       "<table border=\"1\" class=\"dataframe\">\n",
       "  <thead>\n",
       "    <tr style=\"text-align: right;\">\n",
       "      <th></th>\n",
       "      <th>Region</th>\n",
       "      <th>Year</th>\n",
       "      <th>Emp_Women</th>\n",
       "      <th>Pop_Women</th>\n",
       "      <th>Emp_Men</th>\n",
       "      <th>Pop_Men</th>\n",
       "    </tr>\n",
       "  </thead>\n",
       "  <tbody>\n",
       "    <tr>\n",
       "      <th>0</th>\n",
       "      <td>All Denmark</td>\n",
       "      <td>2008</td>\n",
       "      <td>1351045</td>\n",
       "      <td>1379652</td>\n",
       "      <td>1493769</td>\n",
       "      <td>1529371</td>\n",
       "    </tr>\n",
       "    <tr>\n",
       "      <th>1</th>\n",
       "      <td>All Denmark</td>\n",
       "      <td>2009</td>\n",
       "      <td>1314939</td>\n",
       "      <td>1364483</td>\n",
       "      <td>1410785</td>\n",
       "      <td>1491299</td>\n",
       "    </tr>\n",
       "    <tr>\n",
       "      <th>2</th>\n",
       "      <td>All Denmark</td>\n",
       "      <td>2010</td>\n",
       "      <td>1300268</td>\n",
       "      <td>1355394</td>\n",
       "      <td>1404274</td>\n",
       "      <td>1481206</td>\n",
       "    </tr>\n",
       "    <tr>\n",
       "      <th>3</th>\n",
       "      <td>All Denmark</td>\n",
       "      <td>2011</td>\n",
       "      <td>1287836</td>\n",
       "      <td>1346594</td>\n",
       "      <td>1410582</td>\n",
       "      <td>1477623</td>\n",
       "    </tr>\n",
       "    <tr>\n",
       "      <th>4</th>\n",
       "      <td>All Denmark</td>\n",
       "      <td>2012</td>\n",
       "      <td>1280697</td>\n",
       "      <td>1344703</td>\n",
       "      <td>1404143</td>\n",
       "      <td>1475335</td>\n",
       "    </tr>\n",
       "  </tbody>\n",
       "</table>\n",
       "</div>"
      ],
      "text/plain": [
       "        Region  Year  Emp_Women  Pop_Women  Emp_Men  Pop_Men\n",
       "0  All Denmark  2008    1351045    1379652  1493769  1529371\n",
       "1  All Denmark  2009    1314939    1364483  1410785  1491299\n",
       "2  All Denmark  2010    1300268    1355394  1404274  1481206\n",
       "3  All Denmark  2011    1287836    1346594  1410582  1477623\n",
       "4  All Denmark  2012    1280697    1344703  1404143  1475335"
      ]
     },
     "execution_count": 36,
     "metadata": {},
     "output_type": "execute_result"
    }
   ],
   "source": [
    "# Renaming and dropping unnecessary columns\n",
    "JoinSex = JoinSex.rename(columns = {'Employed_x':'Emp_Women', 'Population_x':'Pop_Women','Employed_y':'Emp_Men','Population_y':'Pop_Men'})\n",
    "JoinSex_final = JoinSex.drop(columns = ['Sex_x','Sex_y'])\n",
    "JoinSex_final.head()"
   ]
  },
  {
   "cell_type": "markdown",
   "metadata": {},
   "source": [
    "### Plotting barchart for the employment shares of men and women in Denmark"
   ]
  },
  {
   "cell_type": "code",
   "execution_count": 38,
   "metadata": {},
   "outputs": [
    {
     "data": {
      "text/html": [
       "<div>\n",
       "<style scoped>\n",
       "    .dataframe tbody tr th:only-of-type {\n",
       "        vertical-align: middle;\n",
       "    }\n",
       "\n",
       "    .dataframe tbody tr th {\n",
       "        vertical-align: top;\n",
       "    }\n",
       "\n",
       "    .dataframe thead th {\n",
       "        text-align: right;\n",
       "    }\n",
       "</style>\n",
       "<table border=\"1\" class=\"dataframe\">\n",
       "  <thead>\n",
       "    <tr style=\"text-align: right;\">\n",
       "      <th></th>\n",
       "      <th>Region</th>\n",
       "      <th>Year</th>\n",
       "      <th>Emp_Women</th>\n",
       "      <th>Pop_Women</th>\n",
       "      <th>Emp_Men</th>\n",
       "      <th>Pop_Men</th>\n",
       "      <th>Pop_Tot</th>\n",
       "    </tr>\n",
       "  </thead>\n",
       "  <tbody>\n",
       "    <tr>\n",
       "      <th>0</th>\n",
       "      <td>All Denmark</td>\n",
       "      <td>2008</td>\n",
       "      <td>1351045</td>\n",
       "      <td>1379652</td>\n",
       "      <td>1493769</td>\n",
       "      <td>1529371</td>\n",
       "      <td>2909023</td>\n",
       "    </tr>\n",
       "    <tr>\n",
       "      <th>1</th>\n",
       "      <td>All Denmark</td>\n",
       "      <td>2009</td>\n",
       "      <td>1314939</td>\n",
       "      <td>1364483</td>\n",
       "      <td>1410785</td>\n",
       "      <td>1491299</td>\n",
       "      <td>2855782</td>\n",
       "    </tr>\n",
       "    <tr>\n",
       "      <th>2</th>\n",
       "      <td>All Denmark</td>\n",
       "      <td>2010</td>\n",
       "      <td>1300268</td>\n",
       "      <td>1355394</td>\n",
       "      <td>1404274</td>\n",
       "      <td>1481206</td>\n",
       "      <td>2836600</td>\n",
       "    </tr>\n",
       "    <tr>\n",
       "      <th>3</th>\n",
       "      <td>All Denmark</td>\n",
       "      <td>2011</td>\n",
       "      <td>1287836</td>\n",
       "      <td>1346594</td>\n",
       "      <td>1410582</td>\n",
       "      <td>1477623</td>\n",
       "      <td>2824217</td>\n",
       "    </tr>\n",
       "    <tr>\n",
       "      <th>4</th>\n",
       "      <td>All Denmark</td>\n",
       "      <td>2012</td>\n",
       "      <td>1280697</td>\n",
       "      <td>1344703</td>\n",
       "      <td>1404143</td>\n",
       "      <td>1475335</td>\n",
       "      <td>2820038</td>\n",
       "    </tr>\n",
       "  </tbody>\n",
       "</table>\n",
       "</div>"
      ],
      "text/plain": [
       "        Region  Year  Emp_Women  Pop_Women  Emp_Men  Pop_Men  Pop_Tot\n",
       "0  All Denmark  2008    1351045    1379652  1493769  1529371  2909023\n",
       "1  All Denmark  2009    1314939    1364483  1410785  1491299  2855782\n",
       "2  All Denmark  2010    1300268    1355394  1404274  1481206  2836600\n",
       "3  All Denmark  2011    1287836    1346594  1410582  1477623  2824217\n",
       "4  All Denmark  2012    1280697    1344703  1404143  1475335  2820038"
      ]
     },
     "execution_count": 38,
     "metadata": {},
     "output_type": "execute_result"
    }
   ],
   "source": [
    "# Creating a new total to create bar chart\n",
    "JoinSex_bar = JoinSex_final # renaming dataframe not to overwrite\n",
    "\n",
    "# Recreating total population\n",
    "JoinSex_bar['Pop_Tot'] = JoinSex_final.Pop_Women+JoinSex_final.Pop_Men \n",
    "JoinSex_bar.head()"
   ]
  },
  {
   "cell_type": "code",
   "execution_count": 39,
   "metadata": {},
   "outputs": [
    {
     "data": {
      "text/html": [
       "<div>\n",
       "<style scoped>\n",
       "    .dataframe tbody tr th:only-of-type {\n",
       "        vertical-align: middle;\n",
       "    }\n",
       "\n",
       "    .dataframe tbody tr th {\n",
       "        vertical-align: top;\n",
       "    }\n",
       "\n",
       "    .dataframe thead th {\n",
       "        text-align: right;\n",
       "    }\n",
       "</style>\n",
       "<table border=\"1\" class=\"dataframe\">\n",
       "  <thead>\n",
       "    <tr style=\"text-align: right;\">\n",
       "      <th></th>\n",
       "      <th>Year</th>\n",
       "      <th>Emp_share_women</th>\n",
       "      <th>Emp_share_men</th>\n",
       "    </tr>\n",
       "  </thead>\n",
       "  <tbody>\n",
       "    <tr>\n",
       "      <th>0</th>\n",
       "      <td>2008</td>\n",
       "      <td>46.443256</td>\n",
       "      <td>51.349508</td>\n",
       "    </tr>\n",
       "    <tr>\n",
       "      <th>1</th>\n",
       "      <td>2009</td>\n",
       "      <td>46.044796</td>\n",
       "      <td>49.401005</td>\n",
       "    </tr>\n",
       "    <tr>\n",
       "      <th>2</th>\n",
       "      <td>2010</td>\n",
       "      <td>45.838962</td>\n",
       "      <td>49.505535</td>\n",
       "    </tr>\n",
       "    <tr>\n",
       "      <th>3</th>\n",
       "      <td>2011</td>\n",
       "      <td>45.599754</td>\n",
       "      <td>49.945950</td>\n",
       "    </tr>\n",
       "    <tr>\n",
       "      <th>4</th>\n",
       "      <td>2012</td>\n",
       "      <td>45.414175</td>\n",
       "      <td>49.791634</td>\n",
       "    </tr>\n",
       "  </tbody>\n",
       "</table>\n",
       "</div>"
      ],
      "text/plain": [
       "   Year  Emp_share_women  Emp_share_men\n",
       "0  2008        46.443256      51.349508\n",
       "1  2009        46.044796      49.401005\n",
       "2  2010        45.838962      49.505535\n",
       "3  2011        45.599754      49.945950\n",
       "4  2012        45.414175      49.791634"
      ]
     },
     "execution_count": 39,
     "metadata": {},
     "output_type": "execute_result"
    }
   ],
   "source": [
    "# Calculating employment shares of total employment for men and women respectivly to create stacked bar chart\n",
    "JoinSex_bar['Emp_share_women']=JoinSex_bar['Emp_Women']/JoinSex_bar['Pop_Tot']*100\n",
    "JoinSex_bar['Emp_share_men']=JoinSex_bar['Emp_Men']/JoinSex_bar['Pop_Tot']*100\n",
    "\n",
    "# Dropping irrelevant columns\n",
    "JoinSex_bar_final = JoinSex_bar.drop(columns = ['Region','Emp_Women','Pop_Women','Emp_Men','Pop_Men','Pop_Tot'])\n",
    "JoinSex_bar_final.groupby(['Year'])['Emp_share_women','Emp_share_men'].sum().reset_index()\n",
    "JoinSex_bar_final.head()"
   ]
  },
  {
   "cell_type": "code",
   "execution_count": 50,
   "metadata": {},
   "outputs": [
    {
     "data": {
      "image/png": "[encoded data removed]",
      "text/plain": [
       "<Figure size 720x504 with 1 Axes>"
      ]
     },
     "metadata": {
      "needs_background": "light"
     },
     "output_type": "display_data"
    }
   ],
   "source": [
    "# Plotting stacked bar chart with the data above\n",
    "plt.figure(figsize=(10,7))\n",
    "bar_men = JoinSex_bar_final['Emp_share_men'] # Creating bar variable for men\n",
    "bar_women = JoinSex_bar_final['Emp_share_women'] # Creating bar variable for women\n",
    "index = JoinSex_bar_final['Year'] # Creating index of time\n",
    "graph_men=plt.bar(x=index,height=bar_men,width=0.7,color='b') # creating bottom bar\n",
    "graph_women=plt.bar(x=index,height=bar_women,width=0.7,bottom=bar_men,color='r') # creating bar on top of bottom\n",
    "plt.legend(['Men','Women'])\n",
    "plt.xlabel('Year')\n",
    "plt.title('Development in the employment shares for men and women');"
   ]
  },
  {
   "cell_type": "markdown",
   "metadata": {},
   "source": [
    "### Plotting an interactive line chart for employment shares for men and women"
   ]
  },
  {
   "cell_type": "code",
   "execution_count": 42,
   "metadata": {},
   "outputs": [
    {
     "data": {
      "text/html": [
       "<div>\n",
       "<style scoped>\n",
       "    .dataframe tbody tr th:only-of-type {\n",
       "        vertical-align: middle;\n",
       "    }\n",
       "\n",
       "    .dataframe tbody tr th {\n",
       "        vertical-align: top;\n",
       "    }\n",
       "\n",
       "    .dataframe thead th {\n",
       "        text-align: right;\n",
       "    }\n",
       "</style>\n",
       "<table border=\"1\" class=\"dataframe\">\n",
       "  <thead>\n",
       "    <tr style=\"text-align: right;\">\n",
       "      <th></th>\n",
       "      <th>Region</th>\n",
       "      <th>Year</th>\n",
       "      <th>Emp_Women</th>\n",
       "      <th>Pop_Women</th>\n",
       "      <th>Emp_Men</th>\n",
       "      <th>Pop_Men</th>\n",
       "      <th>Pop_Tot</th>\n",
       "      <th>Emp_share_women</th>\n",
       "      <th>Emp_share_men</th>\n",
       "      <th>Emp_share_Women</th>\n",
       "      <th>Emp_share_Men</th>\n",
       "    </tr>\n",
       "  </thead>\n",
       "  <tbody>\n",
       "    <tr>\n",
       "      <th>0</th>\n",
       "      <td>All Denmark</td>\n",
       "      <td>2008</td>\n",
       "      <td>1351045</td>\n",
       "      <td>1379652</td>\n",
       "      <td>1493769</td>\n",
       "      <td>1529371</td>\n",
       "      <td>2909023</td>\n",
       "      <td>46.443256</td>\n",
       "      <td>51.349508</td>\n",
       "      <td>97.926506</td>\n",
       "      <td>97.672115</td>\n",
       "    </tr>\n",
       "    <tr>\n",
       "      <th>1</th>\n",
       "      <td>All Denmark</td>\n",
       "      <td>2009</td>\n",
       "      <td>1314939</td>\n",
       "      <td>1364483</td>\n",
       "      <td>1410785</td>\n",
       "      <td>1491299</td>\n",
       "      <td>2855782</td>\n",
       "      <td>46.044796</td>\n",
       "      <td>49.401005</td>\n",
       "      <td>96.369028</td>\n",
       "      <td>94.601083</td>\n",
       "    </tr>\n",
       "    <tr>\n",
       "      <th>2</th>\n",
       "      <td>All Denmark</td>\n",
       "      <td>2010</td>\n",
       "      <td>1300268</td>\n",
       "      <td>1355394</td>\n",
       "      <td>1404274</td>\n",
       "      <td>1481206</td>\n",
       "      <td>2836600</td>\n",
       "      <td>45.838962</td>\n",
       "      <td>49.505535</td>\n",
       "      <td>95.932843</td>\n",
       "      <td>94.806124</td>\n",
       "    </tr>\n",
       "    <tr>\n",
       "      <th>3</th>\n",
       "      <td>All Denmark</td>\n",
       "      <td>2011</td>\n",
       "      <td>1287836</td>\n",
       "      <td>1346594</td>\n",
       "      <td>1410582</td>\n",
       "      <td>1477623</td>\n",
       "      <td>2824217</td>\n",
       "      <td>45.599754</td>\n",
       "      <td>49.945950</td>\n",
       "      <td>95.636547</td>\n",
       "      <td>95.462916</td>\n",
       "    </tr>\n",
       "    <tr>\n",
       "      <th>4</th>\n",
       "      <td>All Denmark</td>\n",
       "      <td>2012</td>\n",
       "      <td>1280697</td>\n",
       "      <td>1344703</td>\n",
       "      <td>1404143</td>\n",
       "      <td>1475335</td>\n",
       "      <td>2820038</td>\n",
       "      <td>45.414175</td>\n",
       "      <td>49.791634</td>\n",
       "      <td>95.240139</td>\n",
       "      <td>95.174520</td>\n",
       "    </tr>\n",
       "  </tbody>\n",
       "</table>\n",
       "</div>"
      ],
      "text/plain": [
       "        Region  Year  Emp_Women  Pop_Women  Emp_Men  Pop_Men  Pop_Tot  \\\n",
       "0  All Denmark  2008    1351045    1379652  1493769  1529371  2909023   \n",
       "1  All Denmark  2009    1314939    1364483  1410785  1491299  2855782   \n",
       "2  All Denmark  2010    1300268    1355394  1404274  1481206  2836600   \n",
       "3  All Denmark  2011    1287836    1346594  1410582  1477623  2824217   \n",
       "4  All Denmark  2012    1280697    1344703  1404143  1475335  2820038   \n",
       "\n",
       "   Emp_share_women  Emp_share_men  Emp_share_Women  Emp_share_Men  \n",
       "0        46.443256      51.349508        97.926506      97.672115  \n",
       "1        46.044796      49.401005        96.369028      94.601083  \n",
       "2        45.838962      49.505535        95.932843      94.806124  \n",
       "3        45.599754      49.945950        95.636547      95.462916  \n",
       "4        45.414175      49.791634        95.240139      95.174520  "
      ]
     },
     "execution_count": 42,
     "metadata": {},
     "output_type": "execute_result"
    }
   ],
   "source": [
    "# Calculate employment shares \n",
    "JoinSex_final['Emp_share_Women'] = JoinSex_final.Emp_Women/JoinSex_final.Pop_Women*100\n",
    "JoinSex_final['Emp_share_Men'] = JoinSex_final.Emp_Men/JoinSex_final.Pop_Men*100\n",
    "JoinSex_final.head()"
   ]
  },
  {
   "cell_type": "code",
   "execution_count": 45,
   "metadata": {},
   "outputs": [
    {
     "data": {
      "text/html": [
       "<div>\n",
       "<style scoped>\n",
       "    .dataframe tbody tr th:only-of-type {\n",
       "        vertical-align: middle;\n",
       "    }\n",
       "\n",
       "    .dataframe tbody tr th {\n",
       "        vertical-align: top;\n",
       "    }\n",
       "\n",
       "    .dataframe thead th {\n",
       "        text-align: right;\n",
       "    }\n",
       "</style>\n",
       "<table border=\"1\" class=\"dataframe\">\n",
       "  <thead>\n",
       "    <tr style=\"text-align: right;\">\n",
       "      <th></th>\n",
       "      <th>Region</th>\n",
       "      <th>Year</th>\n",
       "      <th>Pop_Tot</th>\n",
       "      <th>Emp_share_women</th>\n",
       "      <th>Emp_share_men</th>\n",
       "      <th>Emp_share_Women</th>\n",
       "      <th>Emp_share_Men</th>\n",
       "    </tr>\n",
       "  </thead>\n",
       "  <tbody>\n",
       "    <tr>\n",
       "      <th>0</th>\n",
       "      <td>All Denmark</td>\n",
       "      <td>2008</td>\n",
       "      <td>2909023</td>\n",
       "      <td>46.443256</td>\n",
       "      <td>51.349508</td>\n",
       "      <td>97.926506</td>\n",
       "      <td>97.672115</td>\n",
       "    </tr>\n",
       "    <tr>\n",
       "      <th>1</th>\n",
       "      <td>All Denmark</td>\n",
       "      <td>2009</td>\n",
       "      <td>2855782</td>\n",
       "      <td>46.044796</td>\n",
       "      <td>49.401005</td>\n",
       "      <td>96.369028</td>\n",
       "      <td>94.601083</td>\n",
       "    </tr>\n",
       "    <tr>\n",
       "      <th>2</th>\n",
       "      <td>All Denmark</td>\n",
       "      <td>2010</td>\n",
       "      <td>2836600</td>\n",
       "      <td>45.838962</td>\n",
       "      <td>49.505535</td>\n",
       "      <td>95.932843</td>\n",
       "      <td>94.806124</td>\n",
       "    </tr>\n",
       "    <tr>\n",
       "      <th>3</th>\n",
       "      <td>All Denmark</td>\n",
       "      <td>2011</td>\n",
       "      <td>2824217</td>\n",
       "      <td>45.599754</td>\n",
       "      <td>49.945950</td>\n",
       "      <td>95.636547</td>\n",
       "      <td>95.462916</td>\n",
       "    </tr>\n",
       "    <tr>\n",
       "      <th>4</th>\n",
       "      <td>All Denmark</td>\n",
       "      <td>2012</td>\n",
       "      <td>2820038</td>\n",
       "      <td>45.414175</td>\n",
       "      <td>49.791634</td>\n",
       "      <td>95.240139</td>\n",
       "      <td>95.174520</td>\n",
       "    </tr>\n",
       "  </tbody>\n",
       "</table>\n",
       "</div>"
      ],
      "text/plain": [
       "        Region  Year  Pop_Tot  Emp_share_women  Emp_share_men  \\\n",
       "0  All Denmark  2008  2909023        46.443256      51.349508   \n",
       "1  All Denmark  2009  2855782        46.044796      49.401005   \n",
       "2  All Denmark  2010  2836600        45.838962      49.505535   \n",
       "3  All Denmark  2011  2824217        45.599754      49.945950   \n",
       "4  All Denmark  2012  2820038        45.414175      49.791634   \n",
       "\n",
       "   Emp_share_Women  Emp_share_Men  \n",
       "0        97.926506      97.672115  \n",
       "1        96.369028      94.601083  \n",
       "2        95.932843      94.806124  \n",
       "3        95.636547      95.462916  \n",
       "4        95.240139      95.174520  "
      ]
     },
     "execution_count": 45,
     "metadata": {},
     "output_type": "execute_result"
    }
   ],
   "source": [
    "# Drop columns that are irrelevant \n",
    "JoinSex_plot = JoinSex_final.drop(columns = ['Emp_Women','Pop_Women','Emp_Men','Pop_Men'])\n",
    "JoinSex_plot.head()"
   ]
  },
  {
   "cell_type": "code",
   "execution_count": 49,
   "metadata": {},
   "outputs": [
    {
     "data": {
      "application/vnd.jupyter.widget-view+json": {
       "model_id": "5d131f416d10478580d707fff734b725",
       "version_major": 2,
       "version_minor": 0
      },
      "text/plain": [
       "interactive(children=(Dropdown(description='region', options=('All Denmark', 'Region Syddanmark', 'Region Sjæl…"
      ]
     },
     "metadata": {},
     "output_type": "display_data"
    }
   ],
   "source": [
    "# Defining function to plot figure\n",
    "def draw_graph(region):\n",
    "    Graph_Data = JoinSex_plot.loc[JoinSex_plot['Region'] == region,:]\n",
    "    Graph_Data.set_index('Year').groupby('Region')['Emp_share_Women'].plot(grid=True,color='r')\n",
    "    Graph_Data.set_index('Year').groupby('Region')['Emp_share_Men'].plot(grid=True,color='b')\n",
    "    plt.legend(['Women','Men'])\n",
    "    plt.title('Employment shares in Denmark dependent on gender')\n",
    "\n",
    "# Next we create an interactive line chart which displays the development of employment shares grouped by the regions of Denmark\n",
    "interact(draw_graph, region=['All Denmark', 'Region Syddanmark','Region Sjælland','Region Nordjylland','Region Midtjylland','Region Hovedstaden']);"
   ]
  },
  {
   "cell_type": "markdown",
   "metadata": {},
   "source": [
    "The employment has been more volatile for men when looking at Denmark in total. It is clear that the drop in employment during the financial crisis was biggest for men. \n",
    "Looking at the stacked barchart it can be seen that in general the employment share for men and women has been relatively stabel over the years 2008-2017. "
   ]
  },
  {
   "cell_type": "markdown",
   "metadata": {},
   "source": [
    "## Conclusion"
   ]
  },
  {
   "cell_type": "markdown",
   "metadata": {},
   "source": [
    "From this project it can be concluded that the employment across regions and gender has been remarkably affected by the financial crisis. Furthermore it can be seen from both our analysis that in 2012 the employment started rise but then fell a little in 2016. "
   ]
  }
 ],
 "metadata": {
  "kernelspec": {
   "display_name": "Python 3",
   "language": "python",
   "name": "python3"
  },
  "language_info": {
   "codemirror_mode": {
    "name": "ipython",
    "version": 3
   },
   "file_extension": ".py",
   "mimetype": "text/x-python",
   "name": "python",
   "nbconvert_exporter": "python",
   "pygments_lexer": "ipython3",
   "version": "3.7.1"
  }
 },
 "nbformat": 4,
 "nbformat_minor": 2
}
