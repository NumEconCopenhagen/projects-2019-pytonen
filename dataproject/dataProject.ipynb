#PYTHON DATA PROJECT

#We begin by importing the relevant packages matplotlib, pandas and pydst. 

#IMPORT PACKAGES  
import matplotlib.pyplot as plt
import pandas as pd
import pydst

#Show all columns in iPython console regardless of amount.
pd.set_option("display.max_columns", None)

dst = pydst.Dst(lang='en')

#Import employment data from Statistics Denmark, specifically table RAS201 - All variables in the table are imported to get the full data set. 
Emp = dst.get_data(table_id = 'RAS201', variables={'OMRÅDE':['*'], 'TID':['*'], 'ALDER':['*'], 'HERKOMST':['*'], 'KØN':['*'], 'SOCIO': ['*']})


#Delete the columns age, gender and ancestry. Rename the remaining variables.
for v in ['ALDER', 'KØN', 'HERKOMST']: 
    del Emp[v]
Emp = Emp.rename(columns = {'TID':'Year', 'OMRÅDE': 'Region', 'SOCIO': 'Status', 'INDHOLD': 'Numpers'})


#Delete all municipalities such that only regions and total for Denmark is left. 
#We use a Regex code for logics to remove variables that does not contain 'Region' or 'All Denmark'. 
I = Emp['Region'].str.contains(r'^(?:(?!Region|All Denmark).)*$') 
Emp.drop(Emp[I].index, inplace=True)    
print(Emp)

#Aggregate data to region per year for different socio economical statuses. 
Agg_Emp=Emp.groupby(['Region', 'Year', 'Status'])['Numpers'].sum().reset_index()
Agg_Emp.head()




# Create line chart for Regions and All Denmark
TOT=Agg_Emp.groupby(['Region', 'Year'])['Numpers'].sum()

Status_Emp = Agg_Emp['Status']=='Employed'
Status_Emp.head()

Agg_Emp_New=Agg_Emp[Status_Emp]
Agg_Emp_New.head()

TOT_Emp=Agg_Emp_New.groupby(['Region', 'Year']).sum()
TOT_Emp.head()

Joined = pd.merge(TOT_Emp.reset_index(),TOT.reset_index(),how='inner',on=['Region','Year'])
print(Joined)

Joined = Joined.rename(columns = {'Numpers_x':'Employed', 'Numpers_y':'Population'})

Joined['Employ_share'] = Joined.Employed/Joined.Population*100
Joined.head()
