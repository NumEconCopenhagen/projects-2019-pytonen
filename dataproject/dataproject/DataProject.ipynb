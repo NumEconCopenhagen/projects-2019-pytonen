{
 "cells": [
  {
   "cell_type": "markdown",
   "metadata": {},
   "source": [
    "# Data Project: Analyse Employment Shares of Regions in Denmark "
   ]
  },
  {
   "cell_type": "markdown",
   "metadata": {},
   "source": [
    "## 1.1 Import data "
   ]
  },
  {
   "cell_type": "markdown",
   "metadata": {},
   "source": [
    "Firstly we import the relevant packages that we will use throught out the whole project. "
   ]
  },
  {
   "cell_type": "code",
   "execution_count": 35,
   "metadata": {},
   "outputs": [],
   "source": [
    "import pandas as pd\n",
    "import pydst\n",
    "dst = pydst.Dst(lang='en')"
   ]
  },
  {
   "cell_type": "markdown",
   "metadata": {},
   "source": [
    "We import the table RAS201 from Statistics Denmark by using the pydst package. All variables are imported, which is specified by the '*'. "
   ]
  },
  {
   "cell_type": "code",
   "execution_count": 36,
   "metadata": {},
   "outputs": [
    {
     "data": {
      "text/html": [
       "<div>\n",
       "<style scoped>\n",
       "    .dataframe tbody tr th:only-of-type {\n",
       "        vertical-align: middle;\n",
       "    }\n",
       "\n",
       "    .dataframe tbody tr th {\n",
       "        vertical-align: top;\n",
       "    }\n",
       "\n",
       "    .dataframe thead th {\n",
       "        text-align: right;\n",
       "    }\n",
       "</style>\n",
       "<table border=\"1\" class=\"dataframe\">\n",
       "  <thead>\n",
       "    <tr style=\"text-align: right;\">\n",
       "      <th></th>\n",
       "      <th>OMRÅDE</th>\n",
       "      <th>TID</th>\n",
       "      <th>ALDER</th>\n",
       "      <th>HERKOMST</th>\n",
       "      <th>KØN</th>\n",
       "      <th>SOCIO</th>\n",
       "      <th>INDHOLD</th>\n",
       "    </tr>\n",
       "  </thead>\n",
       "  <tbody>\n",
       "    <tr>\n",
       "      <th>0</th>\n",
       "      <td>Horsens</td>\n",
       "      <td>2014</td>\n",
       "      <td>Under 16 years</td>\n",
       "      <td>Descendants from non-western countries</td>\n",
       "      <td>Women</td>\n",
       "      <td>Outside the labour force</td>\n",
       "      <td>509</td>\n",
       "    </tr>\n",
       "    <tr>\n",
       "      <th>1</th>\n",
       "      <td>Horsens</td>\n",
       "      <td>2011</td>\n",
       "      <td>Under 16 years</td>\n",
       "      <td>Descendants from non-western countries</td>\n",
       "      <td>Men</td>\n",
       "      <td>Outside the labour force</td>\n",
       "      <td>489</td>\n",
       "    </tr>\n",
       "    <tr>\n",
       "      <th>2</th>\n",
       "      <td>Horsens</td>\n",
       "      <td>2012</td>\n",
       "      <td>Under 16 years</td>\n",
       "      <td>Descendants from non-western countries</td>\n",
       "      <td>Men</td>\n",
       "      <td>Outside the labour force</td>\n",
       "      <td>501</td>\n",
       "    </tr>\n",
       "    <tr>\n",
       "      <th>3</th>\n",
       "      <td>Horsens</td>\n",
       "      <td>2013</td>\n",
       "      <td>Under 16 years</td>\n",
       "      <td>Descendants from non-western countries</td>\n",
       "      <td>Men</td>\n",
       "      <td>Outside the labour force</td>\n",
       "      <td>490</td>\n",
       "    </tr>\n",
       "    <tr>\n",
       "      <th>4</th>\n",
       "      <td>Aarhus</td>\n",
       "      <td>2012</td>\n",
       "      <td>35-39 years</td>\n",
       "      <td>Descendants from non-western countries</td>\n",
       "      <td>Women</td>\n",
       "      <td>Employed</td>\n",
       "      <td>36</td>\n",
       "    </tr>\n",
       "  </tbody>\n",
       "</table>\n",
       "</div>"
      ],
      "text/plain": [
       "    OMRÅDE   TID           ALDER                                HERKOMST  \\\n",
       "0  Horsens  2014  Under 16 years  Descendants from non-western countries   \n",
       "1  Horsens  2011  Under 16 years  Descendants from non-western countries   \n",
       "2  Horsens  2012  Under 16 years  Descendants from non-western countries   \n",
       "3  Horsens  2013  Under 16 years  Descendants from non-western countries   \n",
       "4   Aarhus  2012     35-39 years  Descendants from non-western countries   \n",
       "\n",
       "     KØN                     SOCIO  INDHOLD  \n",
       "0  Women  Outside the labour force      509  \n",
       "1    Men  Outside the labour force      489  \n",
       "2    Men  Outside the labour force      501  \n",
       "3    Men  Outside the labour force      490  \n",
       "4  Women                  Employed       36  "
      ]
     },
     "execution_count": 36,
     "metadata": {},
     "output_type": "execute_result"
    }
   ],
   "source": [
    "Emp = dst.get_data(table_id = 'RAS201', variables = {'OMRÅDE':['*'], 'TID':['*'], 'ALDER':['*'], 'HERKOMST':['*'], 'KØN':['*'], 'SOCIO': ['*']})\n",
    "\n",
    "Emp.head()"
   ]
  },
  {
   "cell_type": "markdown",
   "metadata": {},
   "source": [
    "## 1.2 Delete and rename columns "
   ]
  },
  {
   "cell_type": "markdown",
   "metadata": {},
   "source": [
    "We are interested in looking at the development in the overall employment share in the different regions of Denmark and compare it with the employment share for Denmark in total. Thus we delete the columns age, gender and ancestry since we are not interested in these. "
   ]
  },
  {
   "cell_type": "code",
   "execution_count": 37,
   "metadata": {},
   "outputs": [],
   "source": [
    "for v in ['ALDER', 'KØN', 'HERKOMST']: \n",
    "    del Emp[v]"
   ]
  },
  {
   "cell_type": "markdown",
   "metadata": {},
   "source": [
    "Furthermore we rename the remaining variables (columns). "
   ]
  },
  {
   "cell_type": "code",
   "execution_count": 38,
   "metadata": {},
   "outputs": [
    {
     "data": {
      "text/html": [
       "<div>\n",
       "<style scoped>\n",
       "    .dataframe tbody tr th:only-of-type {\n",
       "        vertical-align: middle;\n",
       "    }\n",
       "\n",
       "    .dataframe tbody tr th {\n",
       "        vertical-align: top;\n",
       "    }\n",
       "\n",
       "    .dataframe thead th {\n",
       "        text-align: right;\n",
       "    }\n",
       "</style>\n",
       "<table border=\"1\" class=\"dataframe\">\n",
       "  <thead>\n",
       "    <tr style=\"text-align: right;\">\n",
       "      <th></th>\n",
       "      <th>Region</th>\n",
       "      <th>Year</th>\n",
       "      <th>Status</th>\n",
       "      <th>Num_pers</th>\n",
       "    </tr>\n",
       "  </thead>\n",
       "  <tbody>\n",
       "    <tr>\n",
       "      <th>0</th>\n",
       "      <td>Horsens</td>\n",
       "      <td>2014</td>\n",
       "      <td>Outside the labour force</td>\n",
       "      <td>509</td>\n",
       "    </tr>\n",
       "    <tr>\n",
       "      <th>1</th>\n",
       "      <td>Horsens</td>\n",
       "      <td>2011</td>\n",
       "      <td>Outside the labour force</td>\n",
       "      <td>489</td>\n",
       "    </tr>\n",
       "    <tr>\n",
       "      <th>2</th>\n",
       "      <td>Horsens</td>\n",
       "      <td>2012</td>\n",
       "      <td>Outside the labour force</td>\n",
       "      <td>501</td>\n",
       "    </tr>\n",
       "    <tr>\n",
       "      <th>3</th>\n",
       "      <td>Horsens</td>\n",
       "      <td>2013</td>\n",
       "      <td>Outside the labour force</td>\n",
       "      <td>490</td>\n",
       "    </tr>\n",
       "    <tr>\n",
       "      <th>4</th>\n",
       "      <td>Aarhus</td>\n",
       "      <td>2012</td>\n",
       "      <td>Employed</td>\n",
       "      <td>36</td>\n",
       "    </tr>\n",
       "  </tbody>\n",
       "</table>\n",
       "</div>"
      ],
      "text/plain": [
       "    Region  Year                    Status  Num_pers\n",
       "0  Horsens  2014  Outside the labour force       509\n",
       "1  Horsens  2011  Outside the labour force       489\n",
       "2  Horsens  2012  Outside the labour force       501\n",
       "3  Horsens  2013  Outside the labour force       490\n",
       "4   Aarhus  2012                  Employed        36"
      ]
     },
     "execution_count": 38,
     "metadata": {},
     "output_type": "execute_result"
    }
   ],
   "source": [
    "Emp = Emp.rename(columns = {'TID':'Year', 'OMRÅDE': 'Region', 'SOCIO': 'Status', 'INDHOLD': 'Num_pers'})\n",
    "\n",
    "Emp.head()"
   ]
  },
  {
   "cell_type": "markdown",
   "metadata": {},
   "source": [
    "## 1.3 Aggregate data "
   ]
  },
  {
   "cell_type": "markdown",
   "metadata": {},
   "source": [
    "We would like to aggregate the data such that we have the employment share in each region (and in all Denmark) pr. year pr. social economical status.\n",
    "This is done by firstly using a Regex code to create a new variable that only contains rows that are either a 'Region' or 'All Denmark'. "
   ]
  },
  {
   "cell_type": "code",
   "execution_count": 39,
   "metadata": {},
   "outputs": [],
   "source": [
    "I = Emp['Region'].str.contains(r'^(?:(?!Region|All Denmark).)*$') "
   ]
  },
  {
   "cell_type": "markdown",
   "metadata": {},
   "source": [
    "We now delete all columns that are not a Region or All Denmark. "
   ]
  },
  {
   "cell_type": "code",
   "execution_count": 40,
   "metadata": {},
   "outputs": [
    {
     "data": {
      "text/html": [
       "<div>\n",
       "<style scoped>\n",
       "    .dataframe tbody tr th:only-of-type {\n",
       "        vertical-align: middle;\n",
       "    }\n",
       "\n",
       "    .dataframe tbody tr th {\n",
       "        vertical-align: top;\n",
       "    }\n",
       "\n",
       "    .dataframe thead th {\n",
       "        text-align: right;\n",
       "    }\n",
       "</style>\n",
       "<table border=\"1\" class=\"dataframe\">\n",
       "  <thead>\n",
       "    <tr style=\"text-align: right;\">\n",
       "      <th></th>\n",
       "      <th>Region</th>\n",
       "      <th>Year</th>\n",
       "      <th>Status</th>\n",
       "      <th>Num_pers</th>\n",
       "    </tr>\n",
       "  </thead>\n",
       "  <tbody>\n",
       "    <tr>\n",
       "      <th>3048</th>\n",
       "      <td>Region Nordjylland</td>\n",
       "      <td>2008</td>\n",
       "      <td>Outside the labour force</td>\n",
       "      <td>5</td>\n",
       "    </tr>\n",
       "    <tr>\n",
       "      <th>3049</th>\n",
       "      <td>Region Nordjylland</td>\n",
       "      <td>2009</td>\n",
       "      <td>Outside the labour force</td>\n",
       "      <td>3</td>\n",
       "    </tr>\n",
       "    <tr>\n",
       "      <th>3050</th>\n",
       "      <td>Region Nordjylland</td>\n",
       "      <td>2010</td>\n",
       "      <td>Outside the labour force</td>\n",
       "      <td>4</td>\n",
       "    </tr>\n",
       "    <tr>\n",
       "      <th>3051</th>\n",
       "      <td>Region Nordjylland</td>\n",
       "      <td>2008</td>\n",
       "      <td>Outside the labour force</td>\n",
       "      <td>5</td>\n",
       "    </tr>\n",
       "    <tr>\n",
       "      <th>3052</th>\n",
       "      <td>Region Nordjylland</td>\n",
       "      <td>2009</td>\n",
       "      <td>Outside the labour force</td>\n",
       "      <td>3</td>\n",
       "    </tr>\n",
       "  </tbody>\n",
       "</table>\n",
       "</div>"
      ],
      "text/plain": [
       "                  Region  Year                    Status  Num_pers\n",
       "3048  Region Nordjylland  2008  Outside the labour force         5\n",
       "3049  Region Nordjylland  2009  Outside the labour force         3\n",
       "3050  Region Nordjylland  2010  Outside the labour force         4\n",
       "3051  Region Nordjylland  2008  Outside the labour force         5\n",
       "3052  Region Nordjylland  2009  Outside the labour force         3"
      ]
     },
     "execution_count": 40,
     "metadata": {},
     "output_type": "execute_result"
    }
   ],
   "source": [
    "Emp.drop(Emp[I].index, inplace=True)    \n",
    "\n",
    "Emp.head()"
   ]
  },
  {
   "cell_type": "markdown",
   "metadata": {},
   "source": [
    "#### Delete people outside labour force"
   ]
  },
  {
   "cell_type": "markdown",
   "metadata": {},
   "source": [
    "To calculate the employment share we should remove all persons outside the labour force. \n",
    "To delete people outside the labour force we create a new variable only containing rows where people are employed or unemployed"
   ]
  },
  {
   "cell_type": "code",
   "execution_count": 41,
   "metadata": {},
   "outputs": [],
   "source": [
    "Inside_LF = Emp['Status']!='Outside the labour force'\n",
    "LF = Emp[Inside_LF]"
   ]
  },
  {
   "cell_type": "markdown",
   "metadata": {},
   "source": [
    "#### Aggregate data"
   ]
  },
  {
   "cell_type": "markdown",
   "metadata": {},
   "source": [
    "We can now aggregate our data to region per year for different socioeconomical status (employed or unemployed) or Denmark in total per year per socioeconomical status. This is done by aggregating over our new variable LF that only contains people in the labour force. "
   ]
  },
  {
   "cell_type": "code",
   "execution_count": 42,
   "metadata": {},
   "outputs": [
    {
     "data": {
      "text/html": [
       "<div>\n",
       "<style scoped>\n",
       "    .dataframe tbody tr th:only-of-type {\n",
       "        vertical-align: middle;\n",
       "    }\n",
       "\n",
       "    .dataframe tbody tr th {\n",
       "        vertical-align: top;\n",
       "    }\n",
       "\n",
       "    .dataframe thead th {\n",
       "        text-align: right;\n",
       "    }\n",
       "</style>\n",
       "<table border=\"1\" class=\"dataframe\">\n",
       "  <thead>\n",
       "    <tr style=\"text-align: right;\">\n",
       "      <th></th>\n",
       "      <th>Region</th>\n",
       "      <th>Year</th>\n",
       "      <th>Status</th>\n",
       "      <th>Num_pers</th>\n",
       "    </tr>\n",
       "  </thead>\n",
       "  <tbody>\n",
       "    <tr>\n",
       "      <th>0</th>\n",
       "      <td>All Denmark</td>\n",
       "      <td>2008</td>\n",
       "      <td>Employed</td>\n",
       "      <td>2844814</td>\n",
       "    </tr>\n",
       "    <tr>\n",
       "      <th>1</th>\n",
       "      <td>All Denmark</td>\n",
       "      <td>2008</td>\n",
       "      <td>Unemployed</td>\n",
       "      <td>64209</td>\n",
       "    </tr>\n",
       "    <tr>\n",
       "      <th>2</th>\n",
       "      <td>All Denmark</td>\n",
       "      <td>2009</td>\n",
       "      <td>Employed</td>\n",
       "      <td>2725724</td>\n",
       "    </tr>\n",
       "    <tr>\n",
       "      <th>3</th>\n",
       "      <td>All Denmark</td>\n",
       "      <td>2009</td>\n",
       "      <td>Unemployed</td>\n",
       "      <td>130058</td>\n",
       "    </tr>\n",
       "    <tr>\n",
       "      <th>4</th>\n",
       "      <td>All Denmark</td>\n",
       "      <td>2010</td>\n",
       "      <td>Employed</td>\n",
       "      <td>2704542</td>\n",
       "    </tr>\n",
       "  </tbody>\n",
       "</table>\n",
       "</div>"
      ],
      "text/plain": [
       "        Region  Year      Status  Num_pers\n",
       "0  All Denmark  2008    Employed   2844814\n",
       "1  All Denmark  2008  Unemployed     64209\n",
       "2  All Denmark  2009    Employed   2725724\n",
       "3  All Denmark  2009  Unemployed    130058\n",
       "4  All Denmark  2010    Employed   2704542"
      ]
     },
     "execution_count": 42,
     "metadata": {},
     "output_type": "execute_result"
    }
   ],
   "source": [
    "Agg_Emp = LF.groupby(['Region', 'Year', 'Status'])['Num_pers'].sum().reset_index()\n",
    "\n",
    "Agg_Emp.head()"
   ]
  },
  {
   "cell_type": "markdown",
   "metadata": {},
   "source": [
    "## 1.4 Calcalute Employment shares "
   ]
  },
  {
   "cell_type": "markdown",
   "metadata": {},
   "source": [
    "We calculate the employment share in each region and in All Denmark by dividing the total number of employed people with the total number of people in the labour force. \n",
    "\n",
    "Firstly we create a new table with the total number of persons in each region and all Denmark. "
   ]
  },
  {
   "cell_type": "code",
   "execution_count": 43,
   "metadata": {},
   "outputs": [
    {
     "data": {
      "text/plain": [
       "Region       Year\n",
       "All Denmark  2008    2909023\n",
       "             2009    2855782\n",
       "             2010    2836600\n",
       "             2011    2824217\n",
       "             2012    2820038\n",
       "Name: Num_pers, dtype: int64"
      ]
     },
     "execution_count": 43,
     "metadata": {},
     "output_type": "execute_result"
    }
   ],
   "source": [
    "TOT = Agg_Emp.groupby(['Region', 'Year'])['Num_pers'].sum()\n",
    "TOT.head()"
   ]
  },
  {
   "cell_type": "markdown",
   "metadata": {},
   "source": [
    "Secondly we create a table with the sum of employees in each region and in all Denmark. "
   ]
  },
  {
   "cell_type": "code",
   "execution_count": 44,
   "metadata": {},
   "outputs": [],
   "source": [
    "Status_Emp = Agg_Emp['Status'] == 'Employed'\n",
    "\n",
    "Agg_Emp_New = Agg_Emp[Status_Emp]\n",
    "\n",
    "TOT_Emp = Agg_Emp_New.groupby(['Region', 'Year']).sum()"
   ]
  },
  {
   "cell_type": "markdown",
   "metadata": {},
   "source": [
    "#### Join tables together "
   ]
  },
  {
   "cell_type": "markdown",
   "metadata": {},
   "source": [
    "We can now join the two newly created tables together by merging on the variables Region and Year. "
   ]
  },
  {
   "cell_type": "code",
   "execution_count": 45,
   "metadata": {},
   "outputs": [
    {
     "data": {
      "text/html": [
       "<div>\n",
       "<style scoped>\n",
       "    .dataframe tbody tr th:only-of-type {\n",
       "        vertical-align: middle;\n",
       "    }\n",
       "\n",
       "    .dataframe tbody tr th {\n",
       "        vertical-align: top;\n",
       "    }\n",
       "\n",
       "    .dataframe thead th {\n",
       "        text-align: right;\n",
       "    }\n",
       "</style>\n",
       "<table border=\"1\" class=\"dataframe\">\n",
       "  <thead>\n",
       "    <tr style=\"text-align: right;\">\n",
       "      <th></th>\n",
       "      <th>Region</th>\n",
       "      <th>Year</th>\n",
       "      <th>Num_pers_x</th>\n",
       "      <th>Num_pers_y</th>\n",
       "    </tr>\n",
       "  </thead>\n",
       "  <tbody>\n",
       "    <tr>\n",
       "      <th>0</th>\n",
       "      <td>All Denmark</td>\n",
       "      <td>2008</td>\n",
       "      <td>2844814</td>\n",
       "      <td>2909023</td>\n",
       "    </tr>\n",
       "    <tr>\n",
       "      <th>1</th>\n",
       "      <td>All Denmark</td>\n",
       "      <td>2009</td>\n",
       "      <td>2725724</td>\n",
       "      <td>2855782</td>\n",
       "    </tr>\n",
       "    <tr>\n",
       "      <th>2</th>\n",
       "      <td>All Denmark</td>\n",
       "      <td>2010</td>\n",
       "      <td>2704542</td>\n",
       "      <td>2836600</td>\n",
       "    </tr>\n",
       "    <tr>\n",
       "      <th>3</th>\n",
       "      <td>All Denmark</td>\n",
       "      <td>2011</td>\n",
       "      <td>2698418</td>\n",
       "      <td>2824217</td>\n",
       "    </tr>\n",
       "    <tr>\n",
       "      <th>4</th>\n",
       "      <td>All Denmark</td>\n",
       "      <td>2012</td>\n",
       "      <td>2684840</td>\n",
       "      <td>2820038</td>\n",
       "    </tr>\n",
       "  </tbody>\n",
       "</table>\n",
       "</div>"
      ],
      "text/plain": [
       "        Region  Year  Num_pers_x  Num_pers_y\n",
       "0  All Denmark  2008     2844814     2909023\n",
       "1  All Denmark  2009     2725724     2855782\n",
       "2  All Denmark  2010     2704542     2836600\n",
       "3  All Denmark  2011     2698418     2824217\n",
       "4  All Denmark  2012     2684840     2820038"
      ]
     },
     "execution_count": 45,
     "metadata": {},
     "output_type": "execute_result"
    }
   ],
   "source": [
    "JoinTotal = pd.merge(TOT_Emp.reset_index(),TOT.reset_index(),how='inner',on=['Region','Year'])\n",
    "JoinTotal.head()"
   ]
  },
  {
   "cell_type": "markdown",
   "metadata": {},
   "source": [
    "We rename some of the columns. "
   ]
  },
  {
   "cell_type": "code",
   "execution_count": 46,
   "metadata": {},
   "outputs": [],
   "source": [
    "JoinTotal = JoinTotal.rename(columns = {'Num_pers_x':'Employed', 'Num_pers_y':'Population'})"
   ]
  },
  {
   "cell_type": "markdown",
   "metadata": {},
   "source": [
    "##### We can now calculate the employment share "
   ]
  },
  {
   "cell_type": "code",
   "execution_count": 47,
   "metadata": {},
   "outputs": [],
   "source": [
    "JoinTotal['Employ_share'] = JoinTotal.Employed/JoinTotal.Population*100"
   ]
  },
  {
   "cell_type": "markdown",
   "metadata": {},
   "source": [
    "## 1.5 Create Line chart"
   ]
  },
  {
   "cell_type": "markdown",
   "metadata": {},
   "source": [
    "To get an overview of the development in the employment shares of the different regions we create a line chart. "
   ]
  },
  {
   "cell_type": "code",
   "execution_count": 48,
   "metadata": {},
   "outputs": [
    {
     "data": {
      "text/plain": [
       "Region\n",
       "All Denmark           AxesSubplot(0.125,0.125;0.775x0.755)\n",
       "Region Hovedstaden    AxesSubplot(0.125,0.125;0.775x0.755)\n",
       "Region Midtjylland    AxesSubplot(0.125,0.125;0.775x0.755)\n",
       "Region Nordjylland    AxesSubplot(0.125,0.125;0.775x0.755)\n",
       "Region Sjælland       AxesSubplot(0.125,0.125;0.775x0.755)\n",
       "Region Syddanmark     AxesSubplot(0.125,0.125;0.775x0.755)\n",
       "Name: Employ_share, dtype: object"
      ]
     },
     "execution_count": 48,
     "metadata": {},
     "output_type": "execute_result"
    },
    {
     "data": {
      "image/png": "[encoded data removed]",
      "text/plain": [
       "<Figure size 432x288 with 1 Axes>"
      ]
     },
     "metadata": {
      "needs_background": "light"
     },
     "output_type": "display_data"
    }
   ],
   "source": [
    "JoinTotal.set_index('Year').groupby('Region')['Employ_share'].plot(legend=True, grid=True, title='Development in Employment Shares (pct.)')"
   ]
  },
  {
   "cell_type": "markdown",
   "metadata": {},
   "source": [
    "We have also create a line chart with a dropdown menu where it is possible to only look at one variable at the time. This gives the opportunity to look at the development in each region or in all Denmark individually. "
   ]
  },
  {
   "cell_type": "code",
   "execution_count": 49,
   "metadata": {},
   "outputs": [
    {
     "data": {
      "application/vnd.jupyter.widget-view+json": {
       "model_id": "2dedf20646964618abfc0a02a0af65eb",
       "version_major": 2,
       "version_minor": 0
      },
      "text/plain": [
       "interactive(children=(Dropdown(description='region', options=('All Denmark', 'Region Syddanmark', 'Region Sjæl…"
      ]
     },
     "metadata": {},
     "output_type": "display_data"
    },
    {
     "data": {
      "text/plain": [
       "<function __main__.draw_graph(region)>"
      ]
     },
     "execution_count": 49,
     "metadata": {},
     "output_type": "execute_result"
    }
   ],
   "source": [
    "from ipywidgets import interact\n",
    "def draw_graph(region):\n",
    "    Graph_Data = JoinTotal.loc[JoinTotal['Region'] == region,:]\n",
    "    Graph_Data.set_index('Year').groupby('Region')['Employ_share'].plot(legend=True, grid=True, title='Development in Employment Shares (pct.)')\n",
    "    return\n",
    "\n",
    "# Next we create an interactive line chart which displays the development of employment shares grouped by the regions of Denmark\n",
    "interact(draw_graph, region=['All Denmark', 'Region Syddanmark','Region Sjælland','Region Nordjylland','Region Midtjylland','Region Hovedstaden'])\n"
   ]
  },
  {
   "cell_type": "markdown",
   "metadata": {},
   "source": [
    "## 1.6 Conclusion"
   ]
  },
  {
   "cell_type": "markdown",
   "metadata": {},
   "source": [
    "The main conclusion of the analysis is, that the delevopment of the employment shares follows the same pattern throughout all regions of Denmark. All Regions were noticeably influenced by the Financial Crisis in 2008-2009 where the employment shares fell in all regions. Yet as shown in the line charts Region Midtjylland in general has a higher level of employment whereas Region Nordjylland seems to have the most volatile development of the regions, compared to the employment share in All Denmark."
   ]
  }
 ],
 "metadata": {
  "kernelspec": {
   "display_name": "Python 3",
   "language": "python",
   "name": "python3"
  },
  "language_info": {
   "codemirror_mode": {
    "name": "ipython",
    "version": 3
   },
   "file_extension": ".py",
   "mimetype": "text/x-python",
   "name": "python",
   "nbconvert_exporter": "python",
   "pygments_lexer": "ipython3",
   "version": "3.7.1"
  }
 },
 "nbformat": 4,
 "nbformat_minor": 2
}
