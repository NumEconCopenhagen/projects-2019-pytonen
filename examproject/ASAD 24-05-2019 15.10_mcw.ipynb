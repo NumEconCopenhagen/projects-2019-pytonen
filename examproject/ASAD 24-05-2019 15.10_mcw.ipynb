{
 "cells": [
  {
   "cell_type": "code",
   "execution_count": 29,
   "metadata": {},
   "outputs": [],
   "source": [
    "import numpy as np\n",
    "import sympy as sm\n",
    "import matplotlib.pyplot as plt"
   ]
  },
  {
   "cell_type": "markdown",
   "metadata": {},
   "source": [
    "# 2. AS-AD model"
   ]
  },
  {
   "cell_type": "markdown",
   "metadata": {},
   "source": [
    "Consider the following **AS-AD model**. The **goods market equilibrium** is given by\n",
    "\n",
    "$$ y_{t} = -\\alpha r_{t} + v_{t} $$\n",
    "\n",
    "where $y_{t}$ is the **output gap**, $r_{t}$ is the **ex ante real interest** and $v_{t}$ is a **demand disturbance**. "
   ]
  },
  {
   "cell_type": "markdown",
   "metadata": {},
   "source": [
    "The central bank's **Taylor rule** is\n",
    "\n",
    "$$ i_{t} = \\pi_{t+1}^{e} + h \\pi_{t} + b y_{t}$$\n",
    "\n",
    "where $i_{t}$ is the **nominal interest rate**, $\\pi_{t}$ is the **inflation gap**, and $\\pi_{t+1}^{e}$ is the **expected inflation gap**. "
   ]
  },
  {
   "cell_type": "markdown",
   "metadata": {},
   "source": [
    "The **ex ante real interest rate** is given by \n",
    "\n",
    "$$ r_{t} = i_{t} - \\pi_{t+1}^{e} $$"
   ]
  },
  {
   "cell_type": "markdown",
   "metadata": {},
   "source": [
    "Together, the above implies that the **AD-curve** is\n",
    "\n",
    "$$ \\pi_{t} = \\frac{1}{h\\alpha}\\left[v_{t} - (1+b\\alpha)y_{t}\\right]$$"
   ]
  },
  {
   "cell_type": "markdown",
   "metadata": {},
   "source": [
    "Further, assume that the **short-run supply curve (SRAS)** is given by\n",
    "\n",
    "$$ \\pi_{t} = \\pi_{t}^{e} + \\gamma y_{t} + s_{t}$$\n",
    "\n",
    "where $s_t$ is a **supply disturbance**."
   ]
  },
  {
   "cell_type": "markdown",
   "metadata": {},
   "source": [
    "**Inflation expectations are adaptive** and given by\n",
    "\n",
    "$$ \\pi_{t}^{e} = \\phi\\pi_{t-1}^{e} + (1-\\phi)\\pi_{t-1}$$"
   ]
  },
  {
   "cell_type": "markdown",
   "metadata": {},
   "source": [
    "Together, this implies that the **SRAS-curve** can also be written as\n",
    "\n",
    "$$ \\pi_{t} = \\pi_{t-1} + \\gamma y_{t} - \\phi\\gamma y_{t-1} + s_{t} - \\phi s_{t-1} $$"
   ]
  },
  {
   "cell_type": "markdown",
   "metadata": {},
   "source": [
    "The **parameters** of the model are:"
   ]
  },
  {
   "cell_type": "code",
   "execution_count": 30,
   "metadata": {},
   "outputs": [],
   "source": [
    "par = {}\n",
    "\n",
    "par['alpha'] = 5.76\n",
    "par['h'] = 0.5\n",
    "par['b'] = 0.5\n",
    "par['phi'] = 0\n",
    "par['gamma'] = 0.075"
   ]
  },
  {
   "cell_type": "markdown",
   "metadata": {},
   "source": [
    "**Question 1:** Use the ``sympy`` module to solve for the equilibrium values of output, $y_t$, and inflation, $\\pi_t$, (where AD = SRAS) given the parameters ($\\alpha$, $h$, $b$, $\\alpha$, $\\gamma$) and $y_{t-1}$ , $\\pi_{t-1}$, $v_t$, $s_t$, and $s_{t-1}$."
   ]
  },
  {
   "cell_type": "code",
   "execution_count": 31,
   "metadata": {},
   "outputs": [],
   "source": [
    "# Importing the sympy module\n",
    "import sympy as sm\n",
    "sm.init_printing(use_unicode=True)"
   ]
  },
  {
   "cell_type": "code",
   "execution_count": 32,
   "metadata": {},
   "outputs": [],
   "source": [
    "# Defining the variables and the parameters of the model in terms of sympy\n",
    "y = sm.symbols('y_t')\n",
    "pi = sm.symbols('pi_t')\n",
    "y1 = sm.symbols('y_t-1')\n",
    "pi1 = sm.symbols('pi_t-1')\n",
    "v = sm.symbols('v_t')\n",
    "s = sm.symbols('s_t')\n",
    "s1 = sm.symbols('s_t-1')\n",
    "gamma = sm.symbols('gamma')\n",
    "alpha = sm.symbols('alpha')\n",
    "h = sm.symbols('h')\n",
    "b = sm.symbols('b')\n",
    "phi = sm.symbols('phi')\n",
    "\n",
    "# Defining the AD and SRAS equations in terms of the sympy variables\n",
    "SRAS = pi1 + gamma*y-phi*gamma*y1+s-phi*s1\n",
    "AD = 1/(h*alpha)*(v-(1+b*alpha)*y)"
   ]
  },
  {
   "cell_type": "code",
   "execution_count": 33,
   "metadata": {},
   "outputs": [],
   "source": [
    "# We set SRAS equal to AS \n",
    "SRAS_AD = sm.Eq(SRAS, AD)"
   ]
  },
  {
   "cell_type": "code",
   "execution_count": 34,
   "metadata": {},
   "outputs": [],
   "source": [
    "y_st = sm.solve(SRAS_AD, y)"
   ]
  },
  {
   "cell_type": "code",
   "execution_count": 35,
   "metadata": {
    "scrolled": true
   },
   "outputs": [
    {
     "name": "stdout",
     "output_type": "stream",
     "text": [
      "The optimal value for y in equilibrium is:\n"
     ]
    },
    {
     "data": {
      "image/png": "[encoded data removed]",
      "text/latex": [
       "$$\\left [ \\frac{\\alpha \\gamma h \\phi y_{t-1} + \\alpha h \\phi s_{t-1} - \\alpha h \\pi_{t-1} - \\alpha h s_{t} + v_{t}}{\\alpha b + \\alpha \\gamma h + 1}\\right ]$$"
      ],
      "text/plain": [
       "⎡α⋅γ⋅h⋅φ⋅yₜ₋₁ + α⋅h⋅φ⋅sₜ₋₁ - α⋅h⋅πₜ₋₁ - α⋅h⋅sₜ + vₜ⎤\n",
       "⎢──────────────────────────────────────────────────⎥\n",
       "⎣                 α⋅b + α⋅γ⋅h + 1                  ⎦"
      ]
     },
     "execution_count": 35,
     "metadata": {},
     "output_type": "execute_result"
    }
   ],
   "source": [
    "print(f'The optimal value for y in equilibrium is:')\n",
    "y_st"
   ]
  },
  {
   "cell_type": "markdown",
   "metadata": {},
   "source": [
    "We can now find the value for $\\pi_t$ given the value for $y_t$"
   ]
  },
  {
   "cell_type": "code",
   "execution_count": 36,
   "metadata": {},
   "outputs": [],
   "source": [
    "pi_st = 1/(h*alpha)*(v-(1+b*alpha)*y_st[0])  # we add [0] as y_t is a list with one element at index 0"
   ]
  },
  {
   "cell_type": "code",
   "execution_count": 37,
   "metadata": {},
   "outputs": [
    {
     "name": "stdout",
     "output_type": "stream",
     "text": [
      "The optimal value for pi in equilibrium is:\n"
     ]
    },
    {
     "data": {
      "image/png": "[encoded data removed]",
      "text/latex": [
       "$$\\frac{v_{t} - \\frac{\\left(\\alpha b + 1\\right) \\left(\\alpha \\gamma h \\phi y_{t-1} + \\alpha h \\phi s_{t-1} - \\alpha h \\pi_{t-1} - \\alpha h s_{t} + v_{t}\\right)}{\\alpha b + \\alpha \\gamma h + 1}}{\\alpha h}$$"
      ],
      "text/plain": [
       "     (α⋅b + 1)⋅(α⋅γ⋅h⋅φ⋅yₜ₋₁ + α⋅h⋅φ⋅sₜ₋₁ - α⋅h⋅πₜ₋₁ - α⋅h⋅sₜ + vₜ)\n",
       "vₜ - ──────────────────────────────────────────────────────────────\n",
       "                            α⋅b + α⋅γ⋅h + 1                        \n",
       "───────────────────────────────────────────────────────────────────\n",
       "                                α⋅h                                "
      ]
     },
     "execution_count": 37,
     "metadata": {},
     "output_type": "execute_result"
    }
   ],
   "source": [
    "print(f'The optimal value for pi in equilibrium is:')\n",
    "pi_st"
   ]
  },
  {
   "cell_type": "markdown",
   "metadata": {},
   "source": [
    "**Question 2:** Find and illustrate the equilibrium when $y_{t-1} = \\pi_{t-1} = v_t = s_t = s_{t-1} = 0$. Illustrate how the equilibrium changes when instead $v_t = 0.1$."
   ]
  },
  {
   "cell_type": "markdown",
   "metadata": {},
   "source": [
    "Firstly we turn our sympy functions into numerically functions such that we can solve for $y_t$ and $\\pi_t$"
   ]
  },
  {
   "cell_type": "code",
   "execution_count": 38,
   "metadata": {},
   "outputs": [],
   "source": [
    "y_num = sm.lambdify((v,alpha,b,gamma,h,phi,y1,pi1,s,s1),y_st[0])\n",
    "pi_num = sm.lambdify((v,alpha,b,gamma,h,phi,y1,pi1,s,s1), pi_st)"
   ]
  },
  {
   "cell_type": "markdown",
   "metadata": {},
   "source": [
    "Next, we define output and inflation as functions, $y_t$ and $\\pi_t$"
   ]
  },
  {
   "cell_type": "code",
   "execution_count": 39,
   "metadata": {},
   "outputs": [],
   "source": [
    "def y_func(v,y1,pi1,s,s1):\n",
    "    return y_num(v,par['alpha'],par['b'],par['gamma'],par['h'],par['phi'],y1,pi1,s,s1)\n",
    "\n",
    "def pi_func(v,y1,pi1,s,s1):\n",
    "    return pi_num(v,par['alpha'],par['b'],par['gamma'],par['h'],par['phi'],y1,pi1,s,s1)"
   ]
  },
  {
   "cell_type": "markdown",
   "metadata": {},
   "source": [
    "For $y_{t-1} = \\pi_{t-1} = v_t = s_t = s_{t-1} = 0$ we get that $y_t$ and $\\pi_t$ in equilibrium are: "
   ]
  },
  {
   "cell_type": "code",
   "execution_count": 40,
   "metadata": {},
   "outputs": [
    {
     "name": "stdout",
     "output_type": "stream",
     "text": [
      "y in equilibrium: 0.0\n",
      "pi in equilibrium: 0.0\n"
     ]
    }
   ],
   "source": [
    "print(f'y in equilibrium:',y_func(v=0,y1=0,pi1=0,s=0,s1=0))\n",
    "print(f'pi in equilibrium:',pi_func(v=0,y1=0,pi1=0,s=0,s1=0))"
   ]
  },
  {
   "cell_type": "markdown",
   "metadata": {},
   "source": [
    "For the demand shock $v_t=0.1$ we get that $y_t$ and $\\pi_t$ are:"
   ]
  },
  {
   "cell_type": "code",
   "execution_count": 41,
   "metadata": {},
   "outputs": [
    {
     "name": "stdout",
     "output_type": "stream",
     "text": [
      "y when v_t=0.1: 0.0244140625\n",
      "pi when v_t=0.1: 0.001831054687500002\n"
     ]
    }
   ],
   "source": [
    "print(f'y when v_t=0.1:',y_func(v=0.1,y1=0,pi1=0,s=0,s1=0))\n",
    "print(f'pi when v_t=0.1:',pi_func(v=0.1,y1=0,pi1=0,s=0,s1=0))"
   ]
  },
  {
   "cell_type": "markdown",
   "metadata": {},
   "source": [
    "To illustrate this graphically we define our AD and SRAS curves numerically "
   ]
  },
  {
   "cell_type": "code",
   "execution_count": 42,
   "metadata": {},
   "outputs": [],
   "source": [
    "def SRAS_fun(pi1,s,s1,y): \n",
    "    return pi1 + par['gamma']*y-par['phi']*par['gamma']*y1+s-par['phi']*s1\n",
    "\n",
    "def AD_fun(v,y):\n",
    "    return 1/(par['h']*par['alpha'])*(v-(1+par['b']*par['alpha'])*y)"
   ]
  },
  {
   "cell_type": "code",
   "execution_count": 43,
   "metadata": {},
   "outputs": [
    {
     "data": {
      "image/png": "[encoded data removed]",
      "text/plain": [
       "<Figure size 432x288 with 1 Axes>"
      ]
     },
     "metadata": {
      "needs_background": "light"
     },
     "output_type": "display_data"
    }
   ],
   "source": [
    "# Plotting the AD and SRAS curve before and after the shock\n",
    "pi1 = 0 \n",
    "s = 0 \n",
    "s1 = 0 \n",
    "v = 0 \n",
    "v_shock = 0.1\n",
    "y = np.linspace(-0.5,0.5,100)\n",
    "\n",
    "AD_new = AD_fun(v,y)\n",
    "AD_shock = AD_fun(v_shock,y)\n",
    "SRAS_new = SRAS_fun(pi1,s,s1,y)\n",
    "\n",
    "\n",
    "fig = plt.figure()\n",
    "plt.axes()\n",
    "ax = fig.add_subplot(1,1,1)\n",
    "ax.plot(y, AD_new, label='AD in equilibrium')\n",
    "ax.plot(y, AD_shock, label='AD with demand shock, $v_1=0.1$')\n",
    "ax.plot(y, SRAS_new, label='SRAS in equilibrium')\n",
    "ax.set_xlabel('output gap, $y_t$')\n",
    "ax.set_ylabel('inflation gap, $pi_t$')\n",
    "ax.set_title ('AS-AD model with positive demand shock')\n",
    "ax.grid()\n",
    "ax.legend();"
   ]
  },
  {
   "cell_type": "markdown",
   "metadata": {},
   "source": [
    "**Persistent disturbances:** Now, additionaly, assume that both the demand and the supply disturbances are AR(1) processes\n",
    "\n",
    "$$ v_{t} = \\delta v_{t-1} + x_{t} $$\n",
    "$$ s_{t} = \\omega s_{t-1} + c_{t} $$\n",
    "\n",
    "where $x_{t}$ is a **demand shock**, and $c_t$ is a **supply shock**. The **autoregressive parameters** are:"
   ]
  },
  {
   "cell_type": "code",
   "execution_count": 44,
   "metadata": {},
   "outputs": [],
   "source": [
    "par['delta'] = 0.80\n",
    "par['omega'] = 0.15"
   ]
  },
  {
   "cell_type": "markdown",
   "metadata": {},
   "source": [
    "**Question 3:** Starting from $y_{-1} = \\pi_{-1} = s_{-1} = 0$, how does the economy evolve for $x_0 = 0.1$, $x_t = 0, \\forall t > 0$ and $c_t = 0, \\forall t \\geq 0$?"
   ]
  },
  {
   "cell_type": "markdown",
   "metadata": {},
   "source": [
    "To examine the evolution of the economy after a persistent shock, $x_0=0.1$, we consider output gap and inflation gap within 100 periods."
   ]
  },
  {
   "cell_type": "code",
   "execution_count": 45,
   "metadata": {},
   "outputs": [],
   "source": [
    "# Defining the autoregressive shocks\n",
    "def v_ar(v1,x):\n",
    "    return par['delta']*v1+x\n",
    "\n",
    "def s_ar(s1,c):\n",
    "    return par['omega']*s1+c\n",
    "\n",
    "# Setting initial values\n",
    "T = 100\n",
    "pi_vec = [0]\n",
    "y_vec = [0]\n",
    "s_vec = [0]\n",
    "v_vec = [0]\n",
    "c_vec = np.zeros(T)\n",
    "x_vec = np.zeros(T)\n",
    "x_vec[1] = 0.1\n",
    "\n",
    "# Simulation\n",
    "for t in range(1,T):\n",
    "    s_vec.append(s_ar(s_vec[t-1],c_vec[t])) # appending the ar-process to the s-vector\n",
    "    v_vec.append(v_ar(v_vec[t-1],x_vec[t])) # appending the ar-process to the v-vector\n",
    "\n",
    "    y_vec.append(y_func(v_vec[t],y_vec[t-1],pi_vec[t-1],s_vec[t],s_vec[t-1])) # appending all vectors to output \n",
    "    pi_vec.append(pi_func(v_vec[t],y_vec[t-1],pi_vec[t-1],s_vec[t],s_vec[t-1])) # appending all vectors to inflation"
   ]
  },
  {
   "cell_type": "code",
   "execution_count": 46,
   "metadata": {},
   "outputs": [
    {
     "data": {
      "image/png": "[encoded data removed]",
      "text/plain": [
       "<Figure size 432x288 with 1 Axes>"
      ]
     },
     "metadata": {
      "needs_background": "light"
     },
     "output_type": "display_data"
    }
   ],
   "source": [
    "# Creating an empty time-vector, to be able to plot the figure:\n",
    "time = np.linspace(1,T,T)\n",
    "\n",
    "# Plotting the result\n",
    "fig = plt.figure()\n",
    "plt.axes()\n",
    "ax = fig.add_subplot(1,1,1)\n",
    "ax.plot(time, y_vec)\n",
    "ax.plot(time, pi_vec)\n",
    "ax.set_xlabel('time')\n",
    "ax.set_ylabel('inflation- and output gap')\n",
    "ax.set_title('Evolution of economy after demand shock, $v_t=0.1$')\n",
    "ax.grid()"
   ]
  },
  {
   "cell_type": "markdown",
   "metadata": {},
   "source": [
    "**Stochastic shocks:** Now, additionally, assume that $x_t$ and $c_t$ are stochastic and normally distributed\n",
    "\n",
    "$$ x_{t}\\sim\\mathcal{N}(0,\\sigma_{x}^{2}) $$\n",
    "$$ c_{t}\\sim\\mathcal{N}(0,\\sigma_{c}^{2}) $$\n",
    "\n",
    "The **standard deviations of the shocks** are:"
   ]
  },
  {
   "cell_type": "code",
   "execution_count": 47,
   "metadata": {},
   "outputs": [],
   "source": [
    "par['sigma_x'] = 3.492\n",
    "par['sigma_c'] = 0.2"
   ]
  },
  {
   "cell_type": "markdown",
   "metadata": {},
   "source": [
    "**Question 4:** Simulate the AS-AD model for 1,000 periods. Calculate the following five statistics:\n",
    "\n",
    "1. Variance of $y_t$, $var(y_t)$\n",
    "2. Variance of $\\pi_t$, $var(\\pi_t)$\n",
    "3. Correlation between $y_t$ and $\\pi_t$, $corr(y_t,\\pi_t)$\n",
    "4. Auto-correlation between $y_t$ and $y_{t-1}$, $corr(y_t,y_{t-1})$\n",
    "5. Auto-correlation between $\\pi_t$ and $\\pi_{t-1}$, $corr(\\pi_t,\\pi_{t-1})$"
   ]
  },
  {
   "cell_type": "code",
   "execution_count": 48,
   "metadata": {},
   "outputs": [],
   "source": [
    "np.random.seed(2608)\n",
    "# Redefining time\n",
    "T_stoc = 1000\n",
    "pi_stoc_vec = [0]\n",
    "y_stoc_vec = [0]\n",
    "s_stoc_vec = [0]\n",
    "v_stoc_vec = [0]\n",
    "c_stoc_vec = np.random.normal(loc=0.0,scale=par['sigma_c'],size=1000)\n",
    "x_stoc_vec = np.random.normal(loc=0.0,scale=par['sigma_x'],size=1000)\n",
    "\n",
    "\n",
    "for t in range(1,T_stoc):\n",
    "    s_stoc_vec.append(s_ar(s_stoc_vec[t-1],c_stoc_vec[t])) # appending the ar-process to the s-vector\n",
    "    v_stoc_vec.append(v_ar(v_stoc_vec[t-1],x_stoc_vec[t])) # appending the ar-process to the v-vector\n",
    "\n",
    "    y_stoc_vec.append(y_func(v_stoc_vec[t],y_stoc_vec[t-1],pi_stoc_vec[t-1],s_stoc_vec[t],s_stoc_vec[t-1])) # appending all vectors to output \n",
    "    pi_stoc_vec.append(pi_func(v_stoc_vec[t],y_stoc_vec[t-1],pi_stoc_vec[t-1],s_stoc_vec[t],s_stoc_vec[t-1])) # appending all vectors to inflation\n",
    "    \n",
    "    "
   ]
  },
  {
   "cell_type": "code",
   "execution_count": 49,
   "metadata": {},
   "outputs": [
    {
     "data": {
      "image/png": "[encoded data removed]",
      "text/plain": [
       "<Figure size 432x288 with 1 Axes>"
      ]
     },
     "metadata": {
      "needs_background": "light"
     },
     "output_type": "display_data"
    }
   ],
   "source": [
    "# Creating an empty time-vector, to be able to plot the figure:\n",
    "time2 = np.linspace(1,T_stoc,T_stoc)\n",
    "\n",
    "# Plotting the result\n",
    "fig = plt.figure()\n",
    "plt.axes()\n",
    "ax = fig.add_subplot(1,1,1)\n",
    "ax.plot(time2, y_stoc_vec)\n",
    "ax.plot(time2, pi_stoc_vec)\n",
    "ax.set_xlabel('time')\n",
    "ax.set_ylabel('inflation- and output gap')\n",
    "ax.set_title('Simulation of the AS-AD model for 1,000 periods')\n",
    "ax.grid()"
   ]
  },
  {
   "cell_type": "code",
   "execution_count": 50,
   "metadata": {},
   "outputs": [
    {
     "name": "stdout",
     "output_type": "stream",
     "text": [
      "var(y_t) = 1.833\n",
      "var(pi_t) = 1.036\n",
      "ac(y_t) = 0.757\n",
      "ac(pi_t) = 0.975\n",
      "corr(y_t,pi_t) = -0.156\n"
     ]
    }
   ],
   "source": [
    "# Calculationg statistics using numpy\n",
    "var_y = np.var(y_stoc_vec)\n",
    "var_pi = np.var(pi_stoc_vec)\n",
    "ac_pi = np.corrcoef(pi_stoc_vec[1:T_stoc],pi_stoc_vec[0:-1])\n",
    "ac_y = np.corrcoef(y_stoc_vec[1:],y_stoc_vec[:-1])\n",
    "corr_ypi = np.corrcoef(y_stoc_vec,pi_stoc_vec)\n",
    "\n",
    "# Printing the result\n",
    "print(f'var(y_t) = {var_y:.3f}')\n",
    "print(f'var(pi_t) = {var_pi:.3f}')\n",
    "# For the correlation function, numpy return a matrix of correlations of  y_t with y_t, y_t with y_t-1 etc. Hence we refer to the first number in the first line to find the correlation between the numbers \n",
    "print(f'ac(y_t) = {ac_y[0,1]:.3f}')\n",
    "print(f'ac(pi_t) = {ac_pi[0,1]:.3f}')\n",
    "print(f'corr(y_t,pi_t) = {corr_ypi[0,1]:.3f}')"
   ]
  },
  {
   "cell_type": "markdown",
   "metadata": {},
   "source": [
    "**Question 5:** Plot how the correlation between $y_t$ and $\\pi_t$ changes with $\\phi$. Use a numerical optimizer or root finder to choose $\\phi\\in(0,1)$ such that the simulated correlation between $y_t$ and $\\pi_t$ comes close to 0.31. "
   ]
  },
  {
   "cell_type": "code",
   "execution_count": null,
   "metadata": {},
   "outputs": [],
   "source": [
    "def y_func_corr(phi,v,y1,pi1,s,s1):\n",
    "    return y_num(v,par['alpha'],par['b'],par['gamma'],par['h'],phi,y1,pi1,s,s1)\n",
    "\n",
    "def pi_func_corr(phi,v,y1,pi1,s,s1):\n",
    "    return pi_num(v,par['alpha'],par['b'],par['gamma'],par['h'],phi,y1,pi1,s,s1)\n",
    "\n",
    "def v_ar(v1,x):\n",
    "    return par['delta']*v1+x\n",
    "\n",
    "def s_ar(s1,c):\n",
    "    return par['omega']*s1+c"
   ]
  },
  {
   "cell_type": "code",
   "execution_count": null,
   "metadata": {},
   "outputs": [],
   "source": [
    "# Redefining functions for output and inflaiton gap in terms of phi as a variable\n",
    "def y_func_corr(phi,v,y1,pi1,s,s1):\n",
    "    return y_num(v,par['alpha'],par['b'],par['gamma'],par['h'],phi,y1,pi1,s,s1)\n",
    "\n",
    "def pi_func_corr(phi,v,y1,pi1,s,s1):\n",
    "    return pi_num(v,par['alpha'],par['b'],par['gamma'],par['h'],phi,y1,pi1,s,s1)\n",
    "\n",
    "np.random.seed(2608)\n",
    "T_phi = 1000\n",
    "\n",
    "def corr(phi):\n",
    "    \n",
    "    # Redefining initial values\n",
    "    v_phi_vec = [0]\n",
    "    s_phi_vec = [0]\n",
    "    c_phi_vec = np.random.normal(loc=0.0,scale=par['sigma_c'],size=1000)\n",
    "    x_phi_vec = np.random.normal(loc=0.0,scale=par['sigma_x'],size=1000)\n",
    "    pi_phi_vec = [0]\n",
    "    y_phi_vec = [0]\n",
    "    \n",
    "    for t in range(1,T_stoc):\n",
    "        s_phi_vec.append(s_ar(s_phi_vec[t-1],c_phi_vec[t])) # appending the ar-process to the s-vector\n",
    "        v_phi_vec.append(v_ar(v_phi_vec[t-1],x_phi_vec[t])) # appending the ar-process to the v-vector\n",
    "\n",
    "        y_phi_vec.append(y_func_corr(phi,v_phi_vec[t],y_phi_vec[t-1],pi_phi_vec[t-1],s_phi_vec[t],s_phi_vec[t-1])) # appending all vectors to output \n",
    "        pi_phi_vec.append(pi_func_corr(phi,v_phi_vec[t],y_phi_vec[t-1],pi_phi_vec[t-1],s_phi_vec[t],s_phi_vec[t-1])) # appending all vectors to inflation\n",
    "    \n",
    "        corr = np.correlate(y_phi_vec,pi_phi_vec)\n",
    "    \n",
    "    return y_phi_vec, pi_phi_vec, corr\n",
    "\n"
   ]
  },
  {
   "cell_type": "code",
   "execution_count": null,
   "metadata": {},
   "outputs": [],
   "source": [
    "phi_vec = np.linspace(1e-8,1,T_stoc)\n",
    "print(phi_vec)"
   ]
  },
  {
   "cell_type": "code",
   "execution_count": null,
   "metadata": {},
   "outputs": [],
   "source": [
    "plt.plot(phi_vec,corr(phi_vec))"
   ]
  },
  {
   "cell_type": "code",
   "execution_count": null,
   "metadata": {},
   "outputs": [],
   "source": [
    "pklk"
   ]
  },
  {
   "cell_type": "code",
   "execution_count": null,
   "metadata": {},
   "outputs": [],
   "source": [
    "# Defining phi as a vector\n",
    "\n",
    "\n",
    "for x in phi_vec:\n",
    "    result = corr(x)\n",
    "    corr_vec.append(result)"
   ]
  },
  {
   "cell_type": "code",
   "execution_count": null,
   "metadata": {},
   "outputs": [],
   "source": [
    "plt.figure()\n",
    "plt.plot(phi_vec,corr(phi))"
   ]
  },
  {
   "cell_type": "code",
   "execution_count": null,
   "metadata": {},
   "outputs": [],
   "source": [
    "def correlation(phi):\n",
    "    \n",
    "    # Setting initial values\n",
    "    pi_vec_corr = [0]\n",
    "    y_vec_corr = [0]\n",
    "\n",
    "    # Simulating \n",
    "    for t in range(1,1000):\n",
    "        pi_vec_corr.append(y_func_corr(phi,v_vec[t],y_vec[t-1],pi_vec[t-1],s_vec[t],s_vec[t-1]))\n",
    "        y_vec_corr.append(y_func_corr(phi,v_vec[t],y_vec[t-1],pi_vec[t-1],s_vec[t],s_vec[t-1]))\n",
    "        \n",
    "    \n",
    "    corr_matrix = np.corrcoef(pi_vec_corr,y_vec_corr)\n",
    "    return corr_matrix \n",
    "\n",
    "\n",
    "phi_vec = np.linspace(1e-8,1,1000)\n",
    "correlation(phi_vec)"
   ]
  },
  {
   "cell_type": "code",
   "execution_count": null,
   "metadata": {},
   "outputs": [],
   "source": [
    "# First we plot how the correlation between inflation and output gap depend on phi.\n",
    "\n",
    "# Redefining functions for output and inflaiton gap in terms of phi as a variable\n",
    "def y_phi_func(phi,v,y1,pi1,s,s1):\n",
    "    return y_num(v,par['alpha'],par['b'],par['gamma'],par['h'],phi,y1,pi1,s,s1)\n",
    "\n",
    "def pi_phi_func(phi,v,y1,pi1,s,s1):\n",
    "    return pi_num(v,par['alpha'],par['b'],par['gamma'],par['h'],phi,y1,pi1,s,s1)\n",
    "\n",
    "# Defining initial values for the vectors needed in the simulation\n",
    "def corr(phi):\n",
    "    \n",
    "    # Redefining initial values\n",
    "    T_phi = 1000\n",
    "    v_phi_vec = [0]\n",
    "    s_phi_vec = [0]\n",
    "    c_phi_vec = np.random.normal(loc=0.0,scale=par['sigma_c'],size=1000)\n",
    "    x_phi_vec = np.random.normal(loc=0.0,scale=par['sigma_x'],size=1000)\n",
    "    pi_phi_vec = [0]\n",
    "    y_phi_vec = [0]\n",
    "    corr_vec = [0]\n",
    "    \n",
    "    for t in range(1,T_stoc):\n",
    "        s_phi_vec.append(s_ar(s_phi_vec[t-1],c_phi_vec[t])) # appending the ar-process to the s-vector\n",
    "        v_phi_vec.append(v_ar(v_phi_vec[t-1],x_phi_vec[t])) # appending the ar-process to the v-vector\n",
    "\n",
    "        y_phi_vec.append(y_phi_func(phi,v_phi_vec[t],y_phi_vec[t-1],pi_phi_vec[t-1],s_phi_vec[t],s_phi_vec[t-1])) # appending all vectors to output \n",
    "        pi_phi_vec.append(pi_phi_func(phi,v_phi_vec[t],y_phi_vec[t-1],pi_phi_vec[t-1],s_phi_vec[t],s_phi_vec[t-1])) # appending all vectors to inflation\n",
    "    \n",
    "    corr_phi = np.corrcoef(y_phi_vec,pi_phi_vec)\n",
    "    \n",
    "    result=corr_phi[0,1]\n",
    "    \n",
    "    return result\n",
    "\n"
   ]
  },
  {
   "cell_type": "markdown",
   "metadata": {},
   "source": [
    "**Quesiton 6:** Use a numerical optimizer to choose $\\sigma_x>0$, $\\sigma_c>0$ and $\\phi\\in(0,1)$ to make the simulated statistics as close as possible to US business cycle data where:\n",
    "\n",
    "1. $var(y_t) = 1.64$\n",
    "2. $var(\\pi_t) = 0.21$\n",
    "3. $corr(y_t,\\pi_t) = 0.31$\n",
    "4. $corr(y_t,y_{t-1}) = 0.84$\n",
    "5. $corr(\\pi_t,\\pi_{t-1}) = 0.48$"
   ]
  },
  {
   "cell_type": "code",
   "execution_count": null,
   "metadata": {},
   "outputs": [],
   "source": []
  },
  {
   "cell_type": "code",
   "execution_count": null,
   "metadata": {},
   "outputs": [],
   "source": []
  },
  {
   "cell_type": "code",
   "execution_count": null,
   "metadata": {},
   "outputs": [],
   "source": []
  },
  {
   "cell_type": "code",
   "execution_count": null,
   "metadata": {},
   "outputs": [],
   "source": []
  },
  {
   "cell_type": "code",
   "execution_count": null,
   "metadata": {},
   "outputs": [],
   "source": []
  },
  {
   "cell_type": "code",
   "execution_count": null,
   "metadata": {},
   "outputs": [],
   "source": []
  }
 ],
 "metadata": {
  "kernelspec": {
   "display_name": "Python 3",
   "language": "python",
   "name": "python3"
  },
  "language_info": {
   "codemirror_mode": {
    "name": "ipython",
    "version": 3
   },
   "file_extension": ".py",
   "mimetype": "text/x-python",
   "name": "python",
   "nbconvert_exporter": "python",
   "pygments_lexer": "ipython3",
   "version": "3.7.1"
  },
  "toc-autonumbering": false
 },
 "nbformat": 4,
 "nbformat_minor": 2
}
