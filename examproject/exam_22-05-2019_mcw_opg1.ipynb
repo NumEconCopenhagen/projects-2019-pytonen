{
 "cells": [
  {
   "cell_type": "code",
   "execution_count": 243,
   "metadata": {},
   "outputs": [],
   "source": [
    "import numpy as np\n",
    "import matplotlib.pyplot as plt\n",
    "from scipy import interpolate"
   ]
  },
  {
   "cell_type": "markdown",
   "metadata": {},
   "source": [
    "# 1. Human capital accumulation"
   ]
  },
  {
   "cell_type": "markdown",
   "metadata": {},
   "source": [
    "Consider a worker living in **two periods**, $t \\in \\{1,2\\}$. \n",
    "\n",
    "In each period she decides whether to **work ($l_t = 1$) or not ($l_t = 0$)**. \n",
    "\n",
    "She can *not* borrow or save and thus **consumes all of her income** in each period. "
   ]
  },
  {
   "cell_type": "markdown",
   "metadata": {},
   "source": [
    "If she **works** her **consumption** becomes:\n",
    "\n",
    "$$c_t = w h_t l_t\\,\\,\\text{if}\\,\\,l_t=1$$\n",
    "\n",
    "where $w$ is **the wage rate** and $h_t$ is her **human capital**. \n",
    "\n",
    "If she does **not work** her consumption becomes:\n",
    "\n",
    "$$c_t = b\\,\\,\\text{if}\\,\\,l_t=0$$\n",
    "\n",
    "where $b$ is the **unemployment benefits**."
   ]
  },
  {
   "cell_type": "markdown",
   "metadata": {},
   "source": [
    "Her **utility of consumption** is: \n",
    "\n",
    "$$ \\frac{c_t^{1-\\rho}}{1-\\rho} $$\n",
    "\n",
    "Her **disutility of working** is:\n",
    "\n",
    "$$ \\gamma l_t $$"
   ]
  },
  {
   "cell_type": "markdown",
   "metadata": {},
   "source": [
    "From period 1 to period 2, she **accumulates human capital** according to:\n",
    "\n",
    "$$ h_2 = h_1 + l_1 + \n",
    "\\begin{cases}\n",
    "0 & \\text{with prob. }0.5 \\\\\n",
    "\\Delta & \\text{with prob. }0.5 \n",
    "\\end{cases} \\\\\n",
    "$$\n",
    "\n",
    "where $\\Delta$ is a **stochastic experience gain**."
   ]
  },
  {
   "cell_type": "markdown",
   "metadata": {},
   "source": [
    "In the **second period** the worker thus solves:\n",
    "\n",
    "$$\n",
    "\\begin{eqnarray*}\n",
    "v_{2}(h_{2}) & = &\\max_{l_{2}} \\frac{c_2^{1-\\rho}}{1-\\rho} - \\gamma l_2\n",
    "\\\\ & \\text{s.t.} & \\\\\n",
    "c_{2}& = & w h_2 l_2 \\\\\n",
    "l_{2}& \\in &\\{0,1\\}\n",
    "\\end{eqnarray*}\n",
    "$$"
   ]
  },
  {
   "cell_type": "markdown",
   "metadata": {},
   "source": [
    "In the **first period** the worker thus solves:\n",
    "\n",
    "$$\n",
    "\\begin{eqnarray*}\n",
    "v_{1}(h_{1}) &=& \\max_{l_{1}} \\frac{c_1^{1-\\rho}}{1-\\rho} - \\gamma l_1 + \\beta\\mathbb{E}_{1}\\left[v_2(h_2)\\right]\n",
    "\\\\ & \\text{s.t.} & \\\\\n",
    "c_1 &=& w h_1 l_1 \\\\\n",
    "h_2 &=& h_1 + l_1 + \\begin{cases}\n",
    "0 & \\text{with prob. }0.5\\\\\n",
    "\\Delta & \\text{with prob. }0.5 \n",
    "\\end{cases}\\\\\n",
    "l_{1} &\\in& \\{0,1\\}\\\\\n",
    "\\end{eqnarray*}\n",
    "$$\n",
    "\n",
    "where $\\beta$ is the **discount factor** and $\\mathbb{E}_{1}\\left[v_2(h_2)\\right]$ is the **expected value of living in period two**."
   ]
  },
  {
   "cell_type": "markdown",
   "metadata": {},
   "source": [
    "The **parameters** of the model are:"
   ]
  },
  {
   "cell_type": "code",
   "execution_count": 244,
   "metadata": {},
   "outputs": [],
   "source": [
    "rho = 2\n",
    "beta = 0.96\n",
    "gamma = 0.1\n",
    "w = 2\n",
    "b = 1\n",
    "Delta = 0.1"
   ]
  },
  {
   "cell_type": "markdown",
   "metadata": {},
   "source": [
    "The **relevant levels of human capital** are:"
   ]
  },
  {
   "cell_type": "code",
   "execution_count": 245,
   "metadata": {},
   "outputs": [],
   "source": [
    "h_vec = np.linspace(0.1,1.5,100) "
   ]
  },
  {
   "cell_type": "markdown",
   "metadata": {},
   "source": [
    "**Question 1:** Solve the model in period 2 and illustrate the solution (including labor supply as a function of human capital). "
   ]
  },
  {
   "cell_type": "markdown",
   "metadata": {},
   "source": [
    "We start by defining the basic functions of the model, i.e. consumption, utility, disutility and the value of life (the worker's problem)"
   ]
  },
  {
   "cell_type": "code",
   "execution_count": 246,
   "metadata": {},
   "outputs": [],
   "source": [
    "def c(h,l):\n",
    "    if l==1:\n",
    "        return w*h*l # Consumption when working\n",
    "    elif l==0:\n",
    "        return b # Consumption when not working\n",
    "\n",
    "# Utility function\n",
    "def utility(h,l):\n",
    "    return (c(h,l)**(1-rho))/(1-rho)\n",
    "\n",
    "# Disutility when working\n",
    "def disutility(l):\n",
    "    return gamma*l\n",
    "\n",
    "# Consumer's value of life in period 2 dependent on human capital and working status\n",
    "def v2(h2,l2):\n",
    "    return utility(h2,l2)-disutility(l2)\n",
    "\n",
    "# Consumer's value of life in period 1 dependent on human capital and working status\n",
    "def v1(l1, h1, v2_interp):\n",
    "    \n",
    "    # v2 when human capital has low value to the consumer\n",
    "    h2_low = h1 + l1\n",
    "    v2_low = v2_interp([h2_low])[0]\n",
    "    \n",
    "    # v2 when human capital has high value to the consumer\n",
    "    h2_high = h1 + l1 + Delta\n",
    "    v2_high = v2_interp([h2_high])[0]\n",
    "    \n",
    "    # Expected value of life\n",
    "    exp_v2 = 0.5*v2_low + 0.5*v2_high\n",
    "    \n",
    "    # Value of life in period 1\n",
    "    return utility(c(h1,l1)) - disutility(l1) + beta*exp_v2"
   ]
  },
  {
   "cell_type": "markdown",
   "metadata": {},
   "source": [
    "We depict the value of life dependent on human capital the consumer's working status."
   ]
  },
  {
   "cell_type": "code",
   "execution_count": 247,
   "metadata": {},
   "outputs": [
    {
     "name": "stdout",
     "output_type": "stream",
     "text": [
      "-1.0\n"
     ]
    }
   ],
   "source": [
    "# To plot the scenario where the consumer does not work, we calculate the value of life for this scenario:\n",
    "print(v2(b,0))"
   ]
  },
  {
   "cell_type": "code",
   "execution_count": 248,
   "metadata": {},
   "outputs": [
    {
     "data": {
      "text/plain": [
       "<matplotlib.legend.Legend at 0x125e08a90>"
      ]
     },
     "execution_count": 248,
     "metadata": {},
     "output_type": "execute_result"
    },
    {
     "data": {
      "image/png": "[encoded data removed]",
      "text/plain": [
       "<Figure size 432x288 with 1 Axes>"
      ]
     },
     "metadata": {
      "needs_background": "light"
     },
     "output_type": "display_data"
    }
   ],
   "source": [
    "# Plotting value of life for period 2 dependent on human capital.\n",
    "fig = plt.figure()\n",
    "ax = fig.add_subplot(1,1,1)\n",
    "ax.plot(h_vec,v2(h_vec,1),color=\"red\")\n",
    "ax.axhline(y=-1, xmin=0, xmax =1, clip_on = False) # Plotting b=2, where v2=-1\n",
    "ax.grid()\n",
    "ax.set_xlabel('Human capital')\n",
    "ax.set_ylabel('Value of life in peroid 2, $v_2$')\n",
    "ax.set_title('Value of life dependent in period 2')\n",
    "plt.legend(('Working, $l_2=1$','Not working, $l_2=0$'),loc='lower right')"
   ]
  },
  {
   "cell_type": "markdown",
   "metadata": {},
   "source": [
    "Next we solve the model in period 2, and plot labor supply as a function of human capital."
   ]
  },
  {
   "cell_type": "code",
   "execution_count": 249,
   "metadata": {},
   "outputs": [
    {
     "data": {
      "text/plain": [
       "Text(0.5, 1.0, 'Labor supply dependent on human capital')"
      ]
     },
     "execution_count": 249,
     "metadata": {},
     "output_type": "execute_result"
    },
    {
     "data": {
      "image/png": "[encoded data removed]",
      "text/plain": [
       "<Figure size 432x288 with 1 Axes>"
      ]
     },
     "metadata": {
      "needs_background": "light"
     },
     "output_type": "display_data"
    }
   ],
   "source": [
    "def sol2(h_vec):\n",
    "    # Creating grids\n",
    "    v2_vec =  np.empty(100)\n",
    "    l2_vec = np.empty(100)\n",
    "\n",
    "    # Solution for h2\n",
    "    for i, h in enumerate(h_vec):\n",
    "    \n",
    "        # Comparing the value of life when working or not, such that the consumer chooses whatever has the higher utility\n",
    "        if (v2(h,1) > v2(h,0)) == True: # If the consumer gets higher utility from working, then work (l2=1)\n",
    "            l2_vec[i] = 1\n",
    "        else: # if the consumer does not get higher utility from working, then do not work (l2=0)\n",
    "            l2_vec[i] = 0\n",
    "    \n",
    "        v2_vec[i] = v2(h,l2_vec[i])\n",
    "    \n",
    "    return v2_vec, l2_vec\n",
    "\n",
    "# Unpacking the solution\n",
    "v2_vec,l2_vec =  sol2(h_vec)\n",
    "\n",
    "# Then we plot the solution\n",
    "fig = plt.figure()\n",
    "ax = fig.add_subplot(1,1,1)\n",
    "ax.plot(h_vec,l2_vec)\n",
    "ax.grid()\n",
    "ax.set_xlabel('Human Capital')\n",
    "ax.set_ylabel('Labor Supply')\n",
    "ax.set_title('Labor supply dependent on human capital')"
   ]
  },
  {
   "cell_type": "markdown",
   "metadata": {},
   "source": [
    "**WE NEED TO CALCULATE THE VALUE OF LIFE AND HUMAN CAPITAL!**"
   ]
  },
  {
   "cell_type": "markdown",
   "metadata": {},
   "source": [
    "**Question 2:** Solve the model in period 1 and illustrate the solution (including labor supply as a function of human capital). "
   ]
  },
  {
   "cell_type": "code",
   "execution_count": 262,
   "metadata": {},
   "outputs": [],
   "source": [
    "# Constructing the interpolator\n",
    "v2_interp = interpolate.RegularGridInterpolator([h_vec],v2_vec,bounds_error=False,fill_value=None)\n",
    "\n",
    "def sol1(h_vec, v2_interp):\n",
    "    \n",
    "    # Creating grids\n",
    "    v1_vec =  np.empty(100)\n",
    "    l1_vec = np.empty(100)\n",
    "    \n",
    "    # Next we solve for each h1 in grid\n",
    "    for i,h1 in enumerate(h_vec):\n",
    "        if (v1(1,h1,v2_interp) > v1(0,h1,v2_interp)) == True: # If the consumer gets higher utility from working, then work (l2=1)\n",
    "            l1_vec[i] = 1\n",
    "        else: # if the consumer does not get higher utility from working, then do not work (l2=0)\n",
    "            l1_vec[i] = 0\n",
    "    \n",
    "        v1_vec[i] = v1(l1_vec[i],h1,v2_interp)\n",
    "    \n",
    "    return v1_vec, l1_vec"
   ]
  },
  {
   "cell_type": "code",
   "execution_count": 263,
   "metadata": {},
   "outputs": [
    {
     "ename": "TypeError",
     "evalue": "utility() missing 1 required positional argument: 'l'",
     "output_type": "error",
     "traceback": [
      "\u001b[0;31m---------------------------------------------------------------------------\u001b[0m",
      "\u001b[0;31mTypeError\u001b[0m                                 Traceback (most recent call last)",
      "\u001b[0;32m<ipython-input-263-91db408f7c4d>\u001b[0m in \u001b[0;36m<module>\u001b[0;34m\u001b[0m\n\u001b[1;32m      1\u001b[0m \u001b[0;31m# Unpacking the solution\u001b[0m\u001b[0;34m\u001b[0m\u001b[0;34m\u001b[0m\u001b[0;34m\u001b[0m\u001b[0m\n\u001b[0;32m----> 2\u001b[0;31m \u001b[0mv1_vec\u001b[0m\u001b[0;34m,\u001b[0m \u001b[0ml1_vec\u001b[0m \u001b[0;34m=\u001b[0m  \u001b[0msol1\u001b[0m\u001b[0;34m(\u001b[0m\u001b[0mh_vec\u001b[0m\u001b[0;34m,\u001b[0m \u001b[0mv2_interp\u001b[0m\u001b[0;34m)\u001b[0m\u001b[0;34m\u001b[0m\u001b[0;34m\u001b[0m\u001b[0m\n\u001b[0m\u001b[1;32m      3\u001b[0m \u001b[0mv1\u001b[0m\u001b[0;34m(\u001b[0m\u001b[0ml1_vec\u001b[0m\u001b[0;34m,\u001b[0m \u001b[0mh1_vec\u001b[0m\u001b[0;34m,\u001b[0m \u001b[0mv2_interp\u001b[0m\u001b[0;34m)\u001b[0m\u001b[0;34m\u001b[0m\u001b[0;34m\u001b[0m\u001b[0m\n",
      "\u001b[0;32m<ipython-input-262-b72024371da9>\u001b[0m in \u001b[0;36msol1\u001b[0;34m(h_vec, v2_interp)\u001b[0m\n\u001b[1;32m     10\u001b[0m     \u001b[0;31m# Next we solve for each h1 in grid\u001b[0m\u001b[0;34m\u001b[0m\u001b[0;34m\u001b[0m\u001b[0;34m\u001b[0m\u001b[0m\n\u001b[1;32m     11\u001b[0m     \u001b[0;32mfor\u001b[0m \u001b[0mi\u001b[0m\u001b[0;34m,\u001b[0m\u001b[0mh1\u001b[0m \u001b[0;32min\u001b[0m \u001b[0menumerate\u001b[0m\u001b[0;34m(\u001b[0m\u001b[0mh_vec\u001b[0m\u001b[0;34m)\u001b[0m\u001b[0;34m:\u001b[0m\u001b[0;34m\u001b[0m\u001b[0;34m\u001b[0m\u001b[0m\n\u001b[0;32m---> 12\u001b[0;31m         \u001b[0;32mif\u001b[0m \u001b[0;34m(\u001b[0m\u001b[0mv1\u001b[0m\u001b[0;34m(\u001b[0m\u001b[0;36m1\u001b[0m\u001b[0;34m,\u001b[0m\u001b[0mh1\u001b[0m\u001b[0;34m,\u001b[0m\u001b[0mv2_interp\u001b[0m\u001b[0;34m)\u001b[0m \u001b[0;34m>\u001b[0m \u001b[0mv1\u001b[0m\u001b[0;34m(\u001b[0m\u001b[0;36m0\u001b[0m\u001b[0;34m,\u001b[0m\u001b[0mh1\u001b[0m\u001b[0;34m,\u001b[0m\u001b[0mv2_interp\u001b[0m\u001b[0;34m)\u001b[0m\u001b[0;34m)\u001b[0m \u001b[0;34m==\u001b[0m \u001b[0;32mTrue\u001b[0m\u001b[0;34m:\u001b[0m \u001b[0;31m# If the consumer gets higher utility from working, then work (l2=1)\u001b[0m\u001b[0;34m\u001b[0m\u001b[0;34m\u001b[0m\u001b[0m\n\u001b[0m\u001b[1;32m     13\u001b[0m             \u001b[0ml1_vec\u001b[0m\u001b[0;34m[\u001b[0m\u001b[0mi\u001b[0m\u001b[0;34m]\u001b[0m \u001b[0;34m=\u001b[0m \u001b[0;36m1\u001b[0m\u001b[0;34m\u001b[0m\u001b[0;34m\u001b[0m\u001b[0m\n\u001b[1;32m     14\u001b[0m         \u001b[0;32melse\u001b[0m\u001b[0;34m:\u001b[0m \u001b[0;31m# if the consumer does not get higher utility from working, then do not work (l2=0)\u001b[0m\u001b[0;34m\u001b[0m\u001b[0;34m\u001b[0m\u001b[0m\n",
      "\u001b[0;32m<ipython-input-246-1d5bd046efb8>\u001b[0m in \u001b[0;36mv1\u001b[0;34m(l1, h1, v2_interp)\u001b[0m\n\u001b[1;32m     32\u001b[0m \u001b[0;34m\u001b[0m\u001b[0m\n\u001b[1;32m     33\u001b[0m     \u001b[0;31m# Value of life in period 1\u001b[0m\u001b[0;34m\u001b[0m\u001b[0;34m\u001b[0m\u001b[0;34m\u001b[0m\u001b[0m\n\u001b[0;32m---> 34\u001b[0;31m     \u001b[0;32mreturn\u001b[0m \u001b[0mutility\u001b[0m\u001b[0;34m(\u001b[0m\u001b[0mc\u001b[0m\u001b[0;34m(\u001b[0m\u001b[0mh1\u001b[0m\u001b[0;34m,\u001b[0m\u001b[0ml1\u001b[0m\u001b[0;34m)\u001b[0m\u001b[0;34m)\u001b[0m \u001b[0;34m-\u001b[0m \u001b[0mdisutility\u001b[0m\u001b[0;34m(\u001b[0m\u001b[0ml1\u001b[0m\u001b[0;34m)\u001b[0m \u001b[0;34m+\u001b[0m \u001b[0mbeta\u001b[0m\u001b[0;34m*\u001b[0m\u001b[0mexp_v2\u001b[0m\u001b[0;34m\u001b[0m\u001b[0;34m\u001b[0m\u001b[0m\n\u001b[0m",
      "\u001b[0;31mTypeError\u001b[0m: utility() missing 1 required positional argument: 'l'"
     ]
    }
   ],
   "source": [
    "# Unpacking the solution\n",
    "v1_vec, l1_vec =  sol1(h_vec, v2_interp)\n",
    "v1(l1_vec, h1_vec, v2_interp)"
   ]
  },
  {
   "cell_type": "code",
   "execution_count": 261,
   "metadata": {},
   "outputs": [
    {
     "ename": "NameError",
     "evalue": "name 'l1_vec' is not defined",
     "output_type": "error",
     "traceback": [
      "\u001b[0;31m---------------------------------------------------------------------------\u001b[0m",
      "\u001b[0;31mNameError\u001b[0m                                 Traceback (most recent call last)",
      "\u001b[0;32m<ipython-input-261-b79b1140654d>\u001b[0m in \u001b[0;36m<module>\u001b[0;34m\u001b[0m\n\u001b[1;32m      2\u001b[0m \u001b[0mfig\u001b[0m \u001b[0;34m=\u001b[0m \u001b[0mplt\u001b[0m\u001b[0;34m.\u001b[0m\u001b[0mfigure\u001b[0m\u001b[0;34m(\u001b[0m\u001b[0;34m)\u001b[0m\u001b[0;34m\u001b[0m\u001b[0;34m\u001b[0m\u001b[0m\n\u001b[1;32m      3\u001b[0m \u001b[0max\u001b[0m \u001b[0;34m=\u001b[0m \u001b[0mfig\u001b[0m\u001b[0;34m.\u001b[0m\u001b[0madd_subplot\u001b[0m\u001b[0;34m(\u001b[0m\u001b[0;36m1\u001b[0m\u001b[0;34m,\u001b[0m\u001b[0;36m1\u001b[0m\u001b[0;34m,\u001b[0m\u001b[0;36m1\u001b[0m\u001b[0;34m)\u001b[0m\u001b[0;34m\u001b[0m\u001b[0;34m\u001b[0m\u001b[0m\n\u001b[0;32m----> 4\u001b[0;31m \u001b[0max\u001b[0m\u001b[0;34m.\u001b[0m\u001b[0mplot\u001b[0m\u001b[0;34m(\u001b[0m\u001b[0mh_vec\u001b[0m\u001b[0;34m,\u001b[0m\u001b[0ml1_vec\u001b[0m\u001b[0;34m)\u001b[0m\u001b[0;34m\u001b[0m\u001b[0;34m\u001b[0m\u001b[0m\n\u001b[0m\u001b[1;32m      5\u001b[0m \u001b[0max\u001b[0m\u001b[0;34m.\u001b[0m\u001b[0mgrid\u001b[0m\u001b[0;34m(\u001b[0m\u001b[0;34m)\u001b[0m\u001b[0;34m\u001b[0m\u001b[0;34m\u001b[0m\u001b[0m\n\u001b[1;32m      6\u001b[0m \u001b[0max\u001b[0m\u001b[0;34m.\u001b[0m\u001b[0mset_xlabel\u001b[0m\u001b[0;34m(\u001b[0m\u001b[0;34m'Human Capital'\u001b[0m\u001b[0;34m)\u001b[0m\u001b[0;34m\u001b[0m\u001b[0;34m\u001b[0m\u001b[0m\n",
      "\u001b[0;31mNameError\u001b[0m: name 'l1_vec' is not defined"
     ]
    },
    {
     "data": {
      "image/png": "[encoded data removed]",
      "text/plain": [
       "<Figure size 432x288 with 1 Axes>"
      ]
     },
     "metadata": {
      "needs_background": "light"
     },
     "output_type": "display_data"
    }
   ],
   "source": [
    "# Then we plot the solution\n",
    "fig = plt.figure()\n",
    "ax = fig.add_subplot(1,1,1)\n",
    "ax.plot(h_vec,l1_vec)\n",
    "ax.grid()\n",
    "ax.set_xlabel('Human Capital')\n",
    "ax.set_ylabel('Labor Supply')\n",
    "ax.set_title('Labor supply dependent on human capital')"
   ]
  },
  {
   "cell_type": "code",
   "execution_count": 251,
   "metadata": {},
   "outputs": [
    {
     "ename": "TypeError",
     "evalue": "v1() missing 1 required positional argument: 'v2_interp'",
     "output_type": "error",
     "traceback": [
      "\u001b[0;31m---------------------------------------------------------------------------\u001b[0m",
      "\u001b[0;31mTypeError\u001b[0m                                 Traceback (most recent call last)",
      "\u001b[0;32m<ipython-input-251-46562bf2d87d>\u001b[0m in \u001b[0;36m<module>\u001b[0;34m\u001b[0m\n\u001b[1;32m      1\u001b[0m \u001b[0;31m# To plot the scenario where the consumer does not work, we calculate the value of life for this scenario:\u001b[0m\u001b[0;34m\u001b[0m\u001b[0;34m\u001b[0m\u001b[0;34m\u001b[0m\u001b[0m\n\u001b[0;32m----> 2\u001b[0;31m \u001b[0mprint\u001b[0m\u001b[0;34m(\u001b[0m\u001b[0mv1\u001b[0m\u001b[0;34m(\u001b[0m\u001b[0mb\u001b[0m\u001b[0;34m,\u001b[0m\u001b[0;36m0\u001b[0m\u001b[0;34m)\u001b[0m\u001b[0;34m)\u001b[0m\u001b[0;34m\u001b[0m\u001b[0;34m\u001b[0m\u001b[0m\n\u001b[0m",
      "\u001b[0;31mTypeError\u001b[0m: v1() missing 1 required positional argument: 'v2_interp'"
     ]
    }
   ],
   "source": [
    "# To plot the scenario where the consumer does not work, we calculate the value of life for this scenario:\n",
    "print(v1(b,0))"
   ]
  },
  {
   "cell_type": "code",
   "execution_count": null,
   "metadata": {},
   "outputs": [],
   "source": [
    "# Plotting value of life for period 2 dependent on human capital.\n",
    "fig = plt.figure()\n",
    "ax = fig.add_subplot(1,1,1)\n",
    "ax.plot(h_vec,v2(h_vec,1),color=\"red\")\n",
    "ax.axhline(y=-1, xmin=0, xmax =1, clip_on = False) # Plotting b=2, where v2=-1\n",
    "ax.grid()\n",
    "ax.set_xlabel('Human capital')\n",
    "ax.set_ylabel('Value of life in peroid 2, $v_2$')\n",
    "ax.set_title('Value of life dependent in period 2')\n",
    "plt.legend(('Working, $l_2=1$','Not working, $l_2=0$'),loc='lower right')"
   ]
  },
  {
   "cell_type": "code",
   "execution_count": null,
   "metadata": {},
   "outputs": [],
   "source": []
  },
  {
   "cell_type": "code",
   "execution_count": 265,
   "metadata": {},
   "outputs": [
    {
     "ename": "TypeError",
     "evalue": "v1() takes 3 positional arguments but 9 were given",
     "output_type": "error",
     "traceback": [
      "\u001b[0;31m---------------------------------------------------------------------------\u001b[0m",
      "\u001b[0;31mTypeError\u001b[0m                                 Traceback (most recent call last)",
      "\u001b[0;32m<ipython-input-265-5ac5e9dbf8f6>\u001b[0m in \u001b[0;36m<module>\u001b[0;34m\u001b[0m\n\u001b[1;32m     20\u001b[0m     \u001b[0;32mreturn\u001b[0m \u001b[0mv1_vec\u001b[0m\u001b[0;34m,\u001b[0m \u001b[0ml1_vec\u001b[0m\u001b[0;34m\u001b[0m\u001b[0;34m\u001b[0m\u001b[0m\n\u001b[1;32m     21\u001b[0m \u001b[0;34m\u001b[0m\u001b[0m\n\u001b[0;32m---> 22\u001b[0;31m \u001b[0mv1_vec\u001b[0m\u001b[0;34m,\u001b[0m \u001b[0ml1_vec\u001b[0m \u001b[0;34m=\u001b[0m \u001b[0msolve_period_1\u001b[0m\u001b[0;34m(\u001b[0m\u001b[0mw\u001b[0m\u001b[0;34m,\u001b[0m \u001b[0mb\u001b[0m\u001b[0;34m,\u001b[0m \u001b[0mrho\u001b[0m\u001b[0;34m,\u001b[0m \u001b[0mgamma\u001b[0m\u001b[0;34m,\u001b[0m \u001b[0mh_vec\u001b[0m\u001b[0;34m,\u001b[0m \u001b[0mDelta\u001b[0m\u001b[0;34m,\u001b[0m \u001b[0mbeta\u001b[0m\u001b[0;34m,\u001b[0m \u001b[0mv2_interp\u001b[0m\u001b[0;34m)\u001b[0m\u001b[0;34m\u001b[0m\u001b[0;34m\u001b[0m\u001b[0m\n\u001b[0m\u001b[1;32m     23\u001b[0m \u001b[0;34m\u001b[0m\u001b[0m\n\u001b[1;32m     24\u001b[0m \u001b[0;31m# illustrate period 1 solution\u001b[0m\u001b[0;34m\u001b[0m\u001b[0;34m\u001b[0m\u001b[0;34m\u001b[0m\u001b[0m\n",
      "\u001b[0;32m<ipython-input-265-5ac5e9dbf8f6>\u001b[0m in \u001b[0;36msolve_period_1\u001b[0;34m(w, b, rho, gamma, h_vec, Delta, beta, v2_interp)\u001b[0m\n\u001b[1;32m     10\u001b[0m \u001b[0;34m\u001b[0m\u001b[0m\n\u001b[1;32m     11\u001b[0m         \u001b[0;31m# 1. compare v1 for l1 = 0 and l1 = 1 and return the l1 that maximizes v1\u001b[0m\u001b[0;34m\u001b[0m\u001b[0;34m\u001b[0m\u001b[0;34m\u001b[0m\u001b[0m\n\u001b[0;32m---> 12\u001b[0;31m         \u001b[0;32mif\u001b[0m \u001b[0;34m(\u001b[0m\u001b[0mv1\u001b[0m\u001b[0;34m(\u001b[0m\u001b[0;36m0\u001b[0m\u001b[0;34m,\u001b[0m \u001b[0mw\u001b[0m\u001b[0;34m,\u001b[0m \u001b[0mb\u001b[0m\u001b[0;34m,\u001b[0m \u001b[0mrho\u001b[0m\u001b[0;34m,\u001b[0m \u001b[0mgamma\u001b[0m\u001b[0;34m,\u001b[0m \u001b[0mh\u001b[0m\u001b[0;34m,\u001b[0m \u001b[0mDelta\u001b[0m\u001b[0;34m,\u001b[0m \u001b[0mbeta\u001b[0m\u001b[0;34m,\u001b[0m \u001b[0mv2_interp\u001b[0m\u001b[0;34m)\u001b[0m \u001b[0;34m>\u001b[0m \u001b[0mv1\u001b[0m\u001b[0;34m(\u001b[0m\u001b[0;36m1\u001b[0m\u001b[0;34m,\u001b[0m \u001b[0mw\u001b[0m\u001b[0;34m,\u001b[0m \u001b[0mb\u001b[0m\u001b[0;34m,\u001b[0m \u001b[0mrho\u001b[0m\u001b[0;34m,\u001b[0m \u001b[0mgamma\u001b[0m\u001b[0;34m,\u001b[0m \u001b[0mh\u001b[0m\u001b[0;34m,\u001b[0m \u001b[0mDelta\u001b[0m\u001b[0;34m,\u001b[0m \u001b[0mbeta\u001b[0m\u001b[0;34m,\u001b[0m \u001b[0mv2_interp\u001b[0m\u001b[0;34m)\u001b[0m\u001b[0;34m)\u001b[0m \u001b[0;34m==\u001b[0m \u001b[0;32mTrue\u001b[0m\u001b[0;34m:\u001b[0m\u001b[0;34m\u001b[0m\u001b[0;34m\u001b[0m\u001b[0m\n\u001b[0m\u001b[1;32m     13\u001b[0m             \u001b[0ml1_vec\u001b[0m\u001b[0;34m[\u001b[0m\u001b[0mi\u001b[0m\u001b[0;34m]\u001b[0m \u001b[0;34m=\u001b[0m \u001b[0;36m0\u001b[0m\u001b[0;34m\u001b[0m\u001b[0;34m\u001b[0m\u001b[0m\n\u001b[1;32m     14\u001b[0m         \u001b[0;32melse\u001b[0m\u001b[0;34m:\u001b[0m\u001b[0;34m\u001b[0m\u001b[0;34m\u001b[0m\u001b[0m\n",
      "\u001b[0;31mTypeError\u001b[0m: v1() takes 3 positional arguments but 9 were given"
     ]
    }
   ],
   "source": []
  },
  {
   "cell_type": "markdown",
   "metadata": {},
   "source": [
    "**Question 3:** Will the worker never work if her potential wage income is lower than the unemployment benefits she can get? Explain and illustrate why or why not."
   ]
  },
  {
   "cell_type": "markdown",
   "metadata": {},
   "source": [
    "# 2. AS-AD model"
   ]
  },
  {
   "cell_type": "markdown",
   "metadata": {},
   "source": [
    "Consider the following **AS-AD model**. The **goods market equilibrium** is given by\n",
    "\n",
    "$$ y_{t} = -\\alpha r_{t} + v_{t} $$\n",
    "\n",
    "where $y_{t}$ is the **output gap**, $r_{t}$ is the **ex ante real interest** and $v_{t}$ is a **demand disturbance**. "
   ]
  },
  {
   "cell_type": "markdown",
   "metadata": {},
   "source": [
    "The central bank's **Taylor rule** is\n",
    "\n",
    "$$ i_{t} = \\pi_{t+1}^{e} + h \\pi_{t} + b y_{t}$$\n",
    "\n",
    "where $i_{t}$ is the **nominal interest rate**, $\\pi_{t}$ is the **inflation gap**, and $\\pi_{t+1}^{e}$ is the **expected inflation gap**. "
   ]
  },
  {
   "cell_type": "markdown",
   "metadata": {},
   "source": [
    "The **ex ante real interest rate** is given by \n",
    "\n",
    "$$ r_{t} = i_{t} - \\pi_{t+1}^{e} $$"
   ]
  },
  {
   "cell_type": "markdown",
   "metadata": {},
   "source": [
    "Together, the above implies that the **AD-curve** is\n",
    "\n",
    "$$ \\pi_{t} = \\frac{1}{h\\alpha}\\left[v_{t} - (1+b\\alpha)y_{t}\\right]$$"
   ]
  },
  {
   "cell_type": "markdown",
   "metadata": {},
   "source": [
    "Further, assume that the **short-run supply curve (SRAS)** is given by\n",
    "\n",
    "$$ \\pi_{t} = \\pi_{t}^{e} + \\gamma y_{t} + s_{t}$$\n",
    "\n",
    "where $s_t$ is a **supply disturbance**."
   ]
  },
  {
   "cell_type": "markdown",
   "metadata": {},
   "source": [
    "**Inflation expectations are adaptive** and given by\n",
    "\n",
    "$$ \\pi_{t}^{e} = \\phi\\pi_{t-1}^{e} + (1-\\phi)\\pi_{t-1}$$"
   ]
  },
  {
   "cell_type": "markdown",
   "metadata": {},
   "source": [
    "Together, this implies that the **SRAS-curve** can also be written as\n",
    "\n",
    "$$ \\pi_{t} = \\pi_{t-1} + \\gamma y_{t} - \\phi\\gamma y_{t-1} + s_{t} - \\phi s_{t-1} $$"
   ]
  },
  {
   "cell_type": "markdown",
   "metadata": {},
   "source": [
    "The **parameters** of the model are:"
   ]
  },
  {
   "cell_type": "code",
   "execution_count": 4,
   "metadata": {},
   "outputs": [],
   "source": [
    "par = {}\n",
    "\n",
    "par['alpha'] = 5.76\n",
    "par['h'] = 0.5\n",
    "par['b'] = 0.5\n",
    "par['phi'] = 0\n",
    "par['gamma'] = 0.075"
   ]
  },
  {
   "cell_type": "markdown",
   "metadata": {},
   "source": [
    "**Question 1:** Use the ``sympy`` module to solve for the equilibrium values of output, $y_t$, and inflation, $\\pi_t$, (where AD = SRAS) given the parameters ($\\alpha$, $h$, $b$, $\\alpha$, $\\gamma$) and $y_{t-1}$ , $\\pi_{t-1}$, $v_t$, $s_t$, and $s_{t-1}$.\n",
    "\n",
    "**Question 2:** Find and illustrate the equilibrium when $y_{t-1} = \\pi_{t-1} = v_t = s_t = s_{t-1} = 0$. Illustrate how the equilibrium changes when instead $v_t = 0.1$."
   ]
  },
  {
   "cell_type": "markdown",
   "metadata": {},
   "source": [
    "**Persistent disturbances:** Now, additionaly, assume that both the demand and the supply disturbances are AR(1) processes\n",
    "\n",
    "$$ v_{t} = \\delta v_{t-1} + x_{t} $$\n",
    "$$ s_{t} = \\omega s_{t-1} + c_{t} $$\n",
    "\n",
    "where $x_{t}$ is a **demand shock**, and $c_t$ is a **supply shock**. The **autoregressive parameters** are:"
   ]
  },
  {
   "cell_type": "code",
   "execution_count": 5,
   "metadata": {},
   "outputs": [],
   "source": [
    "par['delta'] = 0.80\n",
    "par['omega'] = 0.15"
   ]
  },
  {
   "cell_type": "markdown",
   "metadata": {},
   "source": [
    "**Question 3:** Starting from $y_{-1} = \\pi_{-1} = s_{-1} = 0$, how does the economy evolve for $x_0 = 0.1$, $x_t = 0, \\forall t > 0$ and $c_t = 0, \\forall t \\geq 0$?"
   ]
  },
  {
   "cell_type": "markdown",
   "metadata": {},
   "source": [
    "**Stochastic shocks:** Now, additionally, assume that $x_t$ and $c_t$ are stochastic and normally distributed\n",
    "\n",
    "$$ x_{t}\\sim\\mathcal{N}(0,\\sigma_{x}^{2}) $$\n",
    "$$ c_{t}\\sim\\mathcal{N}(0,\\sigma_{c}^{2}) $$\n",
    "\n",
    "The **standard deviations of the shocks** are:"
   ]
  },
  {
   "cell_type": "code",
   "execution_count": 6,
   "metadata": {},
   "outputs": [],
   "source": [
    "par['sigma_x'] = 3.492\n",
    "par['sigma_c'] = 0.2"
   ]
  },
  {
   "cell_type": "markdown",
   "metadata": {},
   "source": [
    "**Question 4:** Simulate the AS-AD model for 1,000 periods. Calculate the following five statistics:\n",
    "\n",
    "1. Variance of $y_t$, $var(y_t)$\n",
    "2. Variance of $\\pi_t$, $var(\\pi_t)$\n",
    "3. Correlation between $y_t$ and $\\pi_t$, $corr(y_t,\\pi_t)$\n",
    "4. Auto-correlation between $y_t$ and $y_{t-1}$, $corr(y_t,y_{t-1})$\n",
    "5. Auto-correlation between $\\pi_t$ and $\\pi_{t-1}$, $corr(\\pi_t,\\pi_{t-1})$"
   ]
  },
  {
   "cell_type": "markdown",
   "metadata": {},
   "source": [
    "**Question 5:** Plot how the correlation between $y_t$ and $\\pi_t$ changes with $\\phi$. Use a numerical optimizer or root finder to choose $\\phi\\in(0,1)$ such that the simulated correlation between $y_t$ and $\\pi_t$ comes close to 0.31. "
   ]
  },
  {
   "cell_type": "markdown",
   "metadata": {},
   "source": [
    "**Quesiton 6:** Use a numerical optimizer to choose $\\sigma_x>0$, $\\sigma_c>0$ and $\\phi\\in(0,1)$ to make the simulated statistics as close as possible to US business cycle data where:\n",
    "\n",
    "1. $var(y_t) = 1.64$\n",
    "2. $var(\\pi_t) = 0.21$\n",
    "3. $corr(y_t,\\pi_t) = 0.31$\n",
    "4. $corr(y_t,y_{t-1}) = 0.84$\n",
    "5. $corr(\\pi_t,\\pi_{t-1}) = 0.48$"
   ]
  },
  {
   "cell_type": "markdown",
   "metadata": {},
   "source": [
    "# 3. Exchange economy"
   ]
  },
  {
   "cell_type": "markdown",
   "metadata": {},
   "source": [
    "Consider an **exchange economy** with\n",
    "\n",
    "1. 3 goods, $(x_1,x_2,x_3)$\n",
    "2. $N$ consumers indexed by \\\\( j \\in \\{1,2,\\dots,N\\} \\\\)\n",
    "3. Preferences are Cobb-Douglas with log-normally distributed coefficients\n",
    "\n",
    "    $$ \\begin{eqnarray*}\n",
    "    u^{j}(x_{1},x_{2},x_{3}) &=& \n",
    "    \\left(x_{1}^{\\beta_{1}^{j}}x_{2}^{\\beta_{2}^{j}}x_{3}^{\\beta_{3}^{j}}\\right)^{\\gamma}\\\\\n",
    "     &  & \\,\\,\\,\\beta_{i}^{j}=\\frac{\\alpha_{i}^{j}}{\\alpha_{1}^{j}+\\alpha_{2}^{j}+\\alpha_{3}^{j}} \\\\\n",
    "     &  & \\,\\,\\,\\boldsymbol{\\alpha}^{j}=(\\alpha_{1}^{j},\\alpha_{2}^{j},\\alpha_{3}^{j}) \\\\ \n",
    "     &  & \\,\\,\\,\\log(\\boldsymbol{\\alpha}^j) \\sim \\mathcal{N}(\\mu,\\Sigma) \\\\\n",
    "    \\end{eqnarray*} $$\n",
    "\n",
    "4. Endowments are exponentially distributed,\n",
    "\n",
    "$$\n",
    "\\begin{eqnarray*}\n",
    "\\boldsymbol{e}^{j} &=& (e_{1}^{j},e_{2}^{j},e_{3}^{j}) \\\\\n",
    " &  & e_i^j \\sim f, f(z;\\zeta) =  1/\\zeta \\exp(-z/\\zeta)\n",
    "\\end{eqnarray*}\n",
    "$$"
   ]
  },
  {
   "cell_type": "markdown",
   "metadata": {},
   "source": [
    "Let $p_3 = 1$ be the **numeraire**. The implied **demand functions** are:\n",
    "\n",
    "$$\n",
    "\\begin{eqnarray*}\n",
    "x_{i}^{\\star j}(p_{1},p_{2},\\boldsymbol{e}^{j})&=&\\beta^{j}_i\\frac{I^j}{p_{i}} \\\\\n",
    "\\end{eqnarray*}\n",
    "$$\n",
    "\n",
    "where consumer $j$'s income is\n",
    "\n",
    "$$I^j = p_1 e_1^j + p_2 e_2^j +p_3 e_3^j$$"
   ]
  },
  {
   "cell_type": "markdown",
   "metadata": {},
   "source": [
    "The **parameters** and **random preferences and endowments** are given by:"
   ]
  },
  {
   "cell_type": "code",
   "execution_count": 7,
   "metadata": {},
   "outputs": [],
   "source": [
    "# a. parameters\n",
    "N = 50000\n",
    "mu = np.array([3,2,1])\n",
    "Sigma = np.array([[0.25, 0, 0], [0, 0.25, 0], [0, 0, 0.25]])\n",
    "gamma = 0.8\n",
    "zeta = 1\n",
    "\n",
    "# b. random draws\n",
    "seed = 1986\n",
    "np.random.seed(seed)\n",
    "\n",
    "# preferences\n",
    "alphas = np.exp(np.random.multivariate_normal(mu, Sigma, size=N))\n",
    "betas = alphas/np.reshape(np.sum(alphas,axis=1),(N,1))\n",
    "\n",
    "# endowments\n",
    "e1 = np.random.exponential(zeta,size=N)\n",
    "e2 = np.random.exponential(zeta,size=N)\n",
    "e3 = np.random.exponential(zeta,size=N)"
   ]
  },
  {
   "cell_type": "markdown",
   "metadata": {},
   "source": [
    "**Question 1:** Plot the histograms of the budget shares for each good across agents.\n",
    "\n",
    "Consider the **excess demand functions:**\n",
    "\n",
    "$$ z_i(p_1,p_2) = \\sum_{j=1}^N x_{i}^{\\star j}(p_{1},p_{2},\\boldsymbol{e}^{j}) - e_i^j$$\n",
    "\n",
    "**Question 2:** Plot the excess demand functions."
   ]
  },
  {
   "cell_type": "markdown",
   "metadata": {},
   "source": [
    "**Quesiton 3:** Find the Walras-equilibrium prices, $(p_1,p_2)$, where both excess demands are (approximately) zero, e.g. by using the following tâtonnement process:\n",
    "\n",
    "1. Guess on $p_1 > 0$, $p_2 > 0$ and choose tolerance $\\epsilon > 0$ and adjustment aggressivity parameter, $\\kappa > 0$.\n",
    "2. Calculate $z_1(p_1,p_2)$ and $z_2(p_1,p_2)$.\n",
    "3. If $|z_1| < \\epsilon$ and $|z_2| < \\epsilon$ then stop.\n",
    "4. Else set $p_1 = p_1 + \\kappa \\frac{z_1}{N}$ and $p_2 = p_2 + \\kappa \\frac{z_2}{N}$ and return to step 2."
   ]
  },
  {
   "cell_type": "markdown",
   "metadata": {},
   "source": [
    "**Question 4:** Plot the distribution of utility in the Walras-equilibrium and calculate its mean and variance."
   ]
  },
  {
   "cell_type": "markdown",
   "metadata": {},
   "source": [
    "**Question 5:** Find the Walras-equilibrium prices if instead all endowments were distributed equally. Discuss the implied changes in the distribution of utility. Does the value of $\\gamma$ play a role for your conclusions?"
   ]
  }
 ],
 "metadata": {
  "kernelspec": {
   "display_name": "Python 3",
   "language": "python",
   "name": "python3"
  },
  "language_info": {
   "codemirror_mode": {
    "name": "ipython",
    "version": 3
   },
   "file_extension": ".py",
   "mimetype": "text/x-python",
   "name": "python",
   "nbconvert_exporter": "python",
   "pygments_lexer": "ipython3",
   "version": "3.7.1"
  },
  "toc-autonumbering": false
 },
 "nbformat": 4,
 "nbformat_minor": 2
}
