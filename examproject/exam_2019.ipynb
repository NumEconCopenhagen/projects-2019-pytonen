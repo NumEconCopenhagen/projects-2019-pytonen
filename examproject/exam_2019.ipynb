{
 "cells": [
  {
   "cell_type": "code",
   "execution_count": 6,
   "metadata": {},
   "outputs": [],
   "source": [
    "import numpy as np\n",
    "import matplotlib.pyplot as plt\n",
    "from scipy import interpolate\n",
    "import sympy as sm"
   ]
  },
  {
   "cell_type": "markdown",
   "metadata": {},
   "source": [
    "# 1. Human capital accumulation"
   ]
  },
  {
   "cell_type": "markdown",
   "metadata": {},
   "source": [
    "Consider a worker living in **two periods**, $t \\in \\{1,2\\}$. \n",
    "\n",
    "In each period she decides whether to **work ($l_t = 1$) or not ($l_t = 0$)**. \n",
    "\n",
    "She can *not* borrow or save and thus **consumes all of her income** in each period. "
   ]
  },
  {
   "cell_type": "markdown",
   "metadata": {},
   "source": [
    "If she **works** her **consumption** becomes:\n",
    "\n",
    "$$c_t = w h_t l_t\\,\\,\\text{if}\\,\\,l_t=1$$\n",
    "\n",
    "where $w$ is **the wage rate** and $h_t$ is her **human capital**. \n",
    "\n",
    "If she does **not work** her consumption becomes:\n",
    "\n",
    "$$c_t = b\\,\\,\\text{if}\\,\\,l_t=0$$\n",
    "\n",
    "where $b$ is the **unemployment benefits**."
   ]
  },
  {
   "cell_type": "markdown",
   "metadata": {},
   "source": [
    "Her **utility of consumption** is: \n",
    "\n",
    "$$ \\frac{c_t^{1-\\rho}}{1-\\rho} $$\n",
    "\n",
    "Her **disutility of working** is:\n",
    "\n",
    "$$ \\gamma l_t $$"
   ]
  },
  {
   "cell_type": "markdown",
   "metadata": {},
   "source": [
    "From period 1 to period 2, she **accumulates human capital** according to:\n",
    "\n",
    "$$ h_2 = h_1 + l_1 + \n",
    "\\begin{cases}\n",
    "0 & \\text{with prob. }0.5 \\\\\n",
    "\\Delta & \\text{with prob. }0.5 \n",
    "\\end{cases} \\\\\n",
    "$$\n",
    "\n",
    "where $\\Delta$ is a **stochastic experience gain**."
   ]
  },
  {
   "cell_type": "markdown",
   "metadata": {},
   "source": [
    "In the **second period** the worker thus solves:\n",
    "\n",
    "$$\n",
    "\\begin{eqnarray*}\n",
    "v_{2}(h_{2}) & = &\\max_{l_{2}} \\frac{c_2^{1-\\rho}}{1-\\rho} - \\gamma l_2\n",
    "\\\\ & \\text{s.t.} & \\\\\n",
    "c_{2}& = & w h_2 l_2 \\\\\n",
    "l_{2}& \\in &\\{0,1\\}\n",
    "\\end{eqnarray*}\n",
    "$$"
   ]
  },
  {
   "cell_type": "markdown",
   "metadata": {},
   "source": [
    "In the **first period** the worker thus solves:\n",
    "\n",
    "$$\n",
    "\\begin{eqnarray*}\n",
    "v_{1}(h_{1}) &=& \\max_{l_{1}} \\frac{c_1^{1-\\rho}}{1-\\rho} - \\gamma l_1 + \\beta\\mathbb{E}_{1}\\left[v_2(h_2)\\right]\n",
    "\\\\ & \\text{s.t.} & \\\\\n",
    "c_1 &=& w h_1 l_1 \\\\\n",
    "h_2 &=& h_1 + l_1 + \\begin{cases}\n",
    "0 & \\text{with prob. }0.5\\\\\n",
    "\\Delta & \\text{with prob. }0.5 \n",
    "\\end{cases}\\\\\n",
    "l_{1} &\\in& \\{0,1\\}\\\\\n",
    "\\end{eqnarray*}\n",
    "$$\n",
    "\n",
    "where $\\beta$ is the **discount factor** and $\\mathbb{E}_{1}\\left[v_2(h_2)\\right]$ is the **expected value of living in period two**."
   ]
  },
  {
   "cell_type": "markdown",
   "metadata": {},
   "source": [
    "The **parameters** of the model are:"
   ]
  },
  {
   "cell_type": "code",
   "execution_count": 7,
   "metadata": {},
   "outputs": [],
   "source": [
    "rho = 2\n",
    "beta = 0.96\n",
    "gamma = 0.1\n",
    "w = 2\n",
    "b = 1\n",
    "Delta = 0.1"
   ]
  },
  {
   "cell_type": "markdown",
   "metadata": {},
   "source": [
    "The **relevant levels of human capital** are:"
   ]
  },
  {
   "cell_type": "code",
   "execution_count": 8,
   "metadata": {},
   "outputs": [],
   "source": [
    "h_vec = np.linspace(0.1,1.5,100) "
   ]
  },
  {
   "cell_type": "markdown",
   "metadata": {},
   "source": [
    "**Question 1:** Solve the model in period 2 and illustrate the solution (including labor supply as a function of human capital). "
   ]
  },
  {
   "cell_type": "markdown",
   "metadata": {},
   "source": [
    "We start by defining the basic functions of the model, i.e. consumption, utility, disutility and the value of life (the worker's problem)"
   ]
  },
  {
   "cell_type": "code",
   "execution_count": 9,
   "metadata": {},
   "outputs": [],
   "source": [
    "def c(h,l):\n",
    "    if l==1:\n",
    "        return w*h*l # Consumption when working\n",
    "    elif l==0:\n",
    "        return b # Consumption when not working\n",
    "\n",
    "# Utility function\n",
    "def utility(h,l):\n",
    "    return (c(h,l)**(1-rho))/(1-rho)\n",
    "\n",
    "# Disutility when working\n",
    "def disutility(l):\n",
    "    return gamma*l\n",
    "\n",
    "# Consumer's value of life in period 2 dependent on human capital and working status\n",
    "def v2(h2,l2):\n",
    "    return utility(h2,l2)-disutility(l2)\n",
    "\n",
    "# Consumer's value of life in period 1 dependent on human capital and working status\n",
    "def v1(h1,l1,v2_interp):\n",
    "    \n",
    "    # v2 when human capital have low value to the consumer\n",
    "    h2_low = h1 + l1\n",
    "    v2_low = v2_interp([h2_low])[0]\n",
    "    \n",
    "    # v2 when human capital have high value to the consumer\n",
    "    h2_high = h1 + l1 + Delta\n",
    "    v2_high = v2_interp([h2_high])[0]\n",
    "    \n",
    "    # Expected value of life\n",
    "    exp_v2 = 0.5*v2_low + 0.5*v2_high\n",
    "    \n",
    "    # Value of life in period 1\n",
    "    return utility(h1,l1) - disutility(l1) + beta*exp_v2"
   ]
  },
  {
   "cell_type": "markdown",
   "metadata": {},
   "source": [
    "Next we depict the value of life in period 2 dependent on human capital the consumer's working status, by plotting the predetermined vector of human capital, h_vec, into the function of the consumer's value of life, v2."
   ]
  },
  {
   "cell_type": "code",
   "execution_count": 14,
   "metadata": {},
   "outputs": [
    {
     "data": {
      "image/png": "[encoded data removed]",
      "text/plain": [
       "<Figure size 432x288 with 1 Axes>"
      ]
     },
     "metadata": {
      "needs_background": "light"
     },
     "output_type": "display_data"
    }
   ],
   "source": [
    "# Plotting value of life in period 2 dependent on human capital.\n",
    "fig = plt.figure()\n",
    "ax = fig.add_subplot(1,1,1)\n",
    "ax.plot(h_vec,v2(h_vec,1),color=\"red\") # Value of life when working, l2=1\n",
    "ax.axhline(y=v2(h_vec,0), xmin=0, xmax =1, clip_on = False) # Value of life when not working, l2=0\n",
    "\n",
    "# Setting grid, labels, etc.\n",
    "ax.grid()\n",
    "ax.set_xlabel('Human capital')\n",
    "ax.set_ylabel('Value of life in peroid 2, $v_2$')\n",
    "ax.set_title('Value of life dependent in period 2')\n",
    "plt.legend(('Working, $l_2=1$','Not working, $l_2=0$'),loc='lower right');"
   ]
  },
  {
   "cell_type": "markdown",
   "metadata": {},
   "source": [
    "Then we solve the model in period 2, and plot labor supply as a function of human capital."
   ]
  },
  {
   "cell_type": "code",
   "execution_count": 13,
   "metadata": {},
   "outputs": [
    {
     "data": {
      "image/png": "[encoded data removed]",
      "text/plain": [
       "<Figure size 432x288 with 1 Axes>"
      ]
     },
     "metadata": {
      "needs_background": "light"
     },
     "output_type": "display_data"
    }
   ],
   "source": [
    "def sol2(h_vec):\n",
    "    # Creating grids\n",
    "    v2_vec =  np.empty(100)\n",
    "    l2_vec = np.empty(100)\n",
    "\n",
    "    # Solution for h2\n",
    "    for i, h in enumerate(h_vec):\n",
    "    \n",
    "        # Comparing the value of life when working or not, such that the consumer chooses whatever has the higher utility\n",
    "        if (v2(h,1) > v2(h,0)) == True: # If the consumer gets higher utility from working, then work (l2=1)\n",
    "            l2_vec[i] = 1\n",
    "        else: # if the consumer does not get higher utility from working, then do not work (l2=0)\n",
    "            l2_vec[i] = 0\n",
    "    \n",
    "        v2_vec[i] = v2(h,l2_vec[i])\n",
    "    \n",
    "    return v2_vec, l2_vec\n",
    "\n",
    "# Unpacking the solution\n",
    "v2_vec,l2_vec =  sol2(h_vec)\n",
    "\n",
    "# Then we plot the solution\n",
    "fig = plt.figure()\n",
    "ax = fig.add_subplot(1,1,1)\n",
    "ax.plot(h_vec,l2_vec)\n",
    "ax.grid()\n",
    "ax.set_xlabel('Human capital')\n",
    "ax.set_ylabel('Labor supply in period 2')\n",
    "ax.set_title('Labor supply dependent on human capital in period 2');"
   ]
  },
  {
   "cell_type": "markdown",
   "metadata": {},
   "source": [
    "We find the level of human capital required for the consumer to work by sympy (whoch is also indicated by the intercept of working/not working in the first figre and by the change labor supply in the second figure."
   ]
  },
  {
   "cell_type": "code",
   "execution_count": 12,
   "metadata": {},
   "outputs": [
    {
     "name": "stdout",
     "output_type": "stream",
     "text": [
      " When human capital is above  [0.555555555555556]  the consumer chooses to work\n"
     ]
    }
   ],
   "source": [
    "h2=sm.symbols('h_2')\n",
    "intercept = sm.Eq(1**(1-2)/(1-2),(h2*2*1)**(1-2)/(1-2)-0.1*1)\n",
    "solution_h2 = sm.solve(intercept,h2)\n",
    "print(f' When human capital is above ',solution_h2,f' the consumer chooses to work')"
   ]
  },
  {
   "cell_type": "markdown",
   "metadata": {},
   "source": [
    "**Question 2:** Solve the model in period 1 and illustrate the solution (including labor supply as a function of human capital). "
   ]
  },
  {
   "cell_type": "markdown",
   "metadata": {},
   "source": [
    "As we have already defined the basic functions, we start by finding the solution to the consumer's problem, i.e. at what leve of human capital she prefers to work, such that she obtains the optimal value of life is."
   ]
  },
  {
   "cell_type": "code",
   "execution_count": 15,
   "metadata": {},
   "outputs": [],
   "source": [
    "# Constructing the interpolator\n",
    "v2_interp = interpolate.RegularGridInterpolator((h_vec,),v2_vec,bounds_error=False,fill_value=None)\n",
    "\n",
    "# Finding solution\n",
    "def sol1(h_vec, v2_interp):\n",
    "    \n",
    "    # Creating grids\n",
    "    v1_vec =  np.empty(100)\n",
    "    l1_vec = np.empty(100)\n",
    "    \n",
    "    # Next we solve for each h1 in grid\n",
    "    for i,h1 in enumerate(h_vec):\n",
    "        if (v1(h1,1,v2_interp) > v1(h1,0,v2_interp)) == True: # If the consumer gets higher utility from working, then work (l2=1)\n",
    "            l1_vec[i] = 1\n",
    "        else: # if the consumer does not get higher utility from working, then do not work (l2=0)\n",
    "            l1_vec[i] = 0\n",
    "    \n",
    "        v1_vec[i] = v1(h1,l1_vec[i],v2_interp)\n",
    "    \n",
    "    return v1_vec, l1_vec"
   ]
  },
  {
   "cell_type": "code",
   "execution_count": 16,
   "metadata": {},
   "outputs": [],
   "source": [
    "# Unpacking the solution\n",
    "v1_vec, l1_vec =  sol1(h_vec, v2_interp)"
   ]
  },
  {
   "cell_type": "code",
   "execution_count": 17,
   "metadata": {},
   "outputs": [
    {
     "data": {
      "image/png": "[encoded data removed]",
      "text/plain": [
       "<Figure size 432x288 with 1 Axes>"
      ]
     },
     "metadata": {
      "needs_background": "light"
     },
     "output_type": "display_data"
    }
   ],
   "source": [
    "# Then we plot the solution\n",
    "fig = plt.figure()\n",
    "ax = fig.add_subplot(1,1,1)\n",
    "ax.plot(h_vec,l1_vec)\n",
    "ax.grid()\n",
    "ax.set_xlabel('Human Capital')\n",
    "ax.set_ylabel('Labor Supply')\n",
    "ax.set_title('Labor supply dependent on human capital in period 1');"
   ]
  },
  {
   "cell_type": "markdown",
   "metadata": {},
   "source": [
    "This level is also found by the use of sympy"
   ]
  },
  {
   "cell_type": "code",
   "execution_count": 18,
   "metadata": {},
   "outputs": [
    {
     "name": "stdout",
     "output_type": "stream",
     "text": [
      " When human capital is above  [0.555555555555556]  the consumer chooses to work\n"
     ]
    }
   ],
   "source": [
    "h2=sm.symbols('h_2')\n",
    "intercept = sm.Eq(1**(1-2)/(1-2),(h2*2*1)**(1-2)/(1-2)-0.1*1)\n",
    "solution_h2 = sm.solve(intercept,h2)\n",
    "print(f' When human capital is above ',solution_h2,f' the consumer chooses to work')"
   ]
  },
  {
   "cell_type": "code",
   "execution_count": 19,
   "metadata": {},
   "outputs": [
    {
     "data": {
      "image/png": "[encoded data removed]",
      "text/plain": [
       "<Figure size 432x288 with 1 Axes>"
      ]
     },
     "metadata": {
      "needs_background": "light"
     },
     "output_type": "display_data"
    }
   ],
   "source": [
    "# Plotting value of life in period 1 dependent on human capital.\n",
    "fig = plt.figure()\n",
    "ax = fig.add_subplot(1,1,1)\n",
    "ax.plot(h_vec,v1_vec) # Plotting optimal value of life\n",
    "ax.grid()\n",
    "ax.set_xlabel('Human capital')\n",
    "ax.set_ylabel('Value of life in peroid 1, $v_2$')\n",
    "ax.set_title('Value of life dependent in period 1');"
   ]
  },
  {
   "cell_type": "markdown",
   "metadata": {},
   "source": [
    "**Question 3:** Will the worker never work if her potential wage income is lower than the unemployment benefits she can get? Explain and illustrate why or why not."
   ]
  },
  {
   "cell_type": "markdown",
   "metadata": {},
   "source": [
    "From the result of Q1 and Q2, we note that a high level of human capital is required for the consumer to work in period 2 than in period 2. Thus, if she never works when potential wage income is lower than the unemployment benefits she can get in period 1, nor would she ever work under the same conditions in period 2. Herefor we consider only period 1.\n",
    "\n",
    "We consider a case when her pay is marginal lower than her benefit, i.e. $w_l=0.99$ and benefit is he same as before $b=1$."
   ]
  },
  {
   "cell_type": "code",
   "execution_count": 21,
   "metadata": {},
   "outputs": [],
   "source": [
    "w_l = 0.99\n",
    "\n",
    "# Redefining the consumption constraint\n",
    "def c_l(h,l):\n",
    "    if l==1:\n",
    "        return w_l*h*l # Consumption when working\n",
    "    elif l==0:\n",
    "        return b # Consumption when not working\n",
    "\n",
    "# Utility function\n",
    "def utility_l(h,l):\n",
    "    return (c_l(h,l)**(1-rho))/(1-rho)\n",
    "\n",
    "# Disutility when working\n",
    "def disutility(l):\n",
    "    return gamma*l\n",
    "\n",
    "# Consumer's value of life in period 2 dependent on human capital and working status\n",
    "def v2(h2,l2):\n",
    "    return utility_l(h2,l2)-disutility(l2)\n",
    "                                                                                 \n",
    "                                                                                 \n",
    "def v1_l(h1,l1,v2_interp):\n",
    "    \n",
    "    # v2 when human capital has low value to the consumer\n",
    "    h2_low = h1 + l1\n",
    "    v2_low = v2_interp([h2_low])[0]\n",
    "    \n",
    "    # v2 when human capital has high value to the consumer\n",
    "    h2_high = h1 + l1 + Delta\n",
    "    v2_high = v2_interp([h2_high])[0]\n",
    "    \n",
    "    # Expected value of life\n",
    "    exp_v2 = 0.5*v2_low + 0.5*v2_high\n",
    "    \n",
    "    # Value of life in period 1\n",
    "    return utility_l(h1,l1) - disutility(l1) + beta*exp_v2                                                                                 \n",
    "                                                                                 \n",
    "def sol1_l(h_vec, v2_interp):\n",
    "    \n",
    "    # Creating grids\n",
    "    v1_vec =  np.empty(100)\n",
    "    l1l_vec = np.empty(100)\n",
    "    \n",
    "    # Next we solve for each h1 in grid\n",
    "    for i,h1 in enumerate(h_vec):\n",
    "        if (v1_l(h1,1,v2_interp) > v1_l(h1,0,v2_interp)) == True: # If the consumer gets higher utility from working, then work (l2=1)\n",
    "            l1l_vec[i] = 1\n",
    "        else: # if the consumer does not get higher utility from working, then do not work (l2=0)\n",
    "            l1l_vec[i] = 0\n",
    "    \n",
    "        v1_vec[i] = v1(h1,l1l_vec[i],v2_interp)\n",
    "    \n",
    "    return v1_vec, l1l_vec\n",
    "\n",
    "v1_vec, l1l_vec = sol1_l(h_vec, v2_interp)"
   ]
  },
  {
   "cell_type": "code",
   "execution_count": 22,
   "metadata": {},
   "outputs": [
    {
     "data": {
      "image/png": "[encoded data removed]",
      "text/plain": [
       "<Figure size 432x288 with 1 Axes>"
      ]
     },
     "metadata": {
      "needs_background": "light"
     },
     "output_type": "display_data"
    }
   ],
   "source": [
    "# Plotting\n",
    "fig = plt.figure()\n",
    "ax = fig.add_subplot(1,1,1)\n",
    "ax.plot(h_vec,l1l_vec)\n",
    "ax.grid()\n",
    "ax.set_xlabel('Human Capital')\n",
    "ax.set_ylabel('Labor Supply')\n",
    "ax.set_title('Labor supply dependent on human capital in period 1');"
   ]
  },
  {
   "cell_type": "markdown",
   "metadata": {},
   "source": [
    "Thus when human capital is above 0.8, the consumer wants to work in period 1, even though her wage is lower than the benefits, $(w=0.99<b=1)$"
   ]
  },
  {
   "cell_type": "markdown",
   "metadata": {},
   "source": [
    "# 2. AS-AD model"
   ]
  },
  {
   "cell_type": "markdown",
   "metadata": {},
   "source": [
    "Consider the following **AS-AD model**. The **goods market equilibrium** is given by\n",
    "\n",
    "$$ y_{t} = -\\alpha r_{t} + v_{t} $$\n",
    "\n",
    "where $y_{t}$ is the **output gap**, $r_{t}$ is the **ex ante real interest** and $v_{t}$ is a **demand disturbance**. "
   ]
  },
  {
   "cell_type": "markdown",
   "metadata": {},
   "source": [
    "The central bank's **Taylor rule** is\n",
    "\n",
    "$$ i_{t} = \\pi_{t+1}^{e} + h \\pi_{t} + b y_{t}$$\n",
    "\n",
    "where $i_{t}$ is the **nominal interest rate**, $\\pi_{t}$ is the **inflation gap**, and $\\pi_{t+1}^{e}$ is the **expected inflation gap**. "
   ]
  },
  {
   "cell_type": "markdown",
   "metadata": {},
   "source": [
    "The **ex ante real interest rate** is given by \n",
    "\n",
    "$$ r_{t} = i_{t} - \\pi_{t+1}^{e} $$"
   ]
  },
  {
   "cell_type": "markdown",
   "metadata": {},
   "source": [
    "Together, the above implies that the **AD-curve** is\n",
    "\n",
    "$$ \\pi_{t} = \\frac{1}{h\\alpha}\\left[v_{t} - (1+b\\alpha)y_{t}\\right]$$"
   ]
  },
  {
   "cell_type": "markdown",
   "metadata": {},
   "source": [
    "Further, assume that the **short-run supply curve (SRAS)** is given by\n",
    "\n",
    "$$ \\pi_{t} = \\pi_{t}^{e} + \\gamma y_{t} + s_{t}$$\n",
    "\n",
    "where $s_t$ is a **supply disturbance**."
   ]
  },
  {
   "cell_type": "markdown",
   "metadata": {},
   "source": [
    "**Inflation expectations are adaptive** and given by\n",
    "\n",
    "$$ \\pi_{t}^{e} = \\phi\\pi_{t-1}^{e} + (1-\\phi)\\pi_{t-1}$$"
   ]
  },
  {
   "cell_type": "markdown",
   "metadata": {},
   "source": [
    "Together, this implies that the **SRAS-curve** can also be written as\n",
    "\n",
    "$$ \\pi_{t} = \\pi_{t-1} + \\gamma y_{t} - \\phi\\gamma y_{t-1} + s_{t} - \\phi s_{t-1} $$"
   ]
  },
  {
   "cell_type": "markdown",
   "metadata": {},
   "source": [
    "The **parameters** of the model are:"
   ]
  },
  {
   "cell_type": "code",
   "execution_count": 23,
   "metadata": {},
   "outputs": [],
   "source": [
    "par = {}\n",
    "\n",
    "par['alpha'] = 5.76\n",
    "par['h'] = 0.5\n",
    "par['b'] = 0.5\n",
    "par['phi'] = 0\n",
    "par['gamma'] = 0.075"
   ]
  },
  {
   "cell_type": "markdown",
   "metadata": {},
   "source": [
    "**Question 1:** Use the ``sympy`` module to solve for the equilibrium values of output, $y_t$, and inflation, $\\pi_t$, (where AD = SRAS) given the parameters ($\\alpha$, $h$, $b$, $\\alpha$, $\\gamma$) and $y_{t-1}$ , $\\pi_{t-1}$, $v_t$, $s_t$, and $s_{t-1}$."
   ]
  },
  {
   "cell_type": "code",
   "execution_count": 31,
   "metadata": {},
   "outputs": [],
   "source": [
    "# Importing the sympy module\n",
    "import sympy as sm\n",
    "sm.init_printing(use_unicode=True)"
   ]
  },
  {
   "cell_type": "code",
   "execution_count": 32,
   "metadata": {},
   "outputs": [],
   "source": [
    "# Defining the variables and the parameters of the model in terms of sympy\n",
    "y = sm.symbols('y_t')\n",
    "pi = sm.symbols('pi_t')\n",
    "y1 = sm.symbols('y_t-1')\n",
    "pi1 = sm.symbols('pi_t-1')\n",
    "v = sm.symbols('v_t')\n",
    "s = sm.symbols('s_t')\n",
    "s1 = sm.symbols('s_t-1')\n",
    "gamma = sm.symbols('gamma')\n",
    "alpha = sm.symbols('alpha')\n",
    "h = sm.symbols('h')\n",
    "b = sm.symbols('b')\n",
    "phi = sm.symbols('phi')\n",
    "\n",
    "# Defining the AD and SRAS equations in terms of the sympy variables\n",
    "SRAS = pi1 + gamma*y-phi*gamma*y1+s-phi*s1\n",
    "AD = 1/(h*alpha)*(v-(1+b*alpha)*y)"
   ]
  },
  {
   "cell_type": "code",
   "execution_count": 33,
   "metadata": {},
   "outputs": [],
   "source": [
    "# We set SRAS equal to AS \n",
    "SRAS_AD = sm.Eq(SRAS, AD)"
   ]
  },
  {
   "cell_type": "code",
   "execution_count": 34,
   "metadata": {},
   "outputs": [],
   "source": [
    "y_st = sm.solve(SRAS_AD, y)"
   ]
  },
  {
   "cell_type": "code",
   "execution_count": 35,
   "metadata": {},
   "outputs": [
    {
     "name": "stdout",
     "output_type": "stream",
     "text": [
      "The optimal value for y in equilibrium is:\n"
     ]
    },
    {
     "data": {
      "image/png": "[encoded data removed]",
      "text/latex": [
       "$$\\left [ \\frac{\\alpha \\gamma h \\phi y_{t-1} + \\alpha h \\phi s_{t-1} - \\alpha h \\pi_{t-1} - \\alpha h s_{t} + v_{t}}{\\alpha b + \\alpha \\gamma h + 1}\\right ]$$"
      ],
      "text/plain": [
       "⎡α⋅γ⋅h⋅φ⋅yₜ₋₁ + α⋅h⋅φ⋅sₜ₋₁ - α⋅h⋅πₜ₋₁ - α⋅h⋅sₜ + vₜ⎤\n",
       "⎢──────────────────────────────────────────────────⎥\n",
       "⎣                 α⋅b + α⋅γ⋅h + 1                  ⎦"
      ]
     },
     "execution_count": 35,
     "metadata": {},
     "output_type": "execute_result"
    }
   ],
   "source": [
    "print(f'The optimal value for y in equilibrium is:')\n",
    "y_st"
   ]
  },
  {
   "cell_type": "markdown",
   "metadata": {},
   "source": [
    "We can now find the value for $\\pi_t$ given the value for $y_t$"
   ]
  },
  {
   "cell_type": "code",
   "execution_count": 36,
   "metadata": {},
   "outputs": [],
   "source": [
    "pi_st = 1/(h*alpha)*(v-(1+b*alpha)*y_st[0])  # we add [0] as y_t is a list with one element at index 0"
   ]
  },
  {
   "cell_type": "code",
   "execution_count": 37,
   "metadata": {},
   "outputs": [
    {
     "name": "stdout",
     "output_type": "stream",
     "text": [
      "The optimal value for pi in equilibrium is:\n"
     ]
    },
    {
     "data": {
      "image/png": "[encoded data removed]",
      "text/latex": [
       "$$\\frac{v_{t} - \\frac{\\left(\\alpha b + 1\\right) \\left(\\alpha \\gamma h \\phi y_{t-1} + \\alpha h \\phi s_{t-1} - \\alpha h \\pi_{t-1} - \\alpha h s_{t} + v_{t}\\right)}{\\alpha b + \\alpha \\gamma h + 1}}{\\alpha h}$$"
      ],
      "text/plain": [
       "     (α⋅b + 1)⋅(α⋅γ⋅h⋅φ⋅yₜ₋₁ + α⋅h⋅φ⋅sₜ₋₁ - α⋅h⋅πₜ₋₁ - α⋅h⋅sₜ + vₜ)\n",
       "vₜ - ──────────────────────────────────────────────────────────────\n",
       "                            α⋅b + α⋅γ⋅h + 1                        \n",
       "───────────────────────────────────────────────────────────────────\n",
       "                                α⋅h                                "
      ]
     },
     "execution_count": 37,
     "metadata": {},
     "output_type": "execute_result"
    }
   ],
   "source": [
    "print(f'The optimal value for pi in equilibrium is:')\n",
    "pi_st"
   ]
  },
  {
   "cell_type": "markdown",
   "metadata": {},
   "source": [
    "**Question 2:** Find and illustrate the equilibrium when $y_{t-1} = \\pi_{t-1} = v_t = s_t = s_{t-1} = 0$. Illustrate how the equilibrium changes when instead $v_t = 0.1$."
   ]
  },
  {
   "cell_type": "markdown",
   "metadata": {},
   "source": [
    "Firstly we turn our sympy functions into numerically functions such that we can solve for $y_t$ and $\\pi_t$"
   ]
  },
  {
   "cell_type": "code",
   "execution_count": 38,
   "metadata": {},
   "outputs": [],
   "source": [
    "y_num = sm.lambdify((v,alpha,b,gamma,h,phi,y1,pi1,s,s1),y_st[0])\n",
    "pi_num = sm.lambdify((v,alpha,b,gamma,h,phi,y1,pi1,s,s1), pi_st)"
   ]
  },
  {
   "cell_type": "markdown",
   "metadata": {},
   "source": [
    "Next, we define output and inflation as functions, $y_t$ and $\\pi_t$"
   ]
  },
  {
   "cell_type": "code",
   "execution_count": 39,
   "metadata": {},
   "outputs": [],
   "source": [
    "def y_func(v,y1,pi1,s,s1):\n",
    "    return y_num(v,par['alpha'],par['b'],par['gamma'],par['h'],par['phi'],y1,pi1,s,s1)\n",
    "\n",
    "def pi_func(v,y1,pi1,s,s1):\n",
    "    return pi_num(v,par['alpha'],par['b'],par['gamma'],par['h'],par['phi'],y1,pi1,s,s1)"
   ]
  },
  {
   "cell_type": "markdown",
   "metadata": {},
   "source": [
    "For $y_{t-1} = \\pi_{t-1} = v_t = s_t = s_{t-1} = 0$ we get that $y_t$ and $\\pi_t$ in equilibrium are: "
   ]
  },
  {
   "cell_type": "code",
   "execution_count": 40,
   "metadata": {},
   "outputs": [
    {
     "name": "stdout",
     "output_type": "stream",
     "text": [
      "y in equilibrium: 0.0\n",
      "pi in equilibrium: 0.0\n"
     ]
    }
   ],
   "source": [
    "print(f'y in equilibrium:',y_func(v=0,y1=0,pi1=0,s=0,s1=0))\n",
    "print(f'pi in equilibrium:',pi_func(v=0,y1=0,pi1=0,s=0,s1=0))"
   ]
  },
  {
   "cell_type": "markdown",
   "metadata": {},
   "source": [
    "For the demand shock $v_t=0.1$ we get that $y_t$ and $\\pi_t$ are:"
   ]
  },
  {
   "cell_type": "code",
   "execution_count": 41,
   "metadata": {},
   "outputs": [
    {
     "name": "stdout",
     "output_type": "stream",
     "text": [
      "y when v_t=0.1: 0.0244140625\n",
      "pi when v_t=0.1: 0.001831054687500002\n"
     ]
    }
   ],
   "source": [
    "print(f'y when v_t=0.1:',y_func(v=0.1,y1=0,pi1=0,s=0,s1=0))\n",
    "print(f'pi when v_t=0.1:',pi_func(v=0.1,y1=0,pi1=0,s=0,s1=0))"
   ]
  },
  {
   "cell_type": "markdown",
   "metadata": {},
   "source": [
    "To illustrate this graphically we define our AD and SRAS curves numerically "
   ]
  },
  {
   "cell_type": "code",
   "execution_count": 42,
   "metadata": {},
   "outputs": [],
   "source": [
    "def SRAS_fun(pi1,s,s1,y): \n",
    "    return pi1 + par['gamma']*y-par['phi']*par['gamma']*y1+s-par['phi']*s1\n",
    "\n",
    "def AD_fun(v,y):\n",
    "    return 1/(par['h']*par['alpha'])*(v-(1+par['b']*par['alpha'])*y)"
   ]
  },
  {
   "cell_type": "code",
   "execution_count": 43,
   "metadata": {},
   "outputs": [
    {
     "data": {
      "image/png": "[encoded data removed]",
      "text/plain": [
       "<Figure size 432x288 with 1 Axes>"
      ]
     },
     "metadata": {
      "needs_background": "light"
     },
     "output_type": "display_data"
    }
   ],
   "source": [
    "# Plotting the AD and SRAS curve before and after the shock\n",
    "pi1 = 0 \n",
    "s = 0 \n",
    "s1 = 0 \n",
    "v = 0 \n",
    "v_shock = 0.1\n",
    "y = np.linspace(-0.5,0.5,100)\n",
    "\n",
    "AD_new = AD_fun(v,y)\n",
    "AD_shock = AD_fun(v_shock,y)\n",
    "SRAS_new = SRAS_fun(pi1,s,s1,y)\n",
    "\n",
    "\n",
    "fig = plt.figure()\n",
    "ax = fig.add_subplot(1,1,1)\n",
    "ax.plot(y, AD_new, label='AD in equilibrium')\n",
    "ax.plot(y, AD_shock, label='AD with demand shock, $v_1=0.1$')\n",
    "ax.plot(y, SRAS_new, label='SRAS in equilibrium')\n",
    "ax.set_xlabel('output gap, $y_t$')\n",
    "ax.set_ylabel('inflation gap, $pi_t$')\n",
    "ax.set_title ('AS-AD model with positive demand shock')\n",
    "ax.grid()\n",
    "ax.legend();"
   ]
  },
  {
   "cell_type": "markdown",
   "metadata": {},
   "source": [
    "**Persistent disturbances:** Now, additionaly, assume that both the demand and the supply disturbances are AR(1) processes\n",
    "\n",
    "$$ v_{t} = \\delta v_{t-1} + x_{t} $$\n",
    "$$ s_{t} = \\omega s_{t-1} + c_{t} $$\n",
    "\n",
    "where $x_{t}$ is a **demand shock**, and $c_t$ is a **supply shock**. The **autoregressive parameters** are:"
   ]
  },
  {
   "cell_type": "code",
   "execution_count": 48,
   "metadata": {},
   "outputs": [],
   "source": [
    "par['delta'] = 0.80\n",
    "par['omega'] = 0.15"
   ]
  },
  {
   "cell_type": "markdown",
   "metadata": {},
   "source": [
    "**Question 3:** Starting from $y_{-1} = \\pi_{-1} = s_{-1} = 0$, how does the economy evolve for $x_0 = 0.1$, $x_t = 0, \\forall t > 0$ and $c_t = 0, \\forall t \\geq 0$?"
   ]
  },
  {
   "cell_type": "code",
   "execution_count": 49,
   "metadata": {},
   "outputs": [],
   "source": [
    "par['sigma_x'] = 3.492\n",
    "par['sigma_c'] = 0.2"
   ]
  },
  {
   "cell_type": "markdown",
   "metadata": {},
   "source": [
    "To examine the evolution of the economy after a persistent shock, $x_0=0.1$, we consider output gap and inflation gap within 100 periods."
   ]
  },
  {
   "cell_type": "code",
   "execution_count": 50,
   "metadata": {},
   "outputs": [],
   "source": [
    "# Defining the autoregressive shocks\n",
    "def v_ar(v1,x):\n",
    "    return par['delta']*v1+x\n",
    "\n",
    "def s_ar(s1,c):\n",
    "    return par['omega']*s1+c\n",
    "\n",
    "# Setting initial values\n",
    "T = 100\n",
    "pi_vec = [0]\n",
    "y_vec = [0]\n",
    "s_vec = [0]\n",
    "v_vec = [0]\n",
    "c_vec = np.zeros(T)\n",
    "x_vec = np.zeros(T)\n",
    "x_vec[1] = 0.1\n",
    "\n",
    "# Simulation\n",
    "for t in range(1,T):\n",
    "    s_vec.append(s_ar(s_vec[t-1],c_vec[t])) # appending the ar-process to the s-vector\n",
    "    v_vec.append(v_ar(v_vec[t-1],x_vec[t])) # appending the ar-process to the v-vector\n",
    "\n",
    "    y_vec.append(y_func(v_vec[t],y_vec[t-1],pi_vec[t-1],s_vec[t],s_vec[t-1])) # appending all vectors to output \n",
    "    pi_vec.append(pi_func(v_vec[t],y_vec[t-1],pi_vec[t-1],s_vec[t],s_vec[t-1])) # appending all vectors to inflation"
   ]
  },
  {
   "cell_type": "code",
   "execution_count": 51,
   "metadata": {},
   "outputs": [
    {
     "data": {
      "image/png": "[encoded data removed]",
      "text/plain": [
       "<Figure size 432x288 with 1 Axes>"
      ]
     },
     "metadata": {
      "needs_background": "light"
     },
     "output_type": "display_data"
    }
   ],
   "source": [
    "# Creating an empty time-vector, to be able to plot the figure:\n",
    "time = np.linspace(1,T,T)\n",
    "\n",
    "# Plotting the result\n",
    "fig = plt.figure()\n",
    "plt.axes()\n",
    "ax = fig.add_subplot(1,1,1)\n",
    "ax.plot(time, y_vec)\n",
    "ax.plot(time, pi_vec)\n",
    "ax.set_xlabel('time')\n",
    "ax.set_ylabel('Inflation- and output gap')\n",
    "ax.set_title('Evolution of economy after demand shock, $v_t=0.1$')\n",
    "ax.grid()"
   ]
  },
  {
   "cell_type": "markdown",
   "metadata": {},
   "source": [
    "**Stochastic shocks:** Now, additionally, assume that $x_t$ and $c_t$ are stochastic and normally distributed\n",
    "\n",
    "$$ x_{t}\\sim\\mathcal{N}(0,\\sigma_{x}^{2}) $$\n",
    "$$ c_{t}\\sim\\mathcal{N}(0,\\sigma_{c}^{2}) $$\n",
    "\n",
    "The **standard deviations of the shocks** are:"
   ]
  },
  {
   "cell_type": "markdown",
   "metadata": {},
   "source": [
    "**Question 4:** Simulate the AS-AD model for 1,000 periods. Calculate the following five statistics:\n",
    "\n",
    "1. Variance of $y_t$, $var(y_t)$\n",
    "2. Variance of $\\pi_t$, $var(\\pi_t)$\n",
    "3. Correlation between $y_t$ and $\\pi_t$, $corr(y_t,\\pi_t)$\n",
    "4. Auto-correlation between $y_t$ and $y_{t-1}$, $corr(y_t,y_{t-1})$\n",
    "5. Auto-correlation between $\\pi_t$ and $\\pi_{t-1}$, $corr(\\pi_t,\\pi_{t-1})$"
   ]
  },
  {
   "cell_type": "code",
   "execution_count": 53,
   "metadata": {},
   "outputs": [],
   "source": [
    "np.random.seed(2608)\n",
    "# Redefining time\n",
    "T_stoc = 1000\n",
    "pi_stoc_vec = [0]\n",
    "y_stoc_vec = [0]\n",
    "s_stoc_vec = [0]\n",
    "v_stoc_vec = [0]\n",
    "c_stoc_vec = np.random.normal(loc=0.0,scale=par['sigma_c'],size=1000)\n",
    "x_stoc_vec = np.random.normal(loc=0.0,scale=par['sigma_x'],size=1000)\n",
    "\n",
    "\n",
    "for t in range(1,T_stoc):\n",
    "    s_stoc_vec.append(s_ar(s_stoc_vec[t-1],c_stoc_vec[t])) # appending the ar-process to the s-vector\n",
    "    v_stoc_vec.append(v_ar(v_stoc_vec[t-1],x_stoc_vec[t])) # appending the ar-process to the v-vector\n",
    "\n",
    "    y_stoc_vec.append(y_func(v_stoc_vec[t],y_stoc_vec[t-1],pi_stoc_vec[t-1],s_stoc_vec[t],s_stoc_vec[t-1])) # appending all vectors to output \n",
    "    pi_stoc_vec.append(pi_func(v_stoc_vec[t],y_stoc_vec[t-1],pi_stoc_vec[t-1],s_stoc_vec[t],s_stoc_vec[t-1])) # appending all vectors to inflation"
   ]
  },
  {
   "cell_type": "code",
   "execution_count": 54,
   "metadata": {},
   "outputs": [
    {
     "data": {
      "image/png": "[encoded data removed]",
      "text/plain": [
       "<Figure size 432x288 with 1 Axes>"
      ]
     },
     "metadata": {
      "needs_background": "light"
     },
     "output_type": "display_data"
    }
   ],
   "source": [
    "# Creating an empty time-vector, to be able to plot the figure:\n",
    "time2 = np.linspace(1,T_stoc,T_stoc)\n",
    "\n",
    "# Plotting the result\n",
    "fig = plt.figure()\n",
    "plt.axes()\n",
    "ax = fig.add_subplot(1,1,1)\n",
    "ax.plot(time2, y_stoc_vec)\n",
    "ax.plot(time2, pi_stoc_vec)\n",
    "ax.set_xlabel('time')\n",
    "ax.set_ylabel('inflation- and output gap')\n",
    "ax.set_title('Simulation of the AS-AD model for 1,000 periods')\n",
    "ax.grid()"
   ]
  },
  {
   "cell_type": "code",
   "execution_count": 55,
   "metadata": {},
   "outputs": [
    {
     "name": "stdout",
     "output_type": "stream",
     "text": [
      "var(y_t) = 1.833\n",
      "var(pi_t) = 1.036\n",
      "ac(y_t) = 0.757\n",
      "ac(pi_t) = 0.975\n",
      "corr(y_t,pi_t) = -0.156\n"
     ]
    }
   ],
   "source": [
    "# Calculationg statistics using numpy\n",
    "var_y = np.var(y_stoc_vec)\n",
    "var_pi = np.var(pi_stoc_vec)\n",
    "ac_pi = np.corrcoef(pi_stoc_vec[1:T_stoc],pi_stoc_vec[0:-1])\n",
    "ac_y = np.corrcoef(y_stoc_vec[1:],y_stoc_vec[:-1])\n",
    "corr_ypi = np.corrcoef(y_stoc_vec,pi_stoc_vec)\n",
    "\n",
    "# Printing the result\n",
    "print(f'var(y_t) = {var_y:.3f}')\n",
    "print(f'var(pi_t) = {var_pi:.3f}')\n",
    "# For the correlation function, numpy return a matrix of correlations of  y_t with y_t, y_t with y_t-1 etc. Hence we refer to the first number in the first line to find the correlation between the numbers \n",
    "print(f'ac(y_t) = {ac_y[0,1]:.3f}')\n",
    "print(f'ac(pi_t) = {ac_pi[0,1]:.3f}')\n",
    "print(f'corr(y_t,pi_t) = {corr_ypi[0,1]:.3f}')"
   ]
  },
  {
   "cell_type": "markdown",
   "metadata": {},
   "source": [
    "**Question 5:** Plot how the correlation between $y_t$ and $\\pi_t$ changes with $\\phi$. Use a numerical optimizer or root finder to choose $\\phi\\in(0,1)$ such that the simulated correlation between $y_t$ and $\\pi_t$ comes close to 0.31. "
   ]
  },
  {
   "cell_type": "code",
   "execution_count": 56,
   "metadata": {},
   "outputs": [],
   "source": [
    "# Redefining functions for output and inflaiton gap in terms of phi as a variable and not a parameter\n",
    "def y_func_corr(phi,v,y1,pi1,s,s1):\n",
    "    return y_num(v,par['alpha'],par['b'],par['gamma'],par['h'],phi,y1,pi1,s,s1)\n",
    "\n",
    "def pi_func_corr(phi,v,y1,pi1,s,s1):\n",
    "    return pi_num(v,par['alpha'],par['b'],par['gamma'],par['h'],phi,y1,pi1,s,s1)\n",
    "\n",
    "# Defining af function for correlation between output and inflation\n",
    "def correlation(phi):\n",
    "    \n",
    "    # Redefining initial values, time and seed\n",
    "    pi_corr = [0]\n",
    "    y_corr = [0]\n",
    "    s_corr = [0]\n",
    "    v_corr = [0]\n",
    "    T_corr = 1000 \n",
    "    np.random.seed(2608)\n",
    "   \n",
    "    for t in range(1,T_corr):\n",
    "        s_corr.append(s_ar(s_corr[t-1],c_vec[t]))\n",
    "        v_corr.append(v_ar(v_corr[t-1],x_vec[t]))\n",
    "        \n",
    "        pi_corr.append(pi_func_corr(phi,v_corr[t],y_corr[t-1],pi_corr[t-1],s_corr[t],s_corr[t-1]))\n",
    "        y_corr.append(y_func_corr(phi,v_corr[t],y_corr[t-1],pi_corr[t-1],s_corr[t],s_corr[t-1]))\n",
    "        \n",
    "        correlation = np.corrcoef(y_corr,pi_corr)[1,0]\n",
    "        \n",
    "        return correlation"
   ]
  },
  {
   "cell_type": "code",
   "execution_count": 57,
   "metadata": {},
   "outputs": [
    {
     "data": {
      "text/plain": [
       "[<matplotlib.lines.Line2D at 0xb23b78128>]"
      ]
     },
     "execution_count": 57,
     "metadata": {},
     "output_type": "execute_result"
    },
    {
     "data": {
      "image/png": "[encoded data removed]",
      "text/plain": [
       "<Figure size 432x288 with 1 Axes>"
      ]
     },
     "metadata": {
      "needs_background": "light"
     },
     "output_type": "display_data"
    }
   ],
   "source": [
    "corr_ypi = []\n",
    "phi_vec = np.linspace(1e-8,1,T_stoc)\n",
    "\n",
    "for i in phi_vec:\n",
    "    corr_ypi.append(correlation(phi=i))\n",
    "\n",
    "\n",
    "plt.plot(phi_vec,corr_ypi)"
   ]
  },
  {
   "cell_type": "code",
   "execution_count": 58,
   "metadata": {},
   "outputs": [],
   "source": [
    "# First we plot how the correlation between inflation and output gap depend on phi.\n",
    "\n",
    "# Redefining functions for output and inflaiton gap in terms of phi as a variable\n",
    "def y_phi_func(phi,v,y1,pi1,s,s1):\n",
    "    return y_num(v,par['alpha'],par['b'],par['gamma'],par['h'],phi,y1,pi1,s,s1)\n",
    "\n",
    "def pi_phi_func(phi,v,y1,pi1,s,s1):\n",
    "    return pi_num(v,par['alpha'],par['b'],par['gamma'],par['h'],phi,y1,pi1,s,s1)\n",
    "\n",
    "# Defining initial values for the vectors needed in the simulation\n",
    "def corr_1(phi):\n",
    "    \n",
    "    # Redefining initial values\n",
    "    T_phi = 1000\n",
    "    v_phi_vec = [0]\n",
    "    s_phi_vec = [0]\n",
    "    c_phi_vec = np.random.normal(loc=0.0,scale=par['sigma_c'],size=1000)\n",
    "    x_phi_vec = np.random.normal(loc=0.0,scale=par['sigma_x'],size=1000)\n",
    "    pi_phi_vec = [0]\n",
    "    y_phi_vec = [0]\n",
    "    corr_vec = [0]\n",
    "    \n",
    "    for t in range(1,T_stoc):\n",
    "        s_phi_vec.append(s_ar(s_phi_vec[t-1],c_phi_vec[t])) # appending the ar-process to the s-vector\n",
    "        v_phi_vec.append(v_ar(v_phi_vec[t-1],x_phi_vec[t])) # appending the ar-process to the v-vector\n",
    "\n",
    "        y_phi_vec.append(y_phi_func(phi,v_phi_vec[t],y_phi_vec[t-1],pi_phi_vec[t-1],s_phi_vec[t],s_phi_vec[t-1])) # appending all vectors to output \n",
    "        pi_phi_vec.append(pi_phi_func(phi,v_phi_vec[t],y_phi_vec[t-1],pi_phi_vec[t-1],s_phi_vec[t],s_phi_vec[t-1])) # appending all vectors to inflation\n",
    "    \n",
    "    corr_phi = np.corrcoef(y_phi_vec,pi_phi_vec)\n",
    "    \n",
    "    result=corr_phi[0,1]\n",
    "    \n",
    "    return result"
   ]
  },
  {
   "cell_type": "code",
   "execution_count": 59,
   "metadata": {},
   "outputs": [
    {
     "data": {
      "text/plain": [
       "[<matplotlib.lines.Line2D at 0xb2410dbe0>]"
      ]
     },
     "execution_count": 59,
     "metadata": {},
     "output_type": "execute_result"
    },
    {
     "data": {
      "image/png": "[encoded data removed]",
      "text/plain": [
       "<Figure size 432x288 with 1 Axes>"
      ]
     },
     "metadata": {
      "needs_background": "light"
     },
     "output_type": "display_data"
    }
   ],
   "source": [
    "corr_test1 =[]\n",
    "phi_vec1 = np.linspace(1e-8,1,1000)\n",
    "\n",
    "for i in phi_vec1:\n",
    "    corr_test1.append(corr_1(phi=i))\n",
    "\n",
    "plt.plot(phi_vec1,corr_test1)"
   ]
  },
  {
   "cell_type": "markdown",
   "metadata": {},
   "source": [
    "**Quesiton 6:** Use a numerical optimizer to choose $\\sigma_x>0$, $\\sigma_c>0$ and $\\phi\\in(0,1)$ to make the simulated statistics as close as possible to US business cycle data where:\n",
    "\n",
    "1. $var(y_t) = 1.64$\n",
    "2. $var(\\pi_t) = 0.21$\n",
    "3. $corr(y_t,\\pi_t) = 0.31$\n",
    "4. $corr(y_t,y_{t-1}) = 0.84$\n",
    "5. $corr(\\pi_t,\\pi_{t-1}) = 0.48$"
   ]
  },
  {
   "cell_type": "markdown",
   "metadata": {},
   "source": [
    "# 3. Exchange economy"
   ]
  },
  {
   "cell_type": "markdown",
   "metadata": {},
   "source": [
    "Consider an **exchange economy** with\n",
    "\n",
    "1. 3 goods, $(x_1,x_2,x_3)$\n",
    "2. $N$ consumers indexed by \\\\( j \\in \\{1,2,\\dots,N\\} \\\\)\n",
    "3. Preferences are Cobb-Douglas with log-normally distributed coefficients\n",
    "\n",
    "    $$ \\begin{eqnarray*}\n",
    "    u^{j}(x_{1},x_{2},x_{3}) &=& \n",
    "    \\left(x_{1}^{\\beta_{1}^{j}}x_{2}^{\\beta_{2}^{j}}x_{3}^{\\beta_{3}^{j}}\\right)^{\\gamma}\\\\\n",
    "     &  & \\,\\,\\,\\beta_{i}^{j}=\\frac{\\alpha_{i}^{j}}{\\alpha_{1}^{j}+\\alpha_{2}^{j}+\\alpha_{3}^{j}} \\\\\n",
    "     &  & \\,\\,\\,\\boldsymbol{\\alpha}^{j}=(\\alpha_{1}^{j},\\alpha_{2}^{j},\\alpha_{3}^{j}) \\\\ \n",
    "     &  & \\,\\,\\,\\log(\\boldsymbol{\\alpha}^j) \\sim \\mathcal{N}(\\mu,\\Sigma) \\\\\n",
    "    \\end{eqnarray*} $$\n",
    "\n",
    "4. Endowments are exponentially distributed,\n",
    "\n",
    "$$\n",
    "\\begin{eqnarray*}\n",
    "\\boldsymbol{e}^{j} &=& (e_{1}^{j},e_{2}^{j},e_{3}^{j}) \\\\\n",
    " &  & e_i^j \\sim f, f(z;\\zeta) =  1/\\zeta \\exp(-z/\\zeta)\n",
    "\\end{eqnarray*}\n",
    "$$"
   ]
  },
  {
   "cell_type": "markdown",
   "metadata": {},
   "source": [
    "Let $p_3 = 1$ be the **numeraire**. The implied **demand functions** are:\n",
    "\n",
    "$$\n",
    "\\begin{eqnarray*}\n",
    "x_{i}^{\\star j}(p_{1},p_{2},\\boldsymbol{e}^{j})&=&\\beta^{j}_i\\frac{I^j}{p_{i}} \\\\\n",
    "\\end{eqnarray*}\n",
    "$$\n",
    "\n",
    "where consumer $j$'s income is\n",
    "\n",
    "$$I^j = p_1 e_1^j + p_2 e_2^j +p_3 e_3^j$$"
   ]
  },
  {
   "cell_type": "markdown",
   "metadata": {},
   "source": [
    "The **parameters** and **random preferences and endowments** are given by:"
   ]
  },
  {
   "cell_type": "code",
   "execution_count": 7,
   "metadata": {},
   "outputs": [],
   "source": [
    "# a. parameters\n",
    "N = 50000\n",
    "mu = np.array([3,2,1])\n",
    "Sigma = np.array([[0.25, 0, 0], [0, 0.25, 0], [0, 0, 0.25]])\n",
    "gamma = 0.8\n",
    "zeta = 1\n",
    "\n",
    "# b. random draws\n",
    "seed = 1986\n",
    "np.random.seed(seed)\n",
    "\n",
    "# preferences\n",
    "alphas = np.exp(np.random.multivariate_normal(mu, Sigma, size=N))\n",
    "betas = alphas/np.reshape(np.sum(alphas,axis=1),(N,1))\n",
    "\n",
    "# endowments\n",
    "e1 = np.random.exponential(zeta,size=N)\n",
    "e2 = np.random.exponential(zeta,size=N)\n",
    "e3 = np.random.exponential(zeta,size=N)"
   ]
  },
  {
   "cell_type": "markdown",
   "metadata": {},
   "source": [
    "**Question 1:** Plot the histograms of the budget shares for each good across agents.\n",
    "\n",
    "Consider the **excess demand functions:**\n",
    "\n",
    "$$ z_i(p_1,p_2) = \\sum_{j=1}^N x_{i}^{\\star j}(p_{1},p_{2},\\boldsymbol{e}^{j}) - e_i^j$$\n",
    "\n",
    "**Question 2:** Plot the excess demand functions."
   ]
  },
  {
   "cell_type": "markdown",
   "metadata": {},
   "source": [
    "**Quesiton 3:** Find the Walras-equilibrium prices, $(p_1,p_2)$, where both excess demands are (approximately) zero, e.g. by using the following tâtonnement process:\n",
    "\n",
    "1. Guess on $p_1 > 0$, $p_2 > 0$ and choose tolerance $\\epsilon > 0$ and adjustment aggressivity parameter, $\\kappa > 0$.\n",
    "2. Calculate $z_1(p_1,p_2)$ and $z_2(p_1,p_2)$.\n",
    "3. If $|z_1| < \\epsilon$ and $|z_2| < \\epsilon$ then stop.\n",
    "4. Else set $p_1 = p_1 + \\kappa \\frac{z_1}{N}$ and $p_2 = p_2 + \\kappa \\frac{z_2}{N}$ and return to step 2."
   ]
  },
  {
   "cell_type": "markdown",
   "metadata": {},
   "source": [
    "**Question 4:** Plot the distribution of utility in the Walras-equilibrium and calculate its mean and variance."
   ]
  },
  {
   "cell_type": "markdown",
   "metadata": {},
   "source": [
    "**Question 5:** Find the Walras-equilibrium prices if instead all endowments were distributed equally. Discuss the implied changes in the distribution of utility. Does the value of $\\gamma$ play a role for your conclusions?"
   ]
  }
 ],
 "metadata": {
  "kernelspec": {
   "display_name": "Python 3",
   "language": "python",
   "name": "python3"
  },
  "language_info": {
   "codemirror_mode": {
    "name": "ipython",
    "version": 3
   },
   "file_extension": ".py",
   "mimetype": "text/x-python",
   "name": "python",
   "nbconvert_exporter": "python",
   "pygments_lexer": "ipython3",
   "version": "3.7.1"
  },
  "toc-autonumbering": false
 },
 "nbformat": 4,
 "nbformat_minor": 2
}
